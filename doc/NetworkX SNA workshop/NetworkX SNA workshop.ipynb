{
 "cells": [
  {
   "cell_type": "markdown",
   "metadata": {},
   "source": [
    "# Social Network Analysis with Python and NetworkX\n",
    "\n",
    "Social Network Analysis (SNA) has a wide applicability in many scientific fields and industries. This workshop is a gentle introduction to SNA using Python and NetworkX, a powerful and mature python library for the study of the structure, dynamics, and functions of complex networks. Participants in this workshop should have a basic understanding of Python, no previous knowledge of SNA is assumed.\n",
    "\n",
    "For this workshop attendees will need to install NetworkX (>=1.11), Matplotlib (>=1.5), numpy (>=1.10) and have a working Jupyter Notebook environment. Some examples will also use Pandas (>=0.17) and Seaborn (>=0.7), but these packages are not essential. Only basic Python knowledge is assumed."
   ]
  },
  {
   "cell_type": "markdown",
   "metadata": {},
   "source": [
    "## Outline of the workshop\n",
    "\n",
    "1. Brief Introduction to Graph Theory\n",
    "    * Mathematical foundation of Social Network Analysis.\n",
    "    * Why graphical representations usually doesn't help much.    \n",
    "2. Creating and Manipulating Graphs\n",
    "    * Data Structures: Graphs, DiGraphs, MultiGraphs and MultiDiGraphs.\n",
    "    * Adding nodes and edges.\n",
    "    * Adding and updating node and edge attributes.\n",
    "    * Graph generators.\n",
    "    * Visualizing graphs using Matplotlib.\n",
    "    * Common formats for reading and writing Graphs. \n",
    "3. Network Analysis\n",
    "    * Basic concepts: Degree.\n",
    "    * Distance measures: paths, simple paths, and shortest paths.\n",
    "    * Node centrality analysis: measures and their relation.\n",
    "    * Analyzing groups and subgroups: Cliques, k-cores, components, and k-components.\n",
    "4. Bipartite Graphs\n",
    "    * Definition of bipartite networks and their use in modeling group affiliations.\n",
    "    * Working with bipartite networks with NetworkX."
   ]
  },
  {
   "cell_type": "markdown",
   "metadata": {},
   "source": [
    "## Brief Introduction to Graph Theory\n",
    "\n",
    "Social Network Analysis is an analytical approach to investigate social structures and phenomena which is based on Graph Theory. This approach is essentially relational and structural because it focuses on the patterns of relations between entities in a social system modeling them as **networked structures**.\n",
    "\n",
    "These networked structures are characterized in terms of **nodes** or **vertices** (individual actors, people, or things within the network) and the **edges** or **links** (relationships or interactions) that connect them. From a mathematical point of view, these networked structures are modeled as **Graphs**.\n",
    "\n",
    "We'll start with writing down some definitions that will be useful for reference in later parts of the workshop:"
   ]
  },
  {
   "cell_type": "markdown",
   "metadata": {},
   "source": [
    "\n",
    "* A **Graph** $G=(V,E)$ consists of a set $V(G)$ of $n$ nodes and a set $E(G)$ of $m$ edges, each one linking a pair of nodes. The **order** of $G$ is its number of nodes $n$ and the **size** of $G$ is its number of edges $m$. Two nodes are adjacent if there is an edge that links them, and this edge is said to be incident with the two nodes it links. \n",
    "\n",
    "* A **subgraph** of $G$ is a graph whose nodes and edges are all in $G$. An **induced subgraph** $G[U]$ is a subgraph defined by a subset of nodes $U \\subseteq V(G)$ with all the edges in $G$ that link nodes in $U$. A subgraph is **maximal** in respect to some property if the addition of more nodes to the subgraph will cause the loss of that property.\n",
    "\n",
    "* A **path** is an alternating sequence of distinct nodes and edges in which each edge is incident with its preceding and following nodes. The length of a path is the number of edges it contains. A graph is connected if every pair of nodes is joined at least by one path.\n",
    "\n",
    "* The **shortest path** between two nodes is a path with the minimum number of edges. The **distance** between any two nodes $u$ and $v$ of $G$, denoted $d_{G}(u,v)$, is the length of the shortest path between them. The **diameter** of a graph $G$, denoted $diam(G)$, is the length of the longest shortest path between any pair of nodes of $G$.\n",
    "\n",
    "* **Node independent paths** are paths between two nodes that share no nodes in common other than their starting and ending nodes.\n",
    "\n",
    "* A **component** of a graph $G$ is a maximal connected subgraph, which means that there is at least one path between any two nodes in that subgraph.\n",
    "\n",
    "* The **density** of a graph $G$, denoted $\\varrho(G)$, measures how many edges are in set $E(G)$ compared to the maximum possible number of edges among nodes in $V(G)$. Thus, density is calculated as $\\varrho(G) = \\frac{2m}{n(n-1)}$.\n",
    "\n",
    "* A **complete graph** is a graph in which all possible edges are present, so its density is 1. A **clique** is an induced subgraph $G[U]$ formed by a subset of nodes $U \\subseteq V(G)$ if, and only if, the induced subgraph $G[U]$ is a complete graph. Thus, there is an edge that links each pair of nodes in a clique. \n",
    "\n",
    "* The **degree** of a node $v$, denoted $deg(v)$, is the number of edges that are incident with $v$. The minimum degree of a graph $G$ is denoted $\\delta(G)$ and it is the smallest degree of a node in $G$.\n",
    "\n",
    "* A $k$-core of $G$ is a maximal subgraph in which all nodes have degree greater or equal than $k$; which means that a $k$-core is a maximal subgraph with the property $\\delta \\ge k$. The **core number** of a node is the largest value $k$ of a $k$-core containing that node.\n",
    "\n",
    "* The removal of a node $v$ from $G$ results in a subgraph $G - v$ that does not contain $v$ nor any of its incident edges.\n",
    "\n",
    "* The **node connectivity** of a graph $G$ is denoted $\\kappa(G)$ and is defined as the minimum number of nodes that must be removed in order to disconnect the graph $G$. Those nodes that must be removed to disconnect $G$ form a **node cut-set**. If it is only necessary to remove one node to disconnect $G$, this node is called an **articulation point**.\n",
    "\n",
    "* We can also define the **local node connectivity** for two nodes $u$ and $v$, denoted $\\kappa_{G}(u,v)$, as the minimum number of nodes that must be removed in order to destroy all paths that join $u$ and $v$ in $G$. Then the **node connectivity** of $G$ is equal to $min{\\{\\kappa_{G}(u,v):u,v \\in V(G)\\}}$.\n",
    "\n",
    "* Similarly, the **edge connectivity** of a graph $G$ is denoted $\\lambda(G)$ and is defined as the minimum number of edges that must be removed in order to disconnect the graph $G$. The edges that must be removed to disconnect $G$ form an **edge cut-set**.\n",
    "\n",
    "* A **$k$-component** is a maximal subgraph of a graph $G$ that has, at least, node connectivity $k$: we need to remove at least $k$ nodes to break it into more components. The **component number** of a node is the largest value $k$ of a $k$-component containing that node. Notice that $k$-components have an inherent hierarchical structure because they are nested in terms of connectivity: a connected graph can contain several 2-components, each of which can contain one or more tricomponents, and so forth. \n"
   ]
  },
  {
   "cell_type": "markdown",
   "metadata": {},
   "source": [
    "Usually networks and graphs are graphically represented in two dimensions by plotting nodes as dots and edges as lines joining these dots. These graphical representations are aestetically pleasing but they are seldom useful to gasp the structure of networks because they reduce to a two dimensional plot a set of relations that have a lot more dimensions.\n",
    "\n",
    "We'll brefly see how to plot Graphs using NetworkX and Matplotlib but the focus of this workshop will be the analysis of graphs."
   ]
  },
  {
   "cell_type": "markdown",
   "metadata": {},
   "source": [
    "## Creating and Manipulating Graphs using NetworkX\n",
    "\n",
    "NetworkX is a python package for the creation, manipulation, and study of the structure, dynamics, and functions of complex networks.\n",
    "\n",
    "The current version of NetworkX is 1.11 but the new 2.0 version will be released soon. The code provided in this workshop will work on both but if you know how to install the development version of NetworkX you will get better performance and more features."
   ]
  },
  {
   "cell_type": "code",
   "execution_count": 186,
   "metadata": {},
   "outputs": [
    {
     "name": "stdout",
     "output_type": "stream",
     "text": [
      "NetworkX version: 2.0.dev_20170518120143\n"
     ]
    }
   ],
   "source": [
    "import warnings\n",
    "warnings.filterwarnings('ignore')\n",
    "\n",
    "import networkx as nx\n",
    "import matplotlib.pyplot as plt\n",
    "%matplotlib inline\n",
    "print('NetworkX version: {}'.format(nx.__version__))"
   ]
  },
  {
   "cell_type": "markdown",
   "metadata": {},
   "source": [
    "### Data Structures: Graphs, DiGraphs, MultiGraphs and MultiDiGraphs\n",
    "\n",
    "\n",
    "* **Graph**: Undirected graph, allows self-loops\n",
    "\n",
    "* **DiGraph**: Directed graph, allows self-loops\n",
    "\n",
    "* **MultiGraph**: Undirected graph with parallel edges, allows self-loops\n",
    "\n",
    "* **MultiDiGraph**: Directed graph with parallel edges, allows self-loops"
   ]
  },
  {
   "cell_type": "code",
   "execution_count": 2,
   "metadata": {
    "collapsed": true
   },
   "outputs": [],
   "source": [
    "G = nx.Graph()\n",
    "D = nx.DiGraph()\n",
    "MG = nx.MultiGraph()\n",
    "MDG = nx.MultiDiGraph()"
   ]
  },
  {
   "cell_type": "markdown",
   "metadata": {},
   "source": [
    "#### Internal Graph representation\n",
    "Common graph representations, for instance of a complete undirected graph of 3 nodes (ie a triangle):"
   ]
  },
  {
   "cell_type": "code",
   "execution_count": 3,
   "metadata": {},
   "outputs": [
    {
     "data": {
      "image/png": "[encoded data removed]",
      "text/plain": [
       "<matplotlib.figure.Figure at 0x7fd1dadbd320>"
      ]
     },
     "metadata": {},
     "output_type": "display_data"
    }
   ],
   "source": [
    "G = nx.Graph()\n",
    "G.add_edges_from([('A', 'B'), ('A', 'C'), ('B', 'C')])\n",
    "nx.draw(G, node_size=800, node_color='white', with_labels=True)"
   ]
  },
  {
   "cell_type": "markdown",
   "metadata": {},
   "source": [
    "\n",
    "**Adjacency Matrix** A $n x n$ matrix:\n",
    "\n",
    "        0  1  1        G = [[0, 1, 1],\n",
    "        1  0  1             [1, 0, 1],\n",
    "        1  1  0             [1, 1, 0]]\n",
    "\n",
    "**Adjacency List** A list of neighbors:\n",
    "\n",
    "        A: B, C        G = {'A': ['B', 'C'],\n",
    "        B: A, C             'B': ['A', 'C'],\n",
    "        C: A, B             'C': ['A', 'B']} \n",
    "\n",
    "**Edge List** A list of edges:\n",
    "\n",
    "        A B            G = [['A', 'B'],\n",
    "        A C                 ['A', 'C'],\n",
    "        B C                 ['B', 'C']]\n",
    "\n",
    "NetworkX uses a __dictionary of dictionaries__ based **Adjacency List** format which is fast and ligthweight for sparse graphs. This approach is inspired on Guido van Rossum's essay [Python Patterns - Implementing Graphs](https://www.python.org/doc/essays/graphs/) and in the work of David Eppstein on [Python Algorithms and Data Structures](https://www.ics.uci.edu/~eppstein/PADS/).\n",
    "\n",
    "This approach allows for natural expressions such as:\n",
    "\n",
    "* **n in G** to test if the graph $G$ contains node $n$\n",
    "* **for n in G** to loop over all nodes\n",
    "* **G[n]** to access all neighbors of $n$ in $G$\n",
    "* **len(G)** to get the number of nodes in $G$\n",
    "\n",
    "Internally the node $n$ is a key in the $G.adj$ dictionary, values are themselves dictionaries with neighbors as keys and another dictionary as value that holds edge attributes.\n",
    "\n",
    "So NetworkX graphs are \"dictionaries all the way down\". This is not exactly true in version 2.0 but it is safe for users to think of it this way. "
   ]
  },
  {
   "cell_type": "code",
   "execution_count": 4,
   "metadata": {},
   "outputs": [
    {
     "name": "stdout",
     "output_type": "stream",
     "text": [
      "{'B': {'C': {}, 'A': {}}, 'C': {'B': {}, 'A': {}}, 'A': {'B': {}, 'C': {}}}\n"
     ]
    }
   ],
   "source": [
    "print(G.adj)"
   ]
  },
  {
   "cell_type": "code",
   "execution_count": 5,
   "metadata": {},
   "outputs": [
    {
     "data": {
      "text/plain": [
       "True"
      ]
     },
     "execution_count": 5,
     "metadata": {},
     "output_type": "execute_result"
    }
   ],
   "source": [
    "'A' in G"
   ]
  },
  {
   "cell_type": "code",
   "execution_count": 6,
   "metadata": {},
   "outputs": [
    {
     "name": "stdout",
     "output_type": "stream",
     "text": [
      "B\n",
      "C\n",
      "A\n"
     ]
    }
   ],
   "source": [
    "for n in G:\n",
    "    print(n)"
   ]
  },
  {
   "cell_type": "code",
   "execution_count": 7,
   "metadata": {},
   "outputs": [
    {
     "data": {
      "text/plain": [
       "{'B': {}, 'C': {}}"
      ]
     },
     "execution_count": 7,
     "metadata": {},
     "output_type": "execute_result"
    }
   ],
   "source": [
    "G['A']"
   ]
  },
  {
   "cell_type": "code",
   "execution_count": 8,
   "metadata": {},
   "outputs": [
    {
     "data": {
      "text/plain": [
       "3"
      ]
     },
     "execution_count": 8,
     "metadata": {},
     "output_type": "execute_result"
    }
   ],
   "source": [
    "len(G)"
   ]
  },
  {
   "cell_type": "markdown",
   "metadata": {
    "collapsed": true
   },
   "source": [
    "### Creating Graphs and adding and removing Nodes and Edges\n",
    "\n",
    "NetworkX is a node centric package; nodes can be any hashable object.\n",
    "\n",
    "A graph $G$ can be grown in several ways:\n",
    "\n",
    "* Adding nodes with:\n",
    "    - **G.add_node** : One node at a time\n",
    "    - **G.add_nodes_from** : A conteiner of nodes\n",
    "* Adding edges with:\n",
    "    - **G.add_edge**: One edge at a time\n",
    "    - **G.add_edges_from** : A container of edges\n"
   ]
  },
  {
   "cell_type": "code",
   "execution_count": 9,
   "metadata": {
    "collapsed": true
   },
   "outputs": [],
   "source": [
    "# Create an undirected Graph\n",
    "G = nx.Graph()\n",
    "# One node at a time\n",
    "G.add_node(1)  # \"method\" of G\n",
    "# A list of nodes\n",
    "G.add_nodes_from([2, 3])\n",
    "# A container of nodes\n",
    "H = nx.path_graph(10)\n",
    "G.add_nodes_from(H) # G now contains the nodes of H\n",
    "# In contrast, you could use the graph H as a node in G. \n",
    "G.add_node(H) # G now contains Graph H as a node "
   ]
  },
  {
   "cell_type": "markdown",
   "metadata": {},
   "source": [
    "G can also be grown by adding edges.\n",
    "\n",
    "If the edge added already exists no error is raised.\n",
    "\n",
    "If the nodes referred by edges do not already exist they are automatically added to the graph."
   ]
  },
  {
   "cell_type": "code",
   "execution_count": 10,
   "metadata": {
    "collapsed": true
   },
   "outputs": [],
   "source": [
    "# Adding a single edge\n",
    "G.add_edge(1, 2)\n",
    "# If you have a tuple representing an edge you have to unpack it\n",
    "e = (2, 3)\n",
    "G.add_edge(*e) # unpack edge tuple with *\n",
    "# Add a list of edges \n",
    "G.add_edges_from([(1, 2), (1, 3)])\n",
    "# Add from a container of edges\n",
    "G.add_edges_from(H.edges())"
   ]
  },
  {
   "cell_type": "markdown",
   "metadata": {},
   "source": [
    "Similarly you can remove nodes and edges\n",
    "\n",
    "* Removing nodes with:\n",
    "    - **G.remove_node** : One node at a time\n",
    "    - **G.remove_nodes_from** : A conteiner of nodes\n",
    "* Adding edges with:\n",
    "    - **G.remove_edge**: One edge at a time\n",
    "    - **G.remove_edges_from** : A container of edges\n"
   ]
  },
  {
   "cell_type": "markdown",
   "metadata": {},
   "source": [
    "### Adding and removing Graph, Node, and Edge Attributes\n",
    "\n",
    "Each graph, node, and edge can hold key/value attribute pairs in an associated attribute dictionary."
   ]
  },
  {
   "cell_type": "code",
   "execution_count": 11,
   "metadata": {},
   "outputs": [
    {
     "data": {
      "text/plain": [
       "{'day': 'Friday', 'name': 'My Graph'}"
      ]
     },
     "execution_count": 11,
     "metadata": {},
     "output_type": "execute_result"
    }
   ],
   "source": [
    "# Assign graph attributes when creating a new graph\n",
    "G = nx.Graph(day='Friday', name='My Graph')\n",
    "G.graph # Access to the dictionary that stores graph attrs"
   ]
  },
  {
   "cell_type": "code",
   "execution_count": 12,
   "metadata": {},
   "outputs": [
    {
     "data": {
      "text/plain": [
       "{'day': 'Monday', 'name': 'My Graph'}"
      ]
     },
     "execution_count": 12,
     "metadata": {},
     "output_type": "execute_result"
    }
   ],
   "source": [
    "# Or you can modify attributes later\n",
    "G.graph['day']='Monday'\n",
    "G.graph"
   ]
  },
  {
   "cell_type": "markdown",
   "metadata": {},
   "source": [
    "#### Nofde Attributes\n",
    "\n",
    "In order to add node attributes you can use the methods **G.add_node** and **G.add_nodes_from**, or the node attribute dictionary **G.node**"
   ]
  },
  {
   "cell_type": "code",
   "execution_count": 13,
   "metadata": {
    "collapsed": true
   },
   "outputs": [],
   "source": [
    "G.add_node(1, time='5pm')\n",
    "G.add_nodes_from([3], time='2pm') # multiple nodes\n",
    "G.node[1]['room'] = 714 # add new attribute"
   ]
  },
  {
   "cell_type": "markdown",
   "metadata": {},
   "source": [
    "Adding a node that is already in the graph does not raise an error, you can add new attributes to an existing node by adding it again with a new attribute:  "
   ]
  },
  {
   "cell_type": "code",
   "execution_count": 14,
   "metadata": {
    "collapsed": true
   },
   "outputs": [],
   "source": [
    "G.add_node(3, room=715)"
   ]
  },
  {
   "cell_type": "markdown",
   "metadata": {},
   "source": [
    "In order to access node attribute information you can:"
   ]
  },
  {
   "cell_type": "code",
   "execution_count": 15,
   "metadata": {},
   "outputs": [
    {
     "data": {
      "text/plain": [
       "'5pm'"
      ]
     },
     "execution_count": 15,
     "metadata": {},
     "output_type": "execute_result"
    }
   ],
   "source": [
    "# Access the value of the attribute\n",
    "G.node[1]['time']"
   ]
  },
  {
   "cell_type": "code",
   "execution_count": 16,
   "metadata": {},
   "outputs": [
    {
     "data": {
      "text/plain": [
       "{'room': 714, 'time': '5pm'}"
      ]
     },
     "execution_count": 16,
     "metadata": {},
     "output_type": "execute_result"
    }
   ],
   "source": [
    "# Access the attribute dictionary\n",
    "G.node[1]"
   ]
  },
  {
   "cell_type": "markdown",
   "metadata": {},
   "source": [
    "In practice it's usually more useful to iterate over nodes with their attributes "
   ]
  },
  {
   "cell_type": "code",
   "execution_count": 17,
   "metadata": {},
   "outputs": [
    {
     "data": {
      "text/plain": [
       "[1, 3]"
      ]
     },
     "execution_count": 17,
     "metadata": {},
     "output_type": "execute_result"
    }
   ],
   "source": [
    "# Nodes without attributes\n",
    "list(G.nodes())"
   ]
  },
  {
   "cell_type": "code",
   "execution_count": 18,
   "metadata": {},
   "outputs": [
    {
     "data": {
      "text/plain": [
       "[(1, {'room': 714, 'time': '5pm'}), (3, {'room': 715, 'time': '2pm'})]"
      ]
     },
     "execution_count": 18,
     "metadata": {},
     "output_type": "execute_result"
    }
   ],
   "source": [
    "# Tuples of node and attribute dictionary\n",
    "list(G.nodes(data=True))"
   ]
  },
  {
   "cell_type": "code",
   "execution_count": 19,
   "metadata": {},
   "outputs": [
    {
     "name": "stdout",
     "output_type": "stream",
     "text": [
      "[(1, 714), (3, 715)]\n"
     ]
    }
   ],
   "source": [
    "# In NetworkX version 2.0 you can also directly specify the node attribute in the data keyword\n",
    "if nx.__version__.startswith('2'):\n",
    "    print(list(G.nodes(data='room')))"
   ]
  },
  {
   "cell_type": "markdown",
   "metadata": {},
   "source": [
    "You can also set node attributes using the function **nx.set_node_attributes**. Its arguments are a graph object, a string with the name of the attribute, and a dictionary keyed by node with the value of the attribute for each node or a single value that will be used for all nodes:"
   ]
  },
  {
   "cell_type": "code",
   "execution_count": 20,
   "metadata": {},
   "outputs": [],
   "source": [
    "nx.set_node_attributes(G, 'grade', {1: 'A', 3:'C'})"
   ]
  },
  {
   "cell_type": "code",
   "execution_count": 21,
   "metadata": {
    "collapsed": true
   },
   "outputs": [],
   "source": [
    "nx.set_node_attributes(G, 'year', 2017)"
   ]
  },
  {
   "cell_type": "markdown",
   "metadata": {},
   "source": [
    "You can get a dictionary keyed by node with the value of a node attribute with the function **nx.get_node_attributes**:"
   ]
  },
  {
   "cell_type": "code",
   "execution_count": 22,
   "metadata": {},
   "outputs": [
    {
     "data": {
      "text/plain": [
       "{1: '5pm', 3: '2pm'}"
      ]
     },
     "execution_count": 22,
     "metadata": {},
     "output_type": "execute_result"
    }
   ],
   "source": [
    "nx.get_node_attributes(G, 'time')"
   ]
  },
  {
   "cell_type": "markdown",
   "metadata": {},
   "source": [
    "#### Edge Attributes\n",
    "\n",
    "In order to add edge attributes you can use the methods **G.add_edge** and **G.add_edges_from**; the edge attribute dictionary **G.edge** or subscript notation."
   ]
  },
  {
   "cell_type": "code",
   "execution_count": 23,
   "metadata": {
    "collapsed": true
   },
   "outputs": [],
   "source": [
    "G.add_edge(1, 2, weight=4.0 )\n",
    "G.add_edges_from([(3, 4),(4, 5)], color='red')\n",
    "G.add_edges_from([(1, 2, {'color':'blue'}), (2, 3, {'weight':8})])\n",
    "# When an edge is already added you can use subscript notation or update the edge attribute dictionary\n",
    "G[1][2]['weight'] = 4.0\n",
    "G.edge[1][2]['weight'] = 4.0"
   ]
  },
  {
   "cell_type": "markdown",
   "metadata": {},
   "source": [
    "Adding an edge that is already in the graph does not raise an error, you can add new attributes to an existing edge by adding it again with a new attribute:  "
   ]
  },
  {
   "cell_type": "code",
   "execution_count": 24,
   "metadata": {
    "collapsed": true
   },
   "outputs": [],
   "source": [
    "G.add_edge(3, 4, weight=12)"
   ]
  },
  {
   "cell_type": "markdown",
   "metadata": {},
   "source": [
    "In order to access edge attribute information you can:"
   ]
  },
  {
   "cell_type": "code",
   "execution_count": 25,
   "metadata": {},
   "outputs": [
    {
     "data": {
      "text/plain": [
       "4.0"
      ]
     },
     "execution_count": 25,
     "metadata": {},
     "output_type": "execute_result"
    }
   ],
   "source": [
    "# Access the value of attribute weight\n",
    "G[1][2]['weight'] # or equivalently G.edge[1][2]['weight']"
   ]
  },
  {
   "cell_type": "code",
   "execution_count": 26,
   "metadata": {},
   "outputs": [
    {
     "data": {
      "text/plain": [
       "{'color': 'blue', 'weight': 4.0}"
      ]
     },
     "execution_count": 26,
     "metadata": {},
     "output_type": "execute_result"
    }
   ],
   "source": [
    "# Attributes dictionary for edge 1 -- 2\n",
    "G[1][2] # or equivalently G.edge[1][2]"
   ]
  },
  {
   "cell_type": "markdown",
   "metadata": {},
   "source": [
    "In practice it's usually more useful to iterate over edges with their attributes "
   ]
  },
  {
   "cell_type": "code",
   "execution_count": 27,
   "metadata": {},
   "outputs": [
    {
     "data": {
      "text/plain": [
       "[(1, 2), (2, 3), (3, 4), (4, 5)]"
      ]
     },
     "execution_count": 27,
     "metadata": {},
     "output_type": "execute_result"
    }
   ],
   "source": [
    "# Edges without attributes\n",
    "list(G.edges())"
   ]
  },
  {
   "cell_type": "code",
   "execution_count": 28,
   "metadata": {},
   "outputs": [
    {
     "data": {
      "text/plain": [
       "[(1, 2, {'color': 'blue', 'weight': 4.0}),\n",
       " (2, 3, {'weight': 8}),\n",
       " (3, 4, {'color': 'red', 'weight': 12}),\n",
       " (4, 5, {'color': 'red'})]"
      ]
     },
     "execution_count": 28,
     "metadata": {},
     "output_type": "execute_result"
    }
   ],
   "source": [
    "# Edges as tuples of nodes and edge attributes\n",
    "list(G.edges(data=True))"
   ]
  },
  {
   "cell_type": "code",
   "execution_count": 29,
   "metadata": {},
   "outputs": [
    {
     "name": "stdout",
     "output_type": "stream",
     "text": [
      "[(1, 2, 4.0), (2, 3, 8), (3, 4, 12), (4, 5, None)]\n"
     ]
    }
   ],
   "source": [
    "# In NetworkX version 2.0 you can also directly specify the edge attribute in the data keyword\n",
    "if nx.__version__.startswith('2'):\n",
    "    print(list(G.edges(data='weight')))"
   ]
  },
  {
   "cell_type": "markdown",
   "metadata": {},
   "source": [
    "You can also set edge attributes using the function **nx.set_edge_attributes**. Its arguments are a graph object, a string with the name of the attribute, and a dictionary keyed by edge with the value of the attribute for each edge or a single value that will be used for all edges:"
   ]
  },
  {
   "cell_type": "code",
   "execution_count": 30,
   "metadata": {
    "collapsed": true
   },
   "outputs": [],
   "source": [
    "nx.set_edge_attributes(G, 'capacity', 1)"
   ]
  },
  {
   "cell_type": "code",
   "execution_count": 31,
   "metadata": {
    "collapsed": true
   },
   "outputs": [],
   "source": [
    "nx.set_edge_attributes(G, 'friendship', {(1, 2): True, (2, 3): False, (3, 4): False, (4, 5): True})"
   ]
  },
  {
   "cell_type": "markdown",
   "metadata": {},
   "source": [
    "You can get a dictionary keyed by edge with the value of an edge attribute with the function **nx.get_edge_attributes**:"
   ]
  },
  {
   "cell_type": "code",
   "execution_count": 32,
   "metadata": {},
   "outputs": [
    {
     "data": {
      "text/plain": [
       "{(1, 2): True, (2, 3): False, (3, 4): False, (4, 5): True}"
      ]
     },
     "execution_count": 32,
     "metadata": {},
     "output_type": "execute_result"
    }
   ],
   "source": [
    "nx.get_edge_attributes(G, 'friendship')"
   ]
  },
  {
   "cell_type": "markdown",
   "metadata": {},
   "source": [
    "An useful method for quickly looking at our graph is **nx.info**"
   ]
  },
  {
   "cell_type": "code",
   "execution_count": 33,
   "metadata": {},
   "outputs": [
    {
     "name": "stdout",
     "output_type": "stream",
     "text": [
      "Name: My Graph\n",
      "Type: Graph\n",
      "Number of nodes: 5\n",
      "Number of edges: 4\n",
      "Average degree:   1.6000\n"
     ]
    }
   ],
   "source": [
    "print(nx.info(G))"
   ]
  },
  {
   "cell_type": "markdown",
   "metadata": {},
   "source": [
    "### Exercise: Building a Graph\n",
    "\n",
    "Build an undirected graph with 50 nodes named as integers from 1 to 50."
   ]
  },
  {
   "cell_type": "code",
   "execution_count": 35,
   "metadata": {
    "collapsed": true
   },
   "outputs": [],
   "source": [
    "G = nx.Graph()\n",
    "G.add_nodes_from(range(1, 51))"
   ]
  },
  {
   "cell_type": "markdown",
   "metadata": {},
   "source": [
    "Add edges between nodes with consecutive numbers, that is, node 1 should have and edge to node 2, node 2 to node 3, etc ..."
   ]
  },
  {
   "cell_type": "code",
   "execution_count": 36,
   "metadata": {
    "collapsed": true
   },
   "outputs": [],
   "source": [
    "G.add_edges_from(zip(range(1, 51), range(2, 51)))"
   ]
  },
  {
   "cell_type": "markdown",
   "metadata": {},
   "source": [
    "Add a node attribute named **kind** with the value **odd** if the node is odd or **even** if the node is even:"
   ]
  },
  {
   "cell_type": "code",
   "execution_count": 37,
   "metadata": {},
   "outputs": [],
   "source": [
    "for n in G:\n",
    "    G.node[n]['kind'] = 'even' if n % 2 == 0 else 'odd'"
   ]
  },
  {
   "cell_type": "markdown",
   "metadata": {},
   "source": [
    "Add an edge attribute named **product** with the value of the product of the two nodes that it links."
   ]
  },
  {
   "cell_type": "code",
   "execution_count": 38,
   "metadata": {
    "collapsed": true
   },
   "outputs": [],
   "source": [
    "for u, v in G.edges():\n",
    "    G.edge[u][v]['product'] = u * v"
   ]
  },
  {
   "cell_type": "markdown",
   "metadata": {},
   "source": [
    "Build a set with all nodes that have **odd** as the value of node attribute **kind** "
   ]
  },
  {
   "cell_type": "code",
   "execution_count": 39,
   "metadata": {},
   "outputs": [
    {
     "data": {
      "text/plain": [
       "{1,\n",
       " 3,\n",
       " 5,\n",
       " 7,\n",
       " 9,\n",
       " 11,\n",
       " 13,\n",
       " 15,\n",
       " 17,\n",
       " 19,\n",
       " 21,\n",
       " 23,\n",
       " 25,\n",
       " 27,\n",
       " 29,\n",
       " 31,\n",
       " 33,\n",
       " 35,\n",
       " 37,\n",
       " 39,\n",
       " 41,\n",
       " 43,\n",
       " 45,\n",
       " 47,\n",
       " 49}"
      ]
     },
     "execution_count": 39,
     "metadata": {},
     "output_type": "execute_result"
    }
   ],
   "source": [
    "{n for n, data in G.nodes(data=True) if data['kind'] == 'odd'}"
   ]
  },
  {
   "cell_type": "markdown",
   "metadata": {},
   "source": [
    "Build a set of edges that have a value greater than 2000 for their edge attribute **product**"
   ]
  },
  {
   "cell_type": "code",
   "execution_count": 42,
   "metadata": {},
   "outputs": [
    {
     "data": {
      "text/plain": [
       "{(45, 46), (46, 47), (47, 48), (48, 49), (49, 50)}"
      ]
     },
     "execution_count": 42,
     "metadata": {},
     "output_type": "execute_result"
    }
   ],
   "source": [
    "{(u, v) for u, v, data in G.edges(data=True) if data['product'] > 2000}"
   ]
  },
  {
   "cell_type": "markdown",
   "metadata": {},
   "source": [
    "### More ways to build graphs: operators.\n",
    "\n",
    "Applying classic graph operations"
   ]
  },
  {
   "cell_type": "markdown",
   "metadata": {},
   "source": [
    "* **nx.subgraph(G, node_list)** : induce subgraph of G on nodes in node_list\n",
    "* **nx.union(G1,G2)** : graph union\n",
    "* **nx.disjoint_union(G1,G2)** : graph union assuming all nodes are different\n",
    "* **nx.cartesian_product(G1,G2)**: return Cartesian product graph\n",
    "* **nx.compose(G1,G2)**:  combine graphs identifying nodes common to both\n",
    "* **nx.complement(G)**: graph complement\n",
    "* **nx.create_empty_copy(G)**: return an empty copy of the same graph class"
   ]
  },
  {
   "cell_type": "markdown",
   "metadata": {},
   "source": [
    "### Graph Generators\n",
    "\n",
    "Take a look at all NetworkX [Graph generators](http://networkx.readthedocs.io/en/stable/reference/generators.html)\n",
    "\n",
    "Some examples:"
   ]
  },
  {
   "cell_type": "code",
   "execution_count": 44,
   "metadata": {
    "collapsed": true
   },
   "outputs": [],
   "source": [
    "# small graphs\n",
    "petersen = nx.petersen_graph()\n",
    "tutte = nx.tutte_graph()\n",
    "maze = nx.sedgewick_maze_graph()\n",
    "tet = nx.tetrahedral_graph()\n",
    "\n",
    "# classic graphs\n",
    "K_5 = nx.complete_graph(5)\n",
    "K_3_5 = nx.complete_bipartite_graph(3, 5)\n",
    "barbell = nx.barbell_graph(10, 10)\n",
    "lollipop = nx.lollipop_graph(10, 20)\n",
    "\n",
    "# random graphs\n",
    "er = nx.erdos_renyi_graph(100, 0.15)\n",
    "ws = nx.watts_strogatz_graph(30, 3, 0.1)\n",
    "ba = nx.barabasi_albert_graph(100, 5)\n",
    "red = nx.random_lobster(100, 0.9, 0.9)"
   ]
  },
  {
   "cell_type": "markdown",
   "metadata": {},
   "source": [
    "### Drawing graphs with matplotlib\n",
    "\n",
    "NetworkX is not focused on graphic representations of graphs. However it has a pretty decent module for plotting networks with Matplotlib, it does not produce top quality plots but it's useful for simple plots. In the future the plotting module could be separated from NetworkX in a new package in order to facilitate its development.   \n",
    "\n",
    "NetworkX contains a set of graph layout algorithms that position nodes in 2 and 3-dimensions in order to plot them.\n",
    "\n",
    "As we discussed before, plotting graphs, especially if they are big, seldom helps to analyze them. However if graphs are small or if we only want to highlight a few features of nodes, edges, or the whole graph it can be useful.\n",
    "\n",
    "Now we'll see a general view of NetworkX plotting capabilities, and latter we'll also use some plots to highlight some of the more complex network analysis.\n",
    "\n",
    "We'll use as an example the graph of Florentine families"
   ]
  },
  {
   "cell_type": "code",
   "execution_count": 45,
   "metadata": {
    "collapsed": true
   },
   "outputs": [],
   "source": [
    "G = nx.florentine_families_graph()"
   ]
  },
  {
   "cell_type": "code",
   "execution_count": 46,
   "metadata": {},
   "outputs": [
    {
     "data": {
      "image/png": "[encoded data removed]",
      "text/plain": [
       "<matplotlib.figure.Figure at 0x7fd1cf7f34e0>"
      ]
     },
     "metadata": {},
     "output_type": "display_data"
    }
   ],
   "source": [
    "# The function nx.draw is main entry point for NetworkX plotting functions\n",
    "nx.draw(G)"
   ]
  },
  {
   "cell_type": "markdown",
   "metadata": {},
   "source": [
    "By default, the layout (that is the position of the nodes in the 2D plane) used is the spring layout. NetworkX, especially in the upcoming 2.0 version, has some more interesting layout algorithms. We can precompute the layout for a given graph and then pass it to the **nx.draw** function"
   ]
  },
  {
   "cell_type": "code",
   "execution_count": 47,
   "metadata": {},
   "outputs": [
    {
     "data": {
      "text/plain": [
       "{'Acciaiuoli': array([ 0.23175659, -0.66938769]),\n",
       " 'Albizzi': array([-0.37213185, -0.22736872]),\n",
       " 'Barbadori': array([ 0.45661589,  0.17955598]),\n",
       " 'Bischeri': array([-0.29291235,  0.5391521 ]),\n",
       " 'Castellani': array([ 0.34691646,  0.61154181]),\n",
       " 'Ginori': array([-0.77957627, -0.11679137]),\n",
       " 'Guadagni': array([-0.5263214 ,  0.07703504]),\n",
       " 'Lamberteschi': array([-0.95304243, -0.18856036]),\n",
       " 'Medici': array([ 0.1926382 , -0.25430067]),\n",
       " 'Pazzi': array([ 1.       , -0.7883691]),\n",
       " 'Peruzzi': array([ 0.02251299,  0.79875866]),\n",
       " 'Ridolfi': array([ 0.09643502,  0.12395493]),\n",
       " 'Salviati': array([ 0.65808592, -0.56163224]),\n",
       " 'Strozzi': array([ 0.05102535,  0.54489983]),\n",
       " 'Tornabuoni': array([-0.13200213, -0.0684882 ])}"
      ]
     },
     "execution_count": 47,
     "metadata": {},
     "output_type": "execute_result"
    }
   ],
   "source": [
    "pos_spring = nx.spring_layout(G)\n",
    "pos_fr = nx.fruchterman_reingold_layout(G)\n",
    "pos_fr"
   ]
  },
  {
   "cell_type": "code",
   "execution_count": 48,
   "metadata": {},
   "outputs": [
    {
     "data": {
      "image/png": "[encoded data removed]",
      "text/plain": [
       "<matplotlib.figure.Figure at 0x7fd1cf748e80>"
      ]
     },
     "metadata": {},
     "output_type": "display_data"
    }
   ],
   "source": [
    "nx.draw(G, pos=pos_fr)"
   ]
  },
  {
   "cell_type": "markdown",
   "metadata": {},
   "source": [
    "We can also control the size and color of the nodes, the with of the edges, the labels of the nodes and their fonts via *kwargs* of **nx.draw**:"
   ]
  },
  {
   "cell_type": "code",
   "execution_count": 49,
   "metadata": {},
   "outputs": [
    {
     "data": {
      "image/png": "[encoded data removed]",
      "text/plain": [
       "<matplotlib.figure.Figure at 0x7fd1cf6ad940>"
      ]
     },
     "metadata": {},
     "output_type": "display_data"
    }
   ],
   "source": [
    "plt.figure(figsize=(12,12))\n",
    "nx.draw(G, pos=pos_fr, node_size=3000, node_color='white', with_labels=True)"
   ]
  },
  {
   "cell_type": "markdown",
   "metadata": {},
   "source": [
    "If we want to plot more complex plots, for instance, plot nodes of different colors and sizes, add labels to only some nodes, add edge labels, etc ... We have to use more specialized plot functions such as:\n",
    "\n",
    "* **nx.draw_networkx_nodes**\n",
    "* **nx.draw_networkx_edges**\n",
    "* **nx.draw_networkx_lables**\n",
    "* **nx.draw_networkx_edge_lables**"
   ]
  },
  {
   "cell_type": "code",
   "execution_count": 50,
   "metadata": {},
   "outputs": [
    {
     "data": {
      "image/png": "[encoded data removed]",
      "text/plain": [
       "<matplotlib.figure.Figure at 0x7fd1cf62b470>"
      ]
     },
     "metadata": {},
     "output_type": "display_data"
    }
   ],
   "source": [
    "plt.figure(figsize=(10,10))\n",
    "big_and_green_nodes = {'Medici', 'Albizzi', 'Strozzi'}\n",
    "other_nodes = set(G) - big_and_green_nodes\n",
    "thick_edges = {('Medici', 'Albizzi'), ('Medici', 'Salviati')}\n",
    "other_edges = set(G.edges()) - thick_edges\n",
    "# Plot nodes\n",
    "nx.draw_networkx_nodes(G, pos=pos_fr, nodelist=big_and_green_nodes, node_size=2000, node_color='green')\n",
    "nx.draw_networkx_nodes(G, pos=pos_fr, nodelist=other_nodes, node_size=500, node_color='white')\n",
    "# Plot edges \n",
    "nx.draw_networkx_edges(G, pos=pos_fr, edgelist=thick_edges, width=3, edge_color='blue')\n",
    "nx.draw_networkx_edges(G, pos=pos_fr, edge_list=other_edges)\n",
    "# Plot node labels\n",
    "nx.draw_networkx_labels(G, pos=pos_fr, labels={n: n for n in big_and_green_nodes})\n",
    "# Plot edge labels\n",
    "nx.draw_networkx_edge_labels(G, pos=pos_fr, edge_labels={e: i for i, e in enumerate(thick_edges)})\n",
    "# Remove axes\n",
    "ax = plt.gca()\n",
    "ax.set_axis_off()"
   ]
  },
  {
   "cell_type": "markdown",
   "metadata": {},
   "source": [
    "### Common formats for reading and writing Graphs\n",
    "\n",
    "You can see the complete list of supported formats at [Read and Write documentation](http://networkx.readthedocs.io/en/stable/reference/readwrite.html)\n",
    "\n",
    "Some examples of the most common formats:\n",
    "\n",
    "* **Adjacency list** Simple format, no attributes\n",
    "    - **nx.read_adjlist**\n",
    "    - **nx.write_adjlist**\n",
    "* **Edge list** Simple format, no attributes\n",
    "    - **nx.read_edgelist**\n",
    "    - **nx.write_adjlist**\n",
    "* **GEXF** Designed to be a standard exchange format for graphs (Gephi)\n",
    "    - **nx.read_gexf**\n",
    "    - **nx.write_gexf**\n",
    "* **GML** Hierarchical ASCII-based file format for describing graphs\n",
    "    - **nx.read_gml**\n",
    "    - **nx.write_gml**\n",
    "* **Pickle** Python standard persistency module (serialize objects to HD)\n",
    "    - **nx.read_gpickle**\n",
    "    - **nx.write_gpickle**\n",
    "* **GraphML** An XML-based file format for graphs\n",
    "    - **nx.read_graphml**\n",
    "    - **nx.write_graphml**\n",
    "* **Pajek** Popular network format used in Pajek (no complete written specification)\n",
    "    - **nx.read_pajek**\n",
    "    - **nx.write_pajek**"
   ]
  },
  {
   "cell_type": "markdown",
   "metadata": {},
   "source": [
    "## Network Analysis\n",
    "\n",
    "Now we'll focus on some key analysis techniques that will allow us to understand the structure of social networks and the importance of its components"
   ]
  },
  {
   "cell_type": "markdown",
   "metadata": {},
   "source": [
    "### Basic concepts: Degree\n",
    "\n",
    "The degree of a node it's the number of incident edges to that node.\n",
    "\n",
    "* **undirected graphs** it'is equal to their number of neighbors.\n",
    "\n",
    "* **directed graphs** we have to distinguish between incoming edges and ougoing edges, and thus we have to distinguish between successors and predecessors.\n",
    "    - **In-degree** Number of predecessors\n",
    "    - **Out-degree** Nuber of successors"
   ]
  },
  {
   "cell_type": "markdown",
   "metadata": {},
   "source": [
    "#### Undirected Graphs"
   ]
  },
  {
   "cell_type": "code",
   "execution_count": 51,
   "metadata": {},
   "outputs": [
    {
     "data": {
      "text/plain": [
       "{0: 3, 1: 2, 2: 2, 3: 2, 4: 2, 5: 1}"
      ]
     },
     "execution_count": 51,
     "metadata": {},
     "output_type": "execute_result"
    },
    {
     "data": {
      "image/png": "[encoded data removed]",
      "text/plain": [
       "<matplotlib.figure.Figure at 0x7fd1cf7f3320>"
      ]
     },
     "metadata": {},
     "output_type": "display_data"
    }
   ],
   "source": [
    "G = nx.cycle_graph(5)\n",
    "G.add_edge(0, 5)\n",
    "nx.draw(G, pos=nx.fruchterman_reingold_layout(G), with_labels=True)\n",
    "dict(G.degree())"
   ]
  },
  {
   "cell_type": "code",
   "execution_count": 52,
   "metadata": {},
   "outputs": [
    {
     "data": {
      "text/plain": [
       "1"
      ]
     },
     "execution_count": 52,
     "metadata": {},
     "output_type": "execute_result"
    }
   ],
   "source": [
    "# You can also get the degree for a single node\n",
    "G.degree(5)"
   ]
  },
  {
   "cell_type": "markdown",
   "metadata": {},
   "source": [
    "#### Quick exercise\n",
    "How to select the node with the greatest degree?"
   ]
  },
  {
   "cell_type": "code",
   "execution_count": 53,
   "metadata": {},
   "outputs": [
    {
     "data": {
      "text/plain": [
       "0"
      ]
     },
     "execution_count": 53,
     "metadata": {},
     "output_type": "execute_result"
    }
   ],
   "source": [
    "max(G, key=G.degree)"
   ]
  },
  {
   "cell_type": "code",
   "execution_count": 54,
   "metadata": {},
   "outputs": [
    {
     "data": {
      "text/plain": [
       "[1, 4, 5]"
      ]
     },
     "execution_count": 54,
     "metadata": {},
     "output_type": "execute_result"
    }
   ],
   "source": [
    "# We can get the neighbors of node 0\n",
    "list(G.neighbors(0))"
   ]
  },
  {
   "cell_type": "code",
   "execution_count": 55,
   "metadata": {},
   "outputs": [
    {
     "data": {
      "text/plain": [
       "{1: {}, 4: {}, 5: {}}"
      ]
     },
     "execution_count": 55,
     "metadata": {},
     "output_type": "execute_result"
    }
   ],
   "source": [
    "# We can also access the neighbors, along with the edge labels (empty in this example)\n",
    "# using the subscript notation\n",
    "G[0]"
   ]
  },
  {
   "cell_type": "markdown",
   "metadata": {},
   "source": [
    "#### Directed Graphs"
   ]
  },
  {
   "cell_type": "code",
   "execution_count": 56,
   "metadata": {},
   "outputs": [
    {
     "data": {
      "image/png": "[encoded data removed]",
      "text/plain": [
       "<matplotlib.figure.Figure at 0x7fd1dadbd5f8>"
      ]
     },
     "metadata": {},
     "output_type": "display_data"
    }
   ],
   "source": [
    "D = nx.cycle_graph(5, create_using=nx.DiGraph())\n",
    "D.add_edge(0, 5)\n",
    "nx.draw(D, pos=nx.fruchterman_reingold_layout(D), with_labels=True)"
   ]
  },
  {
   "cell_type": "code",
   "execution_count": 57,
   "metadata": {},
   "outputs": [
    {
     "data": {
      "text/plain": [
       "{0: 1, 1: 1, 2: 1, 3: 1, 4: 1, 5: 1}"
      ]
     },
     "execution_count": 57,
     "metadata": {},
     "output_type": "execute_result"
    }
   ],
   "source": [
    "dict(D.in_degree())"
   ]
  },
  {
   "cell_type": "code",
   "execution_count": 58,
   "metadata": {},
   "outputs": [
    {
     "data": {
      "text/plain": [
       "{0: 2, 1: 1, 2: 1, 3: 1, 4: 1, 5: 0}"
      ]
     },
     "execution_count": 58,
     "metadata": {},
     "output_type": "execute_result"
    }
   ],
   "source": [
    "dict(D.out_degree())"
   ]
  },
  {
   "cell_type": "code",
   "execution_count": 59,
   "metadata": {},
   "outputs": [
    {
     "data": {
      "text/plain": [
       "[1, 5]"
      ]
     },
     "execution_count": 59,
     "metadata": {},
     "output_type": "execute_result"
    }
   ],
   "source": [
    "# We can get the successors of a node\n",
    "list(D.successors(0))"
   ]
  },
  {
   "cell_type": "code",
   "execution_count": 60,
   "metadata": {},
   "outputs": [
    {
     "data": {
      "text/plain": [
       "[4]"
      ]
     },
     "execution_count": 60,
     "metadata": {},
     "output_type": "execute_result"
    }
   ],
   "source": [
    "# And it's predecessors\n",
    "list(D.predecessors(0))"
   ]
  },
  {
   "cell_type": "code",
   "execution_count": 61,
   "metadata": {},
   "outputs": [
    {
     "data": {
      "text/plain": [
       "{1: {}, 5: {}}"
      ]
     },
     "execution_count": 61,
     "metadata": {},
     "output_type": "execute_result"
    }
   ],
   "source": [
    "# For digraphs the subscript notation yields the successors for a node\n",
    "D[0]"
   ]
  },
  {
   "cell_type": "markdown",
   "metadata": {},
   "source": [
    "#### Weighted Graphs and weighted degree\n",
    "\n",
    "Edges can have attributes, a very common and useful edge attribute is **weight** which is used to model intensity of relations.\n",
    "\n",
    "The weighted degree of a node is the sum of the weights of its incident edges. "
   ]
  },
  {
   "cell_type": "code",
   "execution_count": 62,
   "metadata": {},
   "outputs": [
    {
     "data": {
      "text/plain": [
       "{(0, 1): <matplotlib.text.Text at 0x7fd1cf796c88>,\n",
       " (0, 4): <matplotlib.text.Text at 0x7fd1cf737f98>,\n",
       " (1, 2): <matplotlib.text.Text at 0x7fd1cf741a20>,\n",
       " (2, 3): <matplotlib.text.Text at 0x7fd1cf728be0>,\n",
       " (3, 4): <matplotlib.text.Text at 0x7fd1cf7285f8>}"
      ]
     },
     "execution_count": 62,
     "metadata": {},
     "output_type": "execute_result"
    },
    {
     "data": {
      "image/png": "[encoded data removed]",
      "text/plain": [
       "<matplotlib.figure.Figure at 0x7fd1cd582dd8>"
      ]
     },
     "metadata": {},
     "output_type": "display_data"
    }
   ],
   "source": [
    "W = nx.cycle_graph(5)\n",
    "for i, (u, v) in enumerate(W.edges(), 1):\n",
    "    W.edge[u][v]['weight'] = i\n",
    "pos = nx.fruchterman_reingold_layout(W)\n",
    "nx.draw(W, pos=pos, with_labels=True)\n",
    "nx.draw_networkx_edge_labels(W, pos, edge_labels=nx.get_edge_attributes(W, 'weight'))"
   ]
  },
  {
   "cell_type": "code",
   "execution_count": 63,
   "metadata": {},
   "outputs": [
    {
     "data": {
      "text/plain": [
       "{0: 2, 1: 2, 2: 2, 3: 2, 4: 2}"
      ]
     },
     "execution_count": 63,
     "metadata": {},
     "output_type": "execute_result"
    }
   ],
   "source": [
    "dict(W.degree())"
   ]
  },
  {
   "cell_type": "code",
   "execution_count": 64,
   "metadata": {},
   "outputs": [
    {
     "data": {
      "text/plain": [
       "{0: 3, 1: 4, 2: 7, 3: 9, 4: 7}"
      ]
     },
     "execution_count": 64,
     "metadata": {},
     "output_type": "execute_result"
    }
   ],
   "source": [
    "dict(W.degree(weight='weight'))"
   ]
  },
  {
   "cell_type": "markdown",
   "metadata": {},
   "source": [
    "#### Quick exercise\n",
    "How can we get the node with greatest weighted degree using the build-in **max** function?\n",
    "\n",
    "Two possible approaches: use **partial** from the **functools** module or compute first the weighted degree for all nodes. "
   ]
  },
  {
   "cell_type": "code",
   "execution_count": 65,
   "metadata": {},
   "outputs": [
    {
     "data": {
      "text/plain": [
       "3"
      ]
     },
     "execution_count": 65,
     "metadata": {},
     "output_type": "execute_result"
    }
   ],
   "source": [
    "from functools import partial\n",
    "wdeg = partial(W.degree, weight='weight')\n",
    "max(W, key=wdeg)"
   ]
  },
  {
   "cell_type": "code",
   "execution_count": 66,
   "metadata": {},
   "outputs": [
    {
     "data": {
      "text/plain": [
       "3"
      ]
     },
     "execution_count": 66,
     "metadata": {},
     "output_type": "execute_result"
    }
   ],
   "source": [
    "# Or also first computing the weighted degree for all nodes\n",
    "wdegree = dict(W.degree(weight='weight'))\n",
    "max(W, key=wdegree.get)"
   ]
  },
  {
   "cell_type": "markdown",
   "metadata": {},
   "source": [
    "### Paths, simple paths, and shortest paths\n",
    "\n",
    "* A **path** is an alternating sequence of distinct nodes and edges in which each edge is incident with its preceding and following nodes. The length of a path is the number of edges it contains. \n",
    "\n",
    "* A **simple path** is a path with no repeated nodes. See NetworkX documentation for [simple paths](http://networkx.readthedocs.io/en/stable/reference/algorithms.simple_paths.html).\n",
    "\n",
    "* The **shortest path** between two nodes is a path with the minimum number of edges. The **distance** between any two nodes $u$ and $v$ of $G$, denoted $d_{G}(u,v)$, is the length of the shortest path between them. See NetworkX documentation for [shortest paths](http://networkx.readthedocs.io/en/stable/reference/algorithms.shortest_paths.html).\n",
    "\n",
    "NetworkX has high level functions for simple paths and shortest paths that accept directed, undirected and multigraphs and do the right thing. For instance, for directed graphs the paths have to follow the direction of the edges.\n",
    "\n",
    "NetworkX represents the paths as list of nodes, from that it's easy to get the edges that form the path\n",
    "\n",
    "Using the examples from the degree section:"
   ]
  },
  {
   "cell_type": "markdown",
   "metadata": {},
   "source": [
    "#### Undirected Graphs"
   ]
  },
  {
   "cell_type": "code",
   "execution_count": 67,
   "metadata": {},
   "outputs": [
    {
     "data": {
      "text/plain": [
       "True"
      ]
     },
     "execution_count": 67,
     "metadata": {},
     "output_type": "execute_result"
    }
   ],
   "source": [
    "nx.has_path(G, 0, 3)"
   ]
  },
  {
   "cell_type": "code",
   "execution_count": 68,
   "metadata": {},
   "outputs": [
    {
     "data": {
      "text/plain": [
       "[[0, 1, 2, 3], [0, 4, 3]]"
      ]
     },
     "execution_count": 68,
     "metadata": {},
     "output_type": "execute_result"
    }
   ],
   "source": [
    "list(nx.all_simple_paths(G, 0, 3))"
   ]
  },
  {
   "cell_type": "code",
   "execution_count": 69,
   "metadata": {},
   "outputs": [
    {
     "data": {
      "text/plain": [
       "[0, 4, 3]"
      ]
     },
     "execution_count": 69,
     "metadata": {},
     "output_type": "execute_result"
    }
   ],
   "source": [
    "nx.shortest_path(G, 0, 3)"
   ]
  },
  {
   "cell_type": "code",
   "execution_count": 70,
   "metadata": {},
   "outputs": [
    {
     "data": {
      "text/plain": [
       "2"
      ]
     },
     "execution_count": 70,
     "metadata": {},
     "output_type": "execute_result"
    }
   ],
   "source": [
    "nx.shortest_path_length(G, 0, 3)"
   ]
  },
  {
   "cell_type": "markdown",
   "metadata": {},
   "source": [
    "How to obtaing the list of edges of a path from the list of nodes that NetworkX outputs?"
   ]
  },
  {
   "cell_type": "code",
   "execution_count": 71,
   "metadata": {},
   "outputs": [
    {
     "name": "stdout",
     "output_type": "stream",
     "text": [
      "nodes in path: [0, 4, 3]\n",
      "edges in path: [(0, 4), (4, 3)]\n"
     ]
    }
   ],
   "source": [
    "path = nx.shortest_path(G, 0, 3)\n",
    "path_edges = list(zip(path, path[1:]))\n",
    "print(\"nodes in path: {}\".format(path))\n",
    "print(\"edges in path: {}\".format(path_edges))"
   ]
  },
  {
   "cell_type": "code",
   "execution_count": 72,
   "metadata": {},
   "outputs": [
    {
     "data": {
      "text/plain": [
       "{0: [0], 1: [0, 1], 2: [0, 1, 2], 3: [0, 4, 3], 4: [0, 4], 5: [0, 5]}"
      ]
     },
     "execution_count": 72,
     "metadata": {},
     "output_type": "execute_result"
    }
   ],
   "source": [
    "# You can also compute all shortest paths from a single source node\n",
    "nx.single_source_shortest_path(G, 0)"
   ]
  },
  {
   "cell_type": "code",
   "execution_count": 73,
   "metadata": {},
   "outputs": [
    {
     "data": {
      "text/plain": [
       "{0: {0: [0], 1: [0, 1], 2: [0, 1, 2], 3: [0, 4, 3], 4: [0, 4], 5: [0, 5]},\n",
       " 1: {0: [1, 0], 1: [1], 2: [1, 2], 3: [1, 2, 3], 4: [1, 0, 4], 5: [1, 0, 5]},\n",
       " 2: {0: [2, 1, 0],\n",
       "  1: [2, 1],\n",
       "  2: [2],\n",
       "  3: [2, 3],\n",
       "  4: [2, 3, 4],\n",
       "  5: [2, 1, 0, 5]},\n",
       " 3: {0: [3, 4, 0],\n",
       "  1: [3, 2, 1],\n",
       "  2: [3, 2],\n",
       "  3: [3],\n",
       "  4: [3, 4],\n",
       "  5: [3, 4, 0, 5]},\n",
       " 4: {0: [4, 0], 1: [4, 0, 1], 2: [4, 3, 2], 3: [4, 3], 4: [4], 5: [4, 0, 5]},\n",
       " 5: {0: [5, 0],\n",
       "  1: [5, 0, 1],\n",
       "  2: [5, 0, 1, 2],\n",
       "  3: [5, 0, 4, 3],\n",
       "  4: [5, 0, 4],\n",
       "  5: [5]}}"
      ]
     },
     "execution_count": 73,
     "metadata": {},
     "output_type": "execute_result"
    }
   ],
   "source": [
    "# Or the shortest paths between each pair of nodes\n",
    "nx.all_pairs_shortest_path(G)"
   ]
  },
  {
   "cell_type": "markdown",
   "metadata": {},
   "source": [
    "#### Directed Graphs\n",
    "\n",
    "For directed graphs, paths have to follow the edge directions: "
   ]
  },
  {
   "cell_type": "code",
   "execution_count": 74,
   "metadata": {},
   "outputs": [
    {
     "data": {
      "text/plain": [
       "True"
      ]
     },
     "execution_count": 74,
     "metadata": {},
     "output_type": "execute_result"
    }
   ],
   "source": [
    "nx.has_path(D, 0, 3)"
   ]
  },
  {
   "cell_type": "code",
   "execution_count": 75,
   "metadata": {},
   "outputs": [
    {
     "data": {
      "text/plain": [
       "[[0, 1, 2, 3]]"
      ]
     },
     "execution_count": 75,
     "metadata": {},
     "output_type": "execute_result"
    }
   ],
   "source": [
    "list(nx.all_simple_paths(D, 0, 3))"
   ]
  },
  {
   "cell_type": "code",
   "execution_count": 76,
   "metadata": {},
   "outputs": [
    {
     "data": {
      "text/plain": [
       "[0, 1, 2, 3]"
      ]
     },
     "execution_count": 76,
     "metadata": {},
     "output_type": "execute_result"
    }
   ],
   "source": [
    "nx.shortest_path(D, 0, 3)"
   ]
  },
  {
   "cell_type": "code",
   "execution_count": 77,
   "metadata": {},
   "outputs": [
    {
     "data": {
      "text/plain": [
       "3"
      ]
     },
     "execution_count": 77,
     "metadata": {},
     "output_type": "execute_result"
    }
   ],
   "source": [
    "nx.shortest_path_length(D, 0, 3)"
   ]
  },
  {
   "cell_type": "code",
   "execution_count": 78,
   "metadata": {},
   "outputs": [
    {
     "data": {
      "text/plain": [
       "{0: [0],\n",
       " 1: [0, 1],\n",
       " 2: [0, 1, 2],\n",
       " 3: [0, 1, 2, 3],\n",
       " 4: [0, 1, 2, 3, 4],\n",
       " 5: [0, 5]}"
      ]
     },
     "execution_count": 78,
     "metadata": {},
     "output_type": "execute_result"
    }
   ],
   "source": [
    "nx.single_source_shortest_path(D, 0)"
   ]
  },
  {
   "cell_type": "code",
   "execution_count": 79,
   "metadata": {},
   "outputs": [
    {
     "data": {
      "text/plain": [
       "{0: {0: [0],\n",
       "  1: [0, 1],\n",
       "  2: [0, 1, 2],\n",
       "  3: [0, 1, 2, 3],\n",
       "  4: [0, 1, 2, 3, 4],\n",
       "  5: [0, 5]},\n",
       " 1: {0: [1, 2, 3, 4, 0],\n",
       "  1: [1],\n",
       "  2: [1, 2],\n",
       "  3: [1, 2, 3],\n",
       "  4: [1, 2, 3, 4],\n",
       "  5: [1, 2, 3, 4, 0, 5]},\n",
       " 2: {0: [2, 3, 4, 0],\n",
       "  1: [2, 3, 4, 0, 1],\n",
       "  2: [2],\n",
       "  3: [2, 3],\n",
       "  4: [2, 3, 4],\n",
       "  5: [2, 3, 4, 0, 5]},\n",
       " 3: {0: [3, 4, 0],\n",
       "  1: [3, 4, 0, 1],\n",
       "  2: [3, 4, 0, 1, 2],\n",
       "  3: [3],\n",
       "  4: [3, 4],\n",
       "  5: [3, 4, 0, 5]},\n",
       " 4: {0: [4, 0],\n",
       "  1: [4, 0, 1],\n",
       "  2: [4, 0, 1, 2],\n",
       "  3: [4, 0, 1, 2, 3],\n",
       "  4: [4],\n",
       "  5: [4, 0, 5]},\n",
       " 5: {5: [5]}}"
      ]
     },
     "execution_count": 79,
     "metadata": {},
     "output_type": "execute_result"
    }
   ],
   "source": [
    "nx.all_pairs_shortest_path(D)"
   ]
  },
  {
   "cell_type": "markdown",
   "metadata": {},
   "source": [
    "#### Weighted Graphs\n",
    "\n",
    "For weighted graphs the definition of shortest path considers edge weights; the shprtest path is the path with minium total weight, and the path length is the sum of edge weights. This implies that the shortest weighted path does not necessary has less edges than an alternative path.\n",
    "\n",
    "For computing weighted shortest paths you have to pass a a keyword argument the name of the edge attribute used as weight:"
   ]
  },
  {
   "cell_type": "code",
   "execution_count": 80,
   "metadata": {},
   "outputs": [
    {
     "data": {
      "text/plain": [
       "{('b', 'a'): <matplotlib.text.Text at 0x7fd20bd09f28>,\n",
       " ('b', 'c'): <matplotlib.text.Text at 0x7fd20bcfd400>,\n",
       " ('c', 'a'): <matplotlib.text.Text at 0x7fd20bcd6438>,\n",
       " ('d', 'c'): <matplotlib.text.Text at 0x7fd20bd094e0>}"
      ]
     },
     "execution_count": 80,
     "metadata": {},
     "output_type": "execute_result"
    },
    {
     "data": {
      "image/png": "[encoded data removed]",
      "text/plain": [
       "<matplotlib.figure.Figure at 0x7fd1cf7c0358>"
      ]
     },
     "metadata": {},
     "output_type": "display_data"
    }
   ],
   "source": [
    "W = nx.Graph()\n",
    "W.add_edge('a', 'b', weight=0.3)\n",
    "W.add_edge('b', 'c', weight=0.5)\n",
    "W.add_edge('a', 'c', weight=2.0)\n",
    "W.add_edge('c', 'd', weight=1.0)\n",
    "pos = nx.fruchterman_reingold_layout(W)\n",
    "nx.draw(W, pos=pos, with_labels=True)\n",
    "nx.draw_networkx_edge_labels(W, pos, edge_labels=nx.get_edge_attributes(W, 'weight'))"
   ]
  },
  {
   "cell_type": "code",
   "execution_count": 81,
   "metadata": {},
   "outputs": [
    {
     "data": {
      "text/plain": [
       "['a', 'c', 'd']"
      ]
     },
     "execution_count": 81,
     "metadata": {},
     "output_type": "execute_result"
    }
   ],
   "source": [
    "nx.shortest_path(W, 'a', 'd')"
   ]
  },
  {
   "cell_type": "code",
   "execution_count": 82,
   "metadata": {},
   "outputs": [
    {
     "data": {
      "text/plain": [
       "['a', 'b', 'c', 'd']"
      ]
     },
     "execution_count": 82,
     "metadata": {},
     "output_type": "execute_result"
    }
   ],
   "source": [
    "nx.shortest_path(W, 'a', 'd',weight='weight')"
   ]
  },
  {
   "cell_type": "code",
   "execution_count": 83,
   "metadata": {},
   "outputs": [
    {
     "data": {
      "text/plain": [
       "1.8"
      ]
     },
     "execution_count": 83,
     "metadata": {},
     "output_type": "execute_result"
    }
   ],
   "source": [
    "nx.shortest_path_length(W, 'a', 'd',weight='weight')"
   ]
  },
  {
   "cell_type": "markdown",
   "metadata": {},
   "source": [
    "### Illustrate paths in the Florentine families graph\n",
    "\n",
    "Shortest paths are not unique, we can have more of one path with the same length. You can use **nx.all_shortest_paths** to get all shortest paths."
   ]
  },
  {
   "cell_type": "code",
   "execution_count": 84,
   "metadata": {},
   "outputs": [
    {
     "data": {
      "image/png": "[encoded data removed]",
      "text/plain": [
       "<matplotlib.figure.Figure at 0x7fd20bd4de80>"
      ]
     },
     "metadata": {},
     "output_type": "display_data"
    }
   ],
   "source": [
    "G = nx.florentine_families_graph()\n",
    "plt.figure(figsize=(12,12))\n",
    "nx.draw(G, pos=pos_fr, node_size=3000, node_color='white', with_labels=True)"
   ]
  },
  {
   "cell_type": "code",
   "execution_count": 85,
   "metadata": {},
   "outputs": [
    {
     "data": {
      "text/plain": [
       "['Medici', 'Barbadori', 'Castellani', 'Peruzzi']"
      ]
     },
     "execution_count": 85,
     "metadata": {},
     "output_type": "execute_result"
    }
   ],
   "source": [
    "source = 'Medici'\n",
    "target = 'Peruzzi'\n",
    "nx.shortest_path(G, source, target)"
   ]
  },
  {
   "cell_type": "code",
   "execution_count": 86,
   "metadata": {},
   "outputs": [
    {
     "data": {
      "text/plain": [
       "[['Medici', 'Barbadori', 'Castellani', 'Peruzzi'],\n",
       " ['Medici', 'Ridolfi', 'Strozzi', 'Peruzzi']]"
      ]
     },
     "execution_count": 86,
     "metadata": {},
     "output_type": "execute_result"
    }
   ],
   "source": [
    "# Shortest paths are not unique\n",
    "list(nx.all_shortest_paths(G, source, target))"
   ]
  },
  {
   "cell_type": "code",
   "execution_count": 87,
   "metadata": {},
   "outputs": [],
   "source": [
    "def plot_paths(G, paths):\n",
    "    plt.figure(figsize=(12,12))\n",
    "    pos = nx.fruchterman_reingold_layout(G)\n",
    "    nx.draw_networkx_nodes(G, pos=pos, node_size=3000, node_color='white')\n",
    "    nx.draw_networkx_labels(G, pos=pos, labels={n: n for n in G})\n",
    "    # Draw edges\n",
    "    nx.draw_networkx_edges(G, pos=pos)\n",
    "    for path in paths:\n",
    "        edges = list(zip(path, path[1:]))\n",
    "        nx.draw_networkx_edges(G, pos=pos, edgelist=edges, edge_color='red', width=3)\n",
    "    ax = plt.gca()\n",
    "    ax.set_axis_off()\n",
    "    ax.grid(None)"
   ]
  },
  {
   "cell_type": "code",
   "execution_count": 88,
   "metadata": {},
   "outputs": [
    {
     "data": {
      "image/png": "[encoded data removed]",
      "text/plain": [
       "<matplotlib.figure.Figure at 0x7fd1cf6e5b00>"
      ]
     },
     "metadata": {},
     "output_type": "display_data"
    }
   ],
   "source": [
    "plot_paths(G, [nx.shortest_path(G, source, target)])"
   ]
  },
  {
   "cell_type": "code",
   "execution_count": 90,
   "metadata": {},
   "outputs": [
    {
     "data": {
      "image/png": "[encoded data removed]",
      "text/plain": [
       "<matplotlib.figure.Figure at 0x7fd1cf6f8e10>"
      ]
     },
     "metadata": {},
     "output_type": "display_data"
    }
   ],
   "source": [
    "plot_paths(G, nx.all_shortest_paths(G, source, target))"
   ]
  },
  {
   "cell_type": "code",
   "execution_count": 91,
   "metadata": {},
   "outputs": [
    {
     "name": "stdout",
     "output_type": "stream",
     "text": [
      "1 ['Medici', 'Barbadori', 'Castellani', 'Strozzi', 'Bischeri', 'Peruzzi']\n",
      "2 ['Medici', 'Barbadori', 'Castellani', 'Strozzi', 'Ridolfi', 'Tornabuoni', 'Guadagni', 'Bischeri', 'Peruzzi']\n",
      "3 ['Medici', 'Barbadori', 'Castellani', 'Strozzi', 'Peruzzi']\n",
      "4 ['Medici', 'Barbadori', 'Castellani', 'Peruzzi']\n",
      "5 ['Medici', 'Albizzi', 'Guadagni', 'Tornabuoni', 'Ridolfi', 'Strozzi', 'Castellani', 'Peruzzi']\n",
      "6 ['Medici', 'Albizzi', 'Guadagni', 'Tornabuoni', 'Ridolfi', 'Strozzi', 'Bischeri', 'Peruzzi']\n",
      "7 ['Medici', 'Albizzi', 'Guadagni', 'Tornabuoni', 'Ridolfi', 'Strozzi', 'Peruzzi']\n",
      "8 ['Medici', 'Albizzi', 'Guadagni', 'Bischeri', 'Strozzi', 'Castellani', 'Peruzzi']\n",
      "9 ['Medici', 'Albizzi', 'Guadagni', 'Bischeri', 'Strozzi', 'Peruzzi']\n",
      "10 ['Medici', 'Albizzi', 'Guadagni', 'Bischeri', 'Peruzzi']\n",
      "11 ['Medici', 'Tornabuoni', 'Ridolfi', 'Strozzi', 'Castellani', 'Peruzzi']\n",
      "12 ['Medici', 'Tornabuoni', 'Ridolfi', 'Strozzi', 'Bischeri', 'Peruzzi']\n",
      "13 ['Medici', 'Tornabuoni', 'Ridolfi', 'Strozzi', 'Peruzzi']\n",
      "14 ['Medici', 'Tornabuoni', 'Guadagni', 'Bischeri', 'Strozzi', 'Castellani', 'Peruzzi']\n",
      "15 ['Medici', 'Tornabuoni', 'Guadagni', 'Bischeri', 'Strozzi', 'Peruzzi']\n",
      "16 ['Medici', 'Tornabuoni', 'Guadagni', 'Bischeri', 'Peruzzi']\n",
      "17 ['Medici', 'Ridolfi', 'Strozzi', 'Castellani', 'Peruzzi']\n",
      "18 ['Medici', 'Ridolfi', 'Strozzi', 'Bischeri', 'Peruzzi']\n",
      "19 ['Medici', 'Ridolfi', 'Strozzi', 'Peruzzi']\n",
      "20 ['Medici', 'Ridolfi', 'Tornabuoni', 'Guadagni', 'Bischeri', 'Strozzi', 'Castellani', 'Peruzzi']\n",
      "21 ['Medici', 'Ridolfi', 'Tornabuoni', 'Guadagni', 'Bischeri', 'Strozzi', 'Peruzzi']\n",
      "22 ['Medici', 'Ridolfi', 'Tornabuoni', 'Guadagni', 'Bischeri', 'Peruzzi']\n"
     ]
    }
   ],
   "source": [
    "for i, path in enumerate(nx.all_simple_paths(G, source, target), 1):\n",
    "    print(i, path)"
   ]
  },
  {
   "cell_type": "code",
   "execution_count": 92,
   "metadata": {},
   "outputs": [
    {
     "name": "stdout",
     "output_type": "stream",
     "text": [
      "1 ['Medici', 'Barbadori', 'Castellani', 'Peruzzi']\n",
      "2 ['Medici', 'Ridolfi', 'Strozzi', 'Peruzzi']\n",
      "3 ['Medici', 'Barbadori', 'Castellani', 'Strozzi', 'Peruzzi']\n",
      "4 ['Medici', 'Albizzi', 'Guadagni', 'Bischeri', 'Peruzzi']\n",
      "5 ['Medici', 'Ridolfi', 'Strozzi', 'Castellani', 'Peruzzi']\n",
      "6 ['Medici', 'Tornabuoni', 'Ridolfi', 'Strozzi', 'Peruzzi']\n",
      "7 ['Medici', 'Ridolfi', 'Strozzi', 'Bischeri', 'Peruzzi']\n",
      "8 ['Medici', 'Tornabuoni', 'Guadagni', 'Bischeri', 'Peruzzi']\n",
      "9 ['Medici', 'Ridolfi', 'Tornabuoni', 'Guadagni', 'Bischeri', 'Peruzzi']\n",
      "10 ['Medici', 'Barbadori', 'Castellani', 'Strozzi', 'Bischeri', 'Peruzzi']\n",
      "11 ['Medici', 'Albizzi', 'Guadagni', 'Bischeri', 'Strozzi', 'Peruzzi']\n",
      "12 ['Medici', 'Tornabuoni', 'Ridolfi', 'Strozzi', 'Castellani', 'Peruzzi']\n",
      "13 ['Medici', 'Tornabuoni', 'Guadagni', 'Bischeri', 'Strozzi', 'Peruzzi']\n",
      "14 ['Medici', 'Tornabuoni', 'Ridolfi', 'Strozzi', 'Bischeri', 'Peruzzi']\n",
      "15 ['Medici', 'Albizzi', 'Guadagni', 'Tornabuoni', 'Ridolfi', 'Strozzi', 'Peruzzi']\n",
      "16 ['Medici', 'Ridolfi', 'Tornabuoni', 'Guadagni', 'Bischeri', 'Strozzi', 'Peruzzi']\n",
      "17 ['Medici', 'Albizzi', 'Guadagni', 'Bischeri', 'Strozzi', 'Castellani', 'Peruzzi']\n",
      "18 ['Medici', 'Tornabuoni', 'Guadagni', 'Bischeri', 'Strozzi', 'Castellani', 'Peruzzi']\n",
      "19 ['Medici', 'Albizzi', 'Guadagni', 'Tornabuoni', 'Ridolfi', 'Strozzi', 'Castellani', 'Peruzzi']\n",
      "20 ['Medici', 'Ridolfi', 'Tornabuoni', 'Guadagni', 'Bischeri', 'Strozzi', 'Castellani', 'Peruzzi']\n",
      "21 ['Medici', 'Albizzi', 'Guadagni', 'Tornabuoni', 'Ridolfi', 'Strozzi', 'Bischeri', 'Peruzzi']\n",
      "22 ['Medici', 'Barbadori', 'Castellani', 'Strozzi', 'Ridolfi', 'Tornabuoni', 'Guadagni', 'Bischeri', 'Peruzzi']\n"
     ]
    }
   ],
   "source": [
    "for i, path in enumerate(nx.shortest_simple_paths(G, source, target), 1):\n",
    "    print(i, path)"
   ]
  },
  {
   "cell_type": "markdown",
   "metadata": {},
   "source": [
    "### Node centrality analysis: measures and their relation\n",
    "\n",
    "Centrality analysis allows us to identify the most important nodes (ie actors) of a network. The definition of importance depends on the network that we analyze and the nature of the relations that it models. There are a lot of wellknown centrality measures, and NetworkX provides implementations for most of them (you can see the list of centrality measures at [centrality documentation](http://networkx.readthedocs.io/en/latest/reference/algorithms.centrality.html)).\n",
    "\n",
    "We'll focus here on four essential measures using as an example the network of relations between elite families in renaissance Florence. In this concrete example relations in the network represent marriage ties between families.\n",
    "\n",
    "In the beginning of the 14 century, the Medici family was not the richest nor the one with more formal political power (seats in the city council) on the city republic of Florence, but their relation to other elite families put them in a position of power that allow them to became the city's leading family, a position they would hold for the next three centuries.\n",
    "\n",
    "Analyzing this network we can see that the Medici family had a central position.\n",
    "\n",
    "NetworkX provides the network of florentine families modeled as an undirected graph:"
   ]
  },
  {
   "cell_type": "code",
   "execution_count": 93,
   "metadata": {
    "collapsed": true
   },
   "outputs": [],
   "source": [
    "G = nx.florentine_families_graph()"
   ]
  },
  {
   "cell_type": "markdown",
   "metadata": {},
   "source": [
    "### Degree Centrality\n",
    "\n",
    "The degree of a node in an undirected graph is the number of incident edges of the node, that is, the number of neighbors that it has on the graph.\n",
    "\n",
    "The degree centrality mesaure is the the number of neighbors of each node divided by the maximum number of neighbors that it could have. In an undirected graph, this is $n-1$ where $n$ is the total number of nodes of the graph.\n",
    "\n",
    "The output of the function **nx.degree_centrality** is a dictionary whose keys are the nodes and their value is the degree centrality score. Functions that implement node level measures in NetworkX, such as centrality scores, always return their result as a dictionary, with nodes as keys and the concrete score for that node as a value."
   ]
  },
  {
   "cell_type": "code",
   "execution_count": 94,
   "metadata": {
    "collapsed": true
   },
   "outputs": [],
   "source": [
    "from operator import itemgetter"
   ]
  },
  {
   "cell_type": "code",
   "execution_count": 95,
   "metadata": {},
   "outputs": [
    {
     "data": {
      "text/plain": [
       "[('Medici', 0.42857142857142855),\n",
       " ('Strozzi', 0.2857142857142857),\n",
       " ('Guadagni', 0.2857142857142857),\n",
       " ('Castellani', 0.21428571428571427),\n",
       " ('Albizzi', 0.21428571428571427),\n",
       " ('Peruzzi', 0.21428571428571427),\n",
       " ('Bischeri', 0.21428571428571427),\n",
       " ('Tornabuoni', 0.21428571428571427),\n",
       " ('Ridolfi', 0.21428571428571427),\n",
       " ('Barbadori', 0.14285714285714285),\n",
       " ('Salviati', 0.14285714285714285),\n",
       " ('Acciaiuoli', 0.07142857142857142),\n",
       " ('Lamberteschi', 0.07142857142857142),\n",
       " ('Ginori', 0.07142857142857142),\n",
       " ('Pazzi', 0.07142857142857142)]"
      ]
     },
     "execution_count": 95,
     "metadata": {},
     "output_type": "execute_result"
    }
   ],
   "source": [
    "degc = nx.degree_centrality(G)\n",
    "# let's list the scores\n",
    "sorted(degc.items(), key=itemgetter(1), reverse=True)"
   ]
  },
  {
   "cell_type": "markdown",
   "metadata": {},
   "source": [
    "### Betweenness centrality\n",
    "\n",
    "Betweenness centrality of a node `v` is the sum of the fraction of all-pairs shortest paths that pass through `v`: \n",
    "\n",
    "$$ c_B(v) =\\sum_{s,t \\in V} \\frac{\\sigma(s, t|v)}{\\sigma(s, t)} $$\n",
    "\n",
    "where `V` is the set of nodes, $\\sigma(s, t)$ is the number of shortest `(s, t)`-paths,  and $\\sigma(s, t|v)$ is the number of those paths passing through `v`."
   ]
  },
  {
   "cell_type": "code",
   "execution_count": 96,
   "metadata": {},
   "outputs": [
    {
     "data": {
      "text/plain": [
       "[('Medici', 0.521978021978022),\n",
       " ('Guadagni', 0.25457875457875456),\n",
       " ('Albizzi', 0.21245421245421245),\n",
       " ('Salviati', 0.14285714285714288),\n",
       " ('Ridolfi', 0.11355311355311355),\n",
       " ('Bischeri', 0.1043956043956044),\n",
       " ('Strozzi', 0.10256410256410256),\n",
       " ('Barbadori', 0.09340659340659341),\n",
       " ('Tornabuoni', 0.09157509157509158),\n",
       " ('Castellani', 0.05494505494505495),\n",
       " ('Peruzzi', 0.02197802197802198),\n",
       " ('Acciaiuoli', 0.0),\n",
       " ('Lamberteschi', 0.0),\n",
       " ('Ginori', 0.0),\n",
       " ('Pazzi', 0.0)]"
      ]
     },
     "execution_count": 96,
     "metadata": {},
     "output_type": "execute_result"
    }
   ],
   "source": [
    "bet = nx.betweenness_centrality(G)\n",
    "# let's list the scores\n",
    "sorted(bet.items(), key=itemgetter(1), reverse=True)"
   ]
  },
  {
   "cell_type": "markdown",
   "metadata": {},
   "source": [
    "### Closeness centrality\n",
    "\n",
    "Closeness centrality of a node `u` is the reciprocal of the sum of the shortest path distances from `u` to all `n-1` other nodes. Since the sum of distances depends on the number of nodes in the graph, closeness is normalized by the sum of minimum possible distances `n-1`.\n",
    "\n",
    "$$C(u) = \\frac{n - 1}{\\sum_{v=1}^{n-1} d(v, u)}$$\n",
    "\n",
    "where `d(v, u)` is the shortest-path distance between `v` and `u`, and `n` is the number of nodes in the graph. Notice that higher values of closeness indicate higher centrality.\n"
   ]
  },
  {
   "cell_type": "code",
   "execution_count": 97,
   "metadata": {},
   "outputs": [
    {
     "data": {
      "text/plain": [
       "[('Medici', 0.56),\n",
       " ('Ridolfi', 0.5),\n",
       " ('Albizzi', 0.4827586206896552),\n",
       " ('Tornabuoni', 0.4827586206896552),\n",
       " ('Guadagni', 0.4666666666666667),\n",
       " ('Barbadori', 0.4375),\n",
       " ('Strozzi', 0.4375),\n",
       " ('Bischeri', 0.4),\n",
       " ('Castellani', 0.3888888888888889),\n",
       " ('Salviati', 0.3888888888888889),\n",
       " ('Peruzzi', 0.3684210526315789),\n",
       " ('Acciaiuoli', 0.3684210526315789),\n",
       " ('Ginori', 0.3333333333333333),\n",
       " ('Lamberteschi', 0.32558139534883723),\n",
       " ('Pazzi', 0.2857142857142857)]"
      ]
     },
     "execution_count": 97,
     "metadata": {},
     "output_type": "execute_result"
    }
   ],
   "source": [
    "clos = nx.closeness_centrality(G)\n",
    "# let's list the scores\n",
    "sorted(clos.items(), key=itemgetter(1), reverse=True)"
   ]
  },
  {
   "cell_type": "markdown",
   "metadata": {},
   "source": [
    "### Eigenvector Centrality\n",
    "\n",
    "Eigenvector centrality assigns relative scores to all nodes in the network based on the concept that connections to high-scoring nodes contribute more to the score of the node in question than equal connections to low-scoring nodes.\n",
    "\n",
    "Google's pagerank score is a variant of eigenvector centrality (NetworkX also implements the pagerank algorithm)."
   ]
  },
  {
   "cell_type": "code",
   "execution_count": 98,
   "metadata": {},
   "outputs": [
    {
     "data": {
      "text/plain": [
       "[('Medici', 0.43031542583499227),\n",
       " ('Strozzi', 0.3559730326460451),\n",
       " ('Ridolfi', 0.34155442590743657),\n",
       " ('Tornabuoni', 0.325846704169574),\n",
       " ('Guadagni', 0.28911715732265014),\n",
       " ('Bischeri', 0.28279439587133565),\n",
       " ('Peruzzi', 0.27572243741048336),\n",
       " ('Castellani', 0.25902003784235145),\n",
       " ('Albizzi', 0.24396052967544776),\n",
       " ('Barbadori', 0.21170574706479853),\n",
       " ('Salviati', 0.14592084164171837),\n",
       " ('Acciaiuoli', 0.13215731952853424),\n",
       " ('Lamberteschi', 0.08879253113499551),\n",
       " ('Ginori', 0.07492453160277932),\n",
       " ('Pazzi', 0.04481493970386309)]"
      ]
     },
     "execution_count": 98,
     "metadata": {},
     "output_type": "execute_result"
    }
   ],
   "source": [
    "eig = nx.eigenvector_centrality(G)\n",
    "# let's list the scores\n",
    "sorted(eig.items(), key=itemgetter(1), reverse=True)"
   ]
  },
  {
   "cell_type": "markdown",
   "metadata": {},
   "source": [
    "### Relation between centraity measures \n",
    "\n",
    "As we can see the Medici family is the most important node in the network in all four centrality measures analyzed here. This is not always the case. When analyzing the node centrality of a network is important to think about the kind of realtions that it models, and choose the centrality measure that fits better in our concrete case.\n",
    "\n",
    "In practice it's useful to plot the relations between centrality scores to see their correlation and see up to which point they provide redundant information. We can do this easily using Pandas and seaborn."
   ]
  },
  {
   "cell_type": "code",
   "execution_count": 99,
   "metadata": {
    "collapsed": true
   },
   "outputs": [],
   "source": [
    "import pandas as pd\n",
    "import seaborn as sns"
   ]
  },
  {
   "cell_type": "code",
   "execution_count": 100,
   "metadata": {},
   "outputs": [
    {
     "data": {
      "text/html": [
       "<div>\n",
       "<table border=\"1\" class=\"dataframe\">\n",
       "  <thead>\n",
       "    <tr style=\"text-align: right;\">\n",
       "      <th></th>\n",
       "      <th>betweenness</th>\n",
       "      <th>closeness</th>\n",
       "      <th>degree</th>\n",
       "      <th>eigenvector</th>\n",
       "    </tr>\n",
       "  </thead>\n",
       "  <tbody>\n",
       "    <tr>\n",
       "      <th>Acciaiuoli</th>\n",
       "      <td>0.000000</td>\n",
       "      <td>0.368421</td>\n",
       "      <td>0.071429</td>\n",
       "      <td>0.132157</td>\n",
       "    </tr>\n",
       "    <tr>\n",
       "      <th>Albizzi</th>\n",
       "      <td>0.212454</td>\n",
       "      <td>0.482759</td>\n",
       "      <td>0.214286</td>\n",
       "      <td>0.243961</td>\n",
       "    </tr>\n",
       "    <tr>\n",
       "      <th>Barbadori</th>\n",
       "      <td>0.093407</td>\n",
       "      <td>0.437500</td>\n",
       "      <td>0.142857</td>\n",
       "      <td>0.211706</td>\n",
       "    </tr>\n",
       "    <tr>\n",
       "      <th>Bischeri</th>\n",
       "      <td>0.104396</td>\n",
       "      <td>0.400000</td>\n",
       "      <td>0.214286</td>\n",
       "      <td>0.282794</td>\n",
       "    </tr>\n",
       "    <tr>\n",
       "      <th>Castellani</th>\n",
       "      <td>0.054945</td>\n",
       "      <td>0.388889</td>\n",
       "      <td>0.214286</td>\n",
       "      <td>0.259020</td>\n",
       "    </tr>\n",
       "    <tr>\n",
       "      <th>Ginori</th>\n",
       "      <td>0.000000</td>\n",
       "      <td>0.333333</td>\n",
       "      <td>0.071429</td>\n",
       "      <td>0.074925</td>\n",
       "    </tr>\n",
       "    <tr>\n",
       "      <th>Guadagni</th>\n",
       "      <td>0.254579</td>\n",
       "      <td>0.466667</td>\n",
       "      <td>0.285714</td>\n",
       "      <td>0.289117</td>\n",
       "    </tr>\n",
       "    <tr>\n",
       "      <th>Lamberteschi</th>\n",
       "      <td>0.000000</td>\n",
       "      <td>0.325581</td>\n",
       "      <td>0.071429</td>\n",
       "      <td>0.088793</td>\n",
       "    </tr>\n",
       "    <tr>\n",
       "      <th>Medici</th>\n",
       "      <td>0.521978</td>\n",
       "      <td>0.560000</td>\n",
       "      <td>0.428571</td>\n",
       "      <td>0.430315</td>\n",
       "    </tr>\n",
       "    <tr>\n",
       "      <th>Pazzi</th>\n",
       "      <td>0.000000</td>\n",
       "      <td>0.285714</td>\n",
       "      <td>0.071429</td>\n",
       "      <td>0.044815</td>\n",
       "    </tr>\n",
       "    <tr>\n",
       "      <th>Peruzzi</th>\n",
       "      <td>0.021978</td>\n",
       "      <td>0.368421</td>\n",
       "      <td>0.214286</td>\n",
       "      <td>0.275722</td>\n",
       "    </tr>\n",
       "    <tr>\n",
       "      <th>Ridolfi</th>\n",
       "      <td>0.113553</td>\n",
       "      <td>0.500000</td>\n",
       "      <td>0.214286</td>\n",
       "      <td>0.341554</td>\n",
       "    </tr>\n",
       "    <tr>\n",
       "      <th>Salviati</th>\n",
       "      <td>0.142857</td>\n",
       "      <td>0.388889</td>\n",
       "      <td>0.142857</td>\n",
       "      <td>0.145921</td>\n",
       "    </tr>\n",
       "    <tr>\n",
       "      <th>Strozzi</th>\n",
       "      <td>0.102564</td>\n",
       "      <td>0.437500</td>\n",
       "      <td>0.285714</td>\n",
       "      <td>0.355973</td>\n",
       "    </tr>\n",
       "    <tr>\n",
       "      <th>Tornabuoni</th>\n",
       "      <td>0.091575</td>\n",
       "      <td>0.482759</td>\n",
       "      <td>0.214286</td>\n",
       "      <td>0.325847</td>\n",
       "    </tr>\n",
       "  </tbody>\n",
       "</table>\n",
       "</div>"
      ],
      "text/plain": [
       "              betweenness  closeness    degree  eigenvector\n",
       "Acciaiuoli       0.000000   0.368421  0.071429     0.132157\n",
       "Albizzi          0.212454   0.482759  0.214286     0.243961\n",
       "Barbadori        0.093407   0.437500  0.142857     0.211706\n",
       "Bischeri         0.104396   0.400000  0.214286     0.282794\n",
       "Castellani       0.054945   0.388889  0.214286     0.259020\n",
       "Ginori           0.000000   0.333333  0.071429     0.074925\n",
       "Guadagni         0.254579   0.466667  0.285714     0.289117\n",
       "Lamberteschi     0.000000   0.325581  0.071429     0.088793\n",
       "Medici           0.521978   0.560000  0.428571     0.430315\n",
       "Pazzi            0.000000   0.285714  0.071429     0.044815\n",
       "Peruzzi          0.021978   0.368421  0.214286     0.275722\n",
       "Ridolfi          0.113553   0.500000  0.214286     0.341554\n",
       "Salviati         0.142857   0.388889  0.142857     0.145921\n",
       "Strozzi          0.102564   0.437500  0.285714     0.355973\n",
       "Tornabuoni       0.091575   0.482759  0.214286     0.325847"
      ]
     },
     "execution_count": 100,
     "metadata": {},
     "output_type": "execute_result"
    }
   ],
   "source": [
    "centrality_measures = {\n",
    "    'degree': degc,\n",
    "    'betweenness': bet,\n",
    "    'closeness': clos,\n",
    "    'eigenvector': eig,\n",
    "}\n",
    "centrality = pd.DataFrame(centrality_measures)\n",
    "centrality"
   ]
  },
  {
   "cell_type": "code",
   "execution_count": 101,
   "metadata": {},
   "outputs": [
    {
     "data": {
      "text/plain": [
       "<seaborn.axisgrid.PairGrid at 0x7fd1cf613b38>"
      ]
     },
     "execution_count": 101,
     "metadata": {},
     "output_type": "execute_result"
    },
    {
     "data": {
      "image/png": "[encoded data removed]",
      "text/plain": [
       "<matplotlib.figure.Figure at 0x7fd1cc2dcac8>"
      ]
     },
     "metadata": {},
     "output_type": "display_data"
    }
   ],
   "source": [
    "sns.pairplot(centrality)"
   ]
  },
  {
   "cell_type": "markdown",
   "metadata": {
    "collapsed": true
   },
   "source": [
    "#### An example of a graph without high correlation between centrality measures\n",
    "\n",
    "As a couterexample, the graph below has low correlation between some of the centrality measures. This graph is composed by two random graphs joined by a node with an edge to one node of each random graph. The node bridging the two random graphs is in the middle of most shortest paths, and is closer to all other nodes than the nodes in the random graphs; but it only has two incident edges. Thus, it has high betweenness and closeness values but low degree and eigenvector centrality.  "
   ]
  },
  {
   "cell_type": "code",
   "execution_count": 102,
   "metadata": {},
   "outputs": [
    {
     "data": {
      "image/png": "[encoded data removed]",
      "text/plain": [
       "<matplotlib.figure.Figure at 0x7fd1bb9cc9b0>"
      ]
     },
     "metadata": {},
     "output_type": "display_data"
    }
   ],
   "source": [
    "#B = nx.barbell_graph(10, 1)\n",
    "done = False\n",
    "while not done:\n",
    "    B = nx.disjoint_union(nx.fast_gnp_random_graph(10, 0.5), nx.fast_gnp_random_graph(10, 0.5))\n",
    "    B.add_edges_from([('A', 0), ('A', 15)])\n",
    "    try:\n",
    "        eig = nx.eigenvector_centrality(B)\n",
    "        if nx.is_connected(B):\n",
    "            done = True\n",
    "    except:\n",
    "        pass\n",
    "nx.draw(B, node_size=400, node_color='white', with_labels=True)"
   ]
  },
  {
   "cell_type": "markdown",
   "metadata": {},
   "source": [
    "#### Exercise\n",
    "\n",
    "Analyze the node centrality metrics for the example graph $B$ defined in the previous cell. List the node centrality scores in reverse order.\n",
    "\n",
    "Then build a pandas DataFrame with nodes as rows and centrality metrics as columns. Plot a pairplot using seaborn to graphically see the correlation between centrality measures. How it's different from the correlations between centrality scores from the florentine families example?"
   ]
  },
  {
   "cell_type": "code",
   "execution_count": 106,
   "metadata": {},
   "outputs": [
    {
     "data": {
      "text/plain": [
       "[(10, 0.35000000000000003),\n",
       " (11, 0.35000000000000003),\n",
       " (15, 0.30000000000000004),\n",
       " (19, 0.30000000000000004),\n",
       " (5, 0.25),\n",
       " (14, 0.25),\n",
       " (17, 0.25),\n",
       " (3, 0.2),\n",
       " (4, 0.2),\n",
       " (6, 0.2),\n",
       " (9, 0.2),\n",
       " (12, 0.2),\n",
       " (18, 0.2),\n",
       " (0, 0.15000000000000002),\n",
       " (1, 0.15000000000000002),\n",
       " (7, 0.15000000000000002),\n",
       " (13, 0.15000000000000002),\n",
       " (2, 0.1),\n",
       " (16, 0.1),\n",
       " ('A', 0.1),\n",
       " (8, 0.05)]"
      ]
     },
     "execution_count": 106,
     "metadata": {},
     "output_type": "execute_result"
    }
   ],
   "source": [
    "# Degree Centrality\n",
    "degc = nx.degree_centrality(B)\n",
    "sorted(degc.items(), key=itemgetter(1), reverse=True)"
   ]
  },
  {
   "cell_type": "code",
   "execution_count": 107,
   "metadata": {},
   "outputs": [
    {
     "data": {
      "text/plain": [
       "[(15, 0.5328947368421052),\n",
       " ('A', 0.5263157894736842),\n",
       " (0, 0.5210526315789473),\n",
       " (5, 0.32807017543859635),\n",
       " (3, 0.1385964912280701),\n",
       " (9, 0.10701754385964911),\n",
       " (10, 0.09517543859649123),\n",
       " (14, 0.08421052631578947),\n",
       " (7, 0.08070175438596491),\n",
       " (11, 0.075),\n",
       " (4, 0.053508771929824575),\n",
       " (6, 0.04649122807017543),\n",
       " (12, 0.042105263157894736),\n",
       " (18, 0.03245614035087719),\n",
       " (17, 0.03070175438596491),\n",
       " (19, 0.021491228070175436),\n",
       " (13, 0.017543859649122806),\n",
       " (1, 0.014035087719298244),\n",
       " (2, 0.005263157894736842),\n",
       " (8, 0.0),\n",
       " (16, 0.0)]"
      ]
     },
     "execution_count": 107,
     "metadata": {},
     "output_type": "execute_result"
    }
   ],
   "source": [
    "# Betweenness Centrality\n",
    "bet = nx.betweenness_centrality(B)\n",
    "sorted(bet.items(), key=itemgetter(1), reverse=True)"
   ]
  },
  {
   "cell_type": "code",
   "execution_count": 108,
   "metadata": {},
   "outputs": [
    {
     "data": {
      "text/plain": [
       "[('A', 0.37735849056603776),\n",
       " (0, 0.37037037037037035),\n",
       " (15, 0.37037037037037035),\n",
       " (5, 0.3389830508474576),\n",
       " (3, 0.3225806451612903),\n",
       " (10, 0.3225806451612903),\n",
       " (14, 0.3125),\n",
       " (12, 0.3076923076923077),\n",
       " (18, 0.3076923076923077),\n",
       " (13, 0.29850746268656714),\n",
       " (6, 0.28169014084507044),\n",
       " (9, 0.28169014084507044),\n",
       " (4, 0.2777777777777778),\n",
       " (7, 0.2777777777777778),\n",
       " (11, 0.273972602739726),\n",
       " (19, 0.2702702702702703),\n",
       " (17, 0.26666666666666666),\n",
       " (1, 0.23529411764705882),\n",
       " (2, 0.22988505747126436),\n",
       " (8, 0.2222222222222222),\n",
       " (16, 0.21978021978021978)]"
      ]
     },
     "execution_count": 108,
     "metadata": {},
     "output_type": "execute_result"
    }
   ],
   "source": [
    "# Closeness centrality\n",
    "clos = nx.closeness_centrality(B)\n",
    "sorted(clos.items(), key=itemgetter(1), reverse=True)"
   ]
  },
  {
   "cell_type": "code",
   "execution_count": 109,
   "metadata": {},
   "outputs": [
    {
     "data": {
      "text/plain": [
       "[(10, 0.4324544535883934),\n",
       " (11, 0.4077812677287443),\n",
       " (19, 0.37380801909552674),\n",
       " (14, 0.3472632823843717),\n",
       " (17, 0.32259009652472265),\n",
       " (15, 0.29329182818462013),\n",
       " (12, 0.2860456704641322),\n",
       " (18, 0.24806570329793146),\n",
       " (13, 0.17367013425361072),\n",
       " (16, 0.13860187330089083),\n",
       " ('A', 0.05801991386230019),\n",
       " (0, 0.012445877624245934),\n",
       " (5, 0.003846926152612491),\n",
       " (3, 0.0037111572977509325),\n",
       " (4, 0.0018345222303870919),\n",
       " (6, 0.0014187082753956608),\n",
       " (9, 0.001240647669039299),\n",
       " (7, 0.0010282796984896635),\n",
       " (1, 0.0006802055737436094),\n",
       " (2, 0.00032486394243263936),\n",
       " (8, 0.0002358475072224893)]"
      ]
     },
     "execution_count": 109,
     "metadata": {},
     "output_type": "execute_result"
    }
   ],
   "source": [
    "# Eigenvector centrality\n",
    "eig = nx.eigenvector_centrality(B)\n",
    "sorted(eig.items(), key=itemgetter(1), reverse=True)"
   ]
  },
  {
   "cell_type": "code",
   "execution_count": 110,
   "metadata": {},
   "outputs": [
    {
     "data": {
      "text/html": [
       "<div>\n",
       "<table border=\"1\" class=\"dataframe\">\n",
       "  <thead>\n",
       "    <tr style=\"text-align: right;\">\n",
       "      <th></th>\n",
       "      <th>betweenness</th>\n",
       "      <th>closeness</th>\n",
       "      <th>degree</th>\n",
       "      <th>eigenvector</th>\n",
       "    </tr>\n",
       "  </thead>\n",
       "  <tbody>\n",
       "    <tr>\n",
       "      <th>0</th>\n",
       "      <td>0.521053</td>\n",
       "      <td>0.370370</td>\n",
       "      <td>0.15</td>\n",
       "      <td>0.012446</td>\n",
       "    </tr>\n",
       "    <tr>\n",
       "      <th>1</th>\n",
       "      <td>0.014035</td>\n",
       "      <td>0.235294</td>\n",
       "      <td>0.15</td>\n",
       "      <td>0.000680</td>\n",
       "    </tr>\n",
       "    <tr>\n",
       "      <th>2</th>\n",
       "      <td>0.005263</td>\n",
       "      <td>0.229885</td>\n",
       "      <td>0.10</td>\n",
       "      <td>0.000325</td>\n",
       "    </tr>\n",
       "    <tr>\n",
       "      <th>3</th>\n",
       "      <td>0.138596</td>\n",
       "      <td>0.322581</td>\n",
       "      <td>0.20</td>\n",
       "      <td>0.003711</td>\n",
       "    </tr>\n",
       "    <tr>\n",
       "      <th>4</th>\n",
       "      <td>0.053509</td>\n",
       "      <td>0.277778</td>\n",
       "      <td>0.20</td>\n",
       "      <td>0.001835</td>\n",
       "    </tr>\n",
       "    <tr>\n",
       "      <th>5</th>\n",
       "      <td>0.328070</td>\n",
       "      <td>0.338983</td>\n",
       "      <td>0.25</td>\n",
       "      <td>0.003847</td>\n",
       "    </tr>\n",
       "    <tr>\n",
       "      <th>6</th>\n",
       "      <td>0.046491</td>\n",
       "      <td>0.281690</td>\n",
       "      <td>0.20</td>\n",
       "      <td>0.001419</td>\n",
       "    </tr>\n",
       "    <tr>\n",
       "      <th>7</th>\n",
       "      <td>0.080702</td>\n",
       "      <td>0.277778</td>\n",
       "      <td>0.15</td>\n",
       "      <td>0.001028</td>\n",
       "    </tr>\n",
       "    <tr>\n",
       "      <th>8</th>\n",
       "      <td>0.000000</td>\n",
       "      <td>0.222222</td>\n",
       "      <td>0.05</td>\n",
       "      <td>0.000236</td>\n",
       "    </tr>\n",
       "    <tr>\n",
       "      <th>9</th>\n",
       "      <td>0.107018</td>\n",
       "      <td>0.281690</td>\n",
       "      <td>0.20</td>\n",
       "      <td>0.001241</td>\n",
       "    </tr>\n",
       "    <tr>\n",
       "      <th>10</th>\n",
       "      <td>0.095175</td>\n",
       "      <td>0.322581</td>\n",
       "      <td>0.35</td>\n",
       "      <td>0.432454</td>\n",
       "    </tr>\n",
       "    <tr>\n",
       "      <th>11</th>\n",
       "      <td>0.075000</td>\n",
       "      <td>0.273973</td>\n",
       "      <td>0.35</td>\n",
       "      <td>0.407781</td>\n",
       "    </tr>\n",
       "    <tr>\n",
       "      <th>12</th>\n",
       "      <td>0.042105</td>\n",
       "      <td>0.307692</td>\n",
       "      <td>0.20</td>\n",
       "      <td>0.286046</td>\n",
       "    </tr>\n",
       "    <tr>\n",
       "      <th>13</th>\n",
       "      <td>0.017544</td>\n",
       "      <td>0.298507</td>\n",
       "      <td>0.15</td>\n",
       "      <td>0.173670</td>\n",
       "    </tr>\n",
       "    <tr>\n",
       "      <th>14</th>\n",
       "      <td>0.084211</td>\n",
       "      <td>0.312500</td>\n",
       "      <td>0.25</td>\n",
       "      <td>0.347263</td>\n",
       "    </tr>\n",
       "    <tr>\n",
       "      <th>15</th>\n",
       "      <td>0.532895</td>\n",
       "      <td>0.370370</td>\n",
       "      <td>0.30</td>\n",
       "      <td>0.293292</td>\n",
       "    </tr>\n",
       "    <tr>\n",
       "      <th>16</th>\n",
       "      <td>0.000000</td>\n",
       "      <td>0.219780</td>\n",
       "      <td>0.10</td>\n",
       "      <td>0.138602</td>\n",
       "    </tr>\n",
       "    <tr>\n",
       "      <th>17</th>\n",
       "      <td>0.030702</td>\n",
       "      <td>0.266667</td>\n",
       "      <td>0.25</td>\n",
       "      <td>0.322590</td>\n",
       "    </tr>\n",
       "    <tr>\n",
       "      <th>18</th>\n",
       "      <td>0.032456</td>\n",
       "      <td>0.307692</td>\n",
       "      <td>0.20</td>\n",
       "      <td>0.248066</td>\n",
       "    </tr>\n",
       "    <tr>\n",
       "      <th>19</th>\n",
       "      <td>0.021491</td>\n",
       "      <td>0.270270</td>\n",
       "      <td>0.30</td>\n",
       "      <td>0.373808</td>\n",
       "    </tr>\n",
       "    <tr>\n",
       "      <th>A</th>\n",
       "      <td>0.526316</td>\n",
       "      <td>0.377358</td>\n",
       "      <td>0.10</td>\n",
       "      <td>0.058020</td>\n",
       "    </tr>\n",
       "  </tbody>\n",
       "</table>\n",
       "</div>"
      ],
      "text/plain": [
       "    betweenness  closeness  degree  eigenvector\n",
       "0      0.521053   0.370370    0.15     0.012446\n",
       "1      0.014035   0.235294    0.15     0.000680\n",
       "2      0.005263   0.229885    0.10     0.000325\n",
       "3      0.138596   0.322581    0.20     0.003711\n",
       "4      0.053509   0.277778    0.20     0.001835\n",
       "5      0.328070   0.338983    0.25     0.003847\n",
       "6      0.046491   0.281690    0.20     0.001419\n",
       "7      0.080702   0.277778    0.15     0.001028\n",
       "8      0.000000   0.222222    0.05     0.000236\n",
       "9      0.107018   0.281690    0.20     0.001241\n",
       "10     0.095175   0.322581    0.35     0.432454\n",
       "11     0.075000   0.273973    0.35     0.407781\n",
       "12     0.042105   0.307692    0.20     0.286046\n",
       "13     0.017544   0.298507    0.15     0.173670\n",
       "14     0.084211   0.312500    0.25     0.347263\n",
       "15     0.532895   0.370370    0.30     0.293292\n",
       "16     0.000000   0.219780    0.10     0.138602\n",
       "17     0.030702   0.266667    0.25     0.322590\n",
       "18     0.032456   0.307692    0.20     0.248066\n",
       "19     0.021491   0.270270    0.30     0.373808\n",
       "A      0.526316   0.377358    0.10     0.058020"
      ]
     },
     "execution_count": 110,
     "metadata": {},
     "output_type": "execute_result"
    }
   ],
   "source": [
    "# Build a pandas DataFrame with nodes as rows and centrality scores as columns\n",
    "centrality_measures = {\n",
    "    'degree': nx.degree_centrality(B),\n",
    "    'betweenness': nx.betweenness_centrality(B),\n",
    "    'closeness': nx.closeness_centrality(B),\n",
    "    'eigenvector': nx.eigenvector_centrality(B),\n",
    "}\n",
    "centrality = pd.DataFrame(centrality_measures)\n",
    "centrality\n"
   ]
  },
  {
   "cell_type": "code",
   "execution_count": 111,
   "metadata": {},
   "outputs": [
    {
     "data": {
      "text/plain": [
       "<seaborn.axisgrid.PairGrid at 0x7fd1bb1b4630>"
      ]
     },
     "execution_count": 111,
     "metadata": {},
     "output_type": "execute_result"
    },
    {
     "data": {
      "image/png": "[encoded data removed]",
      "text/plain": [
       "<matplotlib.figure.Figure at 0x7fd1bb1b4278>"
      ]
     },
     "metadata": {},
     "output_type": "display_data"
    }
   ],
   "source": [
    "# Plot a pairplot of the centrality scores to see their correlation\n",
    "sns.pairplot(centrality)"
   ]
  },
  {
   "cell_type": "markdown",
   "metadata": {},
   "source": [
    "### Components, cliques, k-cores, and k-components\n",
    "\n",
    "A **subgraph** of $G$ is a graph whose nodes and edges are all in $G$. An **induced subgraph** $G[U]$ is a subgraph defined by a subset of nodes $U \\subseteq V(G)$ with all the edges in $G$ that link nodes in $U$. A subgraph is **maximal** in respect to some property if the addition of more nodes to the subgraph will cause the loss of that property.\n",
    "\n",
    "#### Connected components\n",
    "For undirected graphs, a **component** is a maximal connected subgraph, which means that there is at least one path between any two nodes in that subgraph.\n",
    "\n",
    "For directed graphs, a **weakly connected component** is a subgraph that is connected if we replace all of its directed edges with undirected edges. A **strongly connected component** is a subgraph where there is a path in each direction between each pair of nodes of the subgraph.\n",
    "\n",
    "You can check NetworkX documentation for the functions that deal with [components](http://networkx.readthedocs.io/en/latest/reference/algorithms.component.html).\n"
   ]
  },
  {
   "cell_type": "code",
   "execution_count": 112,
   "metadata": {},
   "outputs": [
    {
     "data": {
      "image/png": "[encoded data removed]",
      "text/plain": [
       "<matplotlib.figure.Figure at 0x7fd1baa77ac8>"
      ]
     },
     "metadata": {},
     "output_type": "display_data"
    }
   ],
   "source": [
    "G = nx.disjoint_union(nx.petersen_graph(), nx.tetrahedral_graph())\n",
    "nx.draw(G, with_labels=True)"
   ]
  },
  {
   "cell_type": "markdown",
   "metadata": {},
   "source": [
    "The function **nx.connected_components** yields sets of nodes that form the components of the graph. If you want the induced subgraphs of the components you have to use **nx.connected_component_subgraphs**"
   ]
  },
  {
   "cell_type": "code",
   "execution_count": 113,
   "metadata": {},
   "outputs": [
    {
     "data": {
      "text/plain": [
       "[{0, 1, 2, 3, 4, 5, 6, 7, 8, 9}, {10, 11, 12, 13}]"
      ]
     },
     "execution_count": 113,
     "metadata": {},
     "output_type": "execute_result"
    }
   ],
   "source": [
    "list(nx.connected_components(G))"
   ]
  },
  {
   "cell_type": "markdown",
   "metadata": {},
   "source": [
    "##### Quick execise\n",
    "How to select the largest connected component of a graph?"
   ]
  },
  {
   "cell_type": "code",
   "execution_count": 114,
   "metadata": {},
   "outputs": [
    {
     "data": {
      "text/plain": [
       "10"
      ]
     },
     "execution_count": 114,
     "metadata": {},
     "output_type": "execute_result"
    }
   ],
   "source": [
    "largest = max(nx.connected_components(G), key=len)\n",
    "len(largest)"
   ]
  },
  {
   "cell_type": "markdown",
   "metadata": {},
   "source": [
    "Returning to the florentine families marriage graph, we can analyze the importance of each family in maintaining the graph connected by removing each node, checking if the graph remains connected after the removal, and computing the percentage of nodes in the largest connected component if removing the node disconnects the graph:"
   ]
  },
  {
   "cell_type": "code",
   "execution_count": 115,
   "metadata": {},
   "outputs": [],
   "source": [
    "G = nx.florentine_families_graph()"
   ]
  },
  {
   "cell_type": "code",
   "execution_count": 116,
   "metadata": {},
   "outputs": [
    {
     "data": {
      "text/plain": [
       "[{'Acciaiuoli',\n",
       "  'Albizzi',\n",
       "  'Barbadori',\n",
       "  'Bischeri',\n",
       "  'Castellani',\n",
       "  'Ginori',\n",
       "  'Guadagni',\n",
       "  'Lamberteschi',\n",
       "  'Medici',\n",
       "  'Pazzi',\n",
       "  'Peruzzi',\n",
       "  'Ridolfi',\n",
       "  'Salviati',\n",
       "  'Strozzi',\n",
       "  'Tornabuoni'}]"
      ]
     },
     "execution_count": 116,
     "metadata": {},
     "output_type": "execute_result"
    }
   ],
   "source": [
    "# The florentine families graph is connected, thus all nodes are in the same connected component.\n",
    "list(nx.connected_components(G))"
   ]
  },
  {
   "cell_type": "code",
   "execution_count": 117,
   "metadata": {},
   "outputs": [
    {
     "name": "stdout",
     "output_type": "stream",
     "text": [
      "Medici: size of the largest connected component = 73.3%\n",
      "Albizzi: size of the largest connected component = 86.7%\n",
      "Guadagni: size of the largest connected component = 86.7%\n",
      "Salviati: size of the largest connected component = 86.7%\n"
     ]
    }
   ],
   "source": [
    "for family in G:\n",
    "    H = G.copy()\n",
    "    H.remove_node(family)\n",
    "    if not nx.is_connected(H):\n",
    "        largest = max(nx.connected_components(H), key=len)\n",
    "        percent = len(largest) / len(G) * 100\n",
    "        print('{}: size of the largest connected component = {:.1f}%'.format(family, percent))"
   ]
  },
  {
   "cell_type": "markdown",
   "metadata": {},
   "source": [
    "For directed graphs we have to distinguish between weakly and strongly connected components:"
   ]
  },
  {
   "cell_type": "code",
   "execution_count": 118,
   "metadata": {},
   "outputs": [
    {
     "data": {
      "image/png": "[encoded data removed]",
      "text/plain": [
       "<matplotlib.figure.Figure at 0x7fd1baa900f0>"
      ]
     },
     "metadata": {},
     "output_type": "display_data"
    }
   ],
   "source": [
    "D = nx.disjoint_union(\n",
    "    nx.tetrahedral_graph(create_using=nx.DiGraph()),\n",
    "    nx.tetrahedral_graph(create_using=nx.DiGraph())\n",
    ")\n",
    "D.add_edge(3, 6)\n",
    "nx.draw(D, with_labels=True)"
   ]
  },
  {
   "cell_type": "code",
   "execution_count": 119,
   "metadata": {},
   "outputs": [
    {
     "data": {
      "text/plain": [
       "[{0, 1, 2, 3, 4, 5, 6, 7}]"
      ]
     },
     "execution_count": 119,
     "metadata": {},
     "output_type": "execute_result"
    }
   ],
   "source": [
    "list(nx.weakly_connected_components(D))"
   ]
  },
  {
   "cell_type": "code",
   "execution_count": 120,
   "metadata": {},
   "outputs": [
    {
     "data": {
      "text/plain": [
       "[{4, 5, 6, 7}, {0, 1, 2, 3}]"
      ]
     },
     "execution_count": 120,
     "metadata": {},
     "output_type": "execute_result"
    }
   ],
   "source": [
    "list(nx.strongly_connected_components(D))"
   ]
  },
  {
   "cell_type": "markdown",
   "metadata": {},
   "source": [
    "#### $k$-components\n",
    "\n",
    "* The removal of a node $v$ from $G$ results in a subgraph $G - v$ that does not contain $v$ nor any of its incident edges.\n",
    "\n",
    "* The **node connectivity** of a graph $G$ is denoted $\\kappa(G)$ and is defined as the minimum number of nodes that must be removed in order to disconnect the graph $G$. Those nodes that must be removed to disconnect $G$ form a **node cut-set**. If it is only necessary to remove one node to disconnect $G$, this node is called an **articulation point**.\n",
    "\n",
    "* We can also define the **local node connectivity** for two nodes $u$ and $v$, denoted $\\kappa_{G}(u,v)$, as the minimum number of nodes that must be removed in order to destroy all paths that join $u$ and $v$ in $G$. Then the **node connectivity** of $G$ is equal to $min{\\{\\kappa_{G}(u,v):u,v \\in V(G)\\}}$.\n",
    "\n",
    "* Similarly, the **edge connectivity** of a graph $G$ is denoted $\\lambda(G)$ and is defined as the minimum number of edges that must be removed in order to disconnect the graph $G$. The edges that must be removed to disconnect $G$ form an **edge cut-set**.\n",
    "\n",
    "* A **$k$-component** is a maximal subgraph of a graph $G$ that has, at least, node connectivity $k$: we need to remove at least $k$ nodes to break it into more components. Notice that $k$-components have an inherent hierarchical structure because they are nested in terms of connectivity: a connected graph can contain several 2-components, each of which can contain one or more tricomponents, and so forth. \n",
    "\n",
    "You can check NetworkX documentation for the functions that deal with [node and edge connectivity](http://networkx.readthedocs.io/en/latest/reference/algorithms.connectivity.html)."
   ]
  },
  {
   "cell_type": "markdown",
   "metadata": {},
   "source": [
    "In the previous section we have seen that only 4 nodes in the florentine families graph disconnect the network when removed. By the definitions above, these nodes are **articulation points** and we can complute them faster than removing all nodes, one by one, and see which of them actually disconnect the network."
   ]
  },
  {
   "cell_type": "code",
   "execution_count": 121,
   "metadata": {},
   "outputs": [
    {
     "data": {
      "text/plain": [
       "{'Albizzi', 'Guadagni', 'Medici', 'Salviati'}"
      ]
     },
     "execution_count": 121,
     "metadata": {},
     "output_type": "execute_result"
    }
   ],
   "source": [
    "G = nx.florentine_families_graph()\n",
    "set(nx.articulation_points(G))"
   ]
  },
  {
   "cell_type": "markdown",
   "metadata": {},
   "source": [
    "When we remove the articulation points from a graph we obtain a set of subgraphs for which we need to remove 2 or more nodes to diconnect them. These are the 2-components or biconnected components. Note that, by convention, dyads are considered biconnected components."
   ]
  },
  {
   "cell_type": "code",
   "execution_count": 123,
   "metadata": {},
   "outputs": [
    {
     "data": {
      "text/plain": [
       "[{'Albizzi', 'Ginori'},\n",
       " {'Pazzi', 'Salviati'},\n",
       " {'Medici', 'Salviati'},\n",
       " {'Acciaiuoli', 'Medici'},\n",
       " {'Guadagni', 'Lamberteschi'},\n",
       " {'Albizzi',\n",
       "  'Barbadori',\n",
       "  'Bischeri',\n",
       "  'Castellani',\n",
       "  'Guadagni',\n",
       "  'Medici',\n",
       "  'Peruzzi',\n",
       "  'Ridolfi',\n",
       "  'Strozzi',\n",
       "  'Tornabuoni'}]"
      ]
     },
     "execution_count": 123,
     "metadata": {},
     "output_type": "execute_result"
    }
   ],
   "source": [
    "list(nx.biconnected_components(G))"
   ]
  },
  {
   "cell_type": "code",
   "execution_count": 124,
   "metadata": {
    "collapsed": true
   },
   "outputs": [],
   "source": [
    "# Obtain the largest biconnected component as a subgraph\n",
    "B = max(nx.biconnected_component_subgraphs(G), key=len)"
   ]
  },
  {
   "cell_type": "markdown",
   "metadata": {},
   "source": [
    "Biconnected components, or 2-components, have node connectivity 2 which means that we need to remove two nodes to disconnect them. You can compute the node connectiviy value of a graph using the function **nx.node_connectivity**"
   ]
  },
  {
   "cell_type": "code",
   "execution_count": 126,
   "metadata": {},
   "outputs": [
    {
     "data": {
      "text/plain": [
       "2"
      ]
     },
     "execution_count": 126,
     "metadata": {},
     "output_type": "execute_result"
    }
   ],
   "source": [
    "nx.node_connectivity(B)"
   ]
  },
  {
   "cell_type": "markdown",
   "metadata": {},
   "source": [
    "In order to compute which two nodes actually disconnect the biconnected component you can use the function **nx.minimum_node_cut** the output of this function is a node cut set, a set of nodes of minimum cardinality that if removed will disconnect the graph."
   ]
  },
  {
   "cell_type": "code",
   "execution_count": 129,
   "metadata": {},
   "outputs": [
    {
     "data": {
      "text/plain": [
       "{'Castellani', 'Medici'}"
      ]
     },
     "execution_count": 129,
     "metadata": {},
     "output_type": "execute_result"
    }
   ],
   "source": [
    "cut_set= nx.minimum_node_cut(B)\n",
    "cut_set"
   ]
  },
  {
   "cell_type": "code",
   "execution_count": 130,
   "metadata": {},
   "outputs": [
    {
     "data": {
      "text/plain": [
       "False"
      ]
     },
     "execution_count": 130,
     "metadata": {},
     "output_type": "execute_result"
    }
   ],
   "source": [
    "B.remove_nodes_from(cut_set)\n",
    "nx.is_connected(B)"
   ]
  },
  {
   "cell_type": "markdown",
   "metadata": {},
   "source": [
    "In order to compute higher order components, that is, 3-components, 4-components, ... You can use the function **nx.k_components** which returns a dictionary with connectivity levels as keys an list of sets of nodes that form a k-components at each connectivity level.\n",
    "\n",
    "To illustrate this function we'll use the karate club graph because the florentine families graphs only have two levels of connectivity and the karate club graph has four."
   ]
  },
  {
   "cell_type": "code",
   "execution_count": 143,
   "metadata": {},
   "outputs": [
    {
     "data": {
      "image/png": "[encoded data removed]",
      "text/plain": [
       "<matplotlib.figure.Figure at 0x7fd1ba834a58>"
      ]
     },
     "metadata": {},
     "output_type": "display_data"
    }
   ],
   "source": [
    "K = nx.karate_club_graph()\n",
    "nx.draw(K, with_labels=True)"
   ]
  },
  {
   "cell_type": "code",
   "execution_count": 137,
   "metadata": {},
   "outputs": [
    {
     "data": {
      "text/plain": [
       "{1: [{0,\n",
       "   1,\n",
       "   2,\n",
       "   3,\n",
       "   4,\n",
       "   5,\n",
       "   6,\n",
       "   7,\n",
       "   8,\n",
       "   9,\n",
       "   10,\n",
       "   11,\n",
       "   12,\n",
       "   13,\n",
       "   14,\n",
       "   15,\n",
       "   16,\n",
       "   17,\n",
       "   18,\n",
       "   19,\n",
       "   20,\n",
       "   21,\n",
       "   22,\n",
       "   23,\n",
       "   24,\n",
       "   25,\n",
       "   26,\n",
       "   27,\n",
       "   28,\n",
       "   29,\n",
       "   30,\n",
       "   31,\n",
       "   32,\n",
       "   33}],\n",
       " 2: [{0,\n",
       "   1,\n",
       "   2,\n",
       "   3,\n",
       "   7,\n",
       "   8,\n",
       "   9,\n",
       "   12,\n",
       "   13,\n",
       "   14,\n",
       "   15,\n",
       "   17,\n",
       "   18,\n",
       "   19,\n",
       "   20,\n",
       "   21,\n",
       "   22,\n",
       "   23,\n",
       "   24,\n",
       "   25,\n",
       "   26,\n",
       "   27,\n",
       "   28,\n",
       "   29,\n",
       "   30,\n",
       "   31,\n",
       "   32,\n",
       "   33},\n",
       "  {0, 4, 5, 6, 10, 16}],\n",
       " 3: [{0, 1, 2, 3, 7, 8, 13, 19, 23, 24, 25, 27, 28, 29, 30, 31, 32, 33},\n",
       "  {0, 4, 5, 6, 10}],\n",
       " 4: [{0, 1, 2, 3, 7, 8, 13, 30, 32, 33}]}"
      ]
     },
     "execution_count": 137,
     "metadata": {},
     "output_type": "execute_result"
    }
   ],
   "source": [
    "k_components = nx.k_components(K)\n",
    "k_components"
   ]
  },
  {
   "cell_type": "code",
   "execution_count": 138,
   "metadata": {
    "collapsed": true
   },
   "outputs": [],
   "source": [
    "# Build the subgraph of nodes that form a 4-component\n",
    "K4 = K.subgraph(k_components[4][0])"
   ]
  },
  {
   "cell_type": "code",
   "execution_count": 139,
   "metadata": {},
   "outputs": [
    {
     "data": {
      "text/plain": [
       "4"
      ]
     },
     "execution_count": 139,
     "metadata": {},
     "output_type": "execute_result"
    }
   ],
   "source": [
    "nx.node_connectivity(K4)"
   ]
  },
  {
   "cell_type": "code",
   "execution_count": 141,
   "metadata": {},
   "outputs": [
    {
     "data": {
      "text/plain": [
       "{1, 8, 32, 33}"
      ]
     },
     "execution_count": 141,
     "metadata": {},
     "output_type": "execute_result"
    }
   ],
   "source": [
    "cut_set = nx.minimum_node_cut(K4)\n",
    "cut_set"
   ]
  },
  {
   "cell_type": "code",
   "execution_count": 142,
   "metadata": {},
   "outputs": [
    {
     "data": {
      "text/plain": [
       "False"
      ]
     },
     "execution_count": 142,
     "metadata": {},
     "output_type": "execute_result"
    }
   ],
   "source": [
    "K4.remove_nodes_from(cut_set)\n",
    "nx.is_connected(K4)"
   ]
  },
  {
   "cell_type": "markdown",
   "metadata": {},
   "source": [
    "#### Cliques\n",
    "A **complete graph** is a graph in which all possible edges are present, so its density is 1. A **clique** is an induced subgraph $G[U]$ formed by a subset of nodes $U \\subseteq V(G)$ if, and only if, the induced subgraph $G[U]$ is a complete graph. Thus, there is an edge that links each pair of nodes in a clique.\n",
    "\n",
    "By convention dyads are considered cliques but they are not very interesting so it's safe to filter them out."
   ]
  },
  {
   "cell_type": "code",
   "execution_count": 145,
   "metadata": {},
   "outputs": [
    {
     "data": {
      "text/plain": [
       "[[0, 1, 17],\n",
       " [0, 1, 2, 3, 13],\n",
       " [0, 1, 2, 3, 7],\n",
       " [0, 1, 19],\n",
       " [0, 1, 21],\n",
       " [0, 4, 10],\n",
       " [0, 4, 6],\n",
       " [0, 5, 10],\n",
       " [0, 5, 6],\n",
       " [0, 8, 2],\n",
       " [0, 12, 3],\n",
       " [2, 32, 8],\n",
       " [5, 16, 6],\n",
       " [33, 32, 8, 30],\n",
       " [33, 32, 14],\n",
       " [33, 32, 15],\n",
       " [33, 32, 18],\n",
       " [33, 32, 20],\n",
       " [33, 32, 22],\n",
       " [33, 32, 23, 29],\n",
       " [33, 32, 31],\n",
       " [33, 26, 29],\n",
       " [33, 27, 23],\n",
       " [33, 28, 31],\n",
       " [24, 25, 31]]"
      ]
     },
     "execution_count": 145,
     "metadata": {},
     "output_type": "execute_result"
    }
   ],
   "source": [
    "cliques = list(nx.find_cliques(K))\n",
    "[clique for clique in cliques if len(clique) > 2]"
   ]
  },
  {
   "cell_type": "code",
   "execution_count": 146,
   "metadata": {},
   "outputs": [
    {
     "data": {
      "text/plain": [
       "1.0"
      ]
     },
     "execution_count": 146,
     "metadata": {},
     "output_type": "execute_result"
    }
   ],
   "source": [
    "clique = K.subgraph([0, 1, 2, 3, 13])\n",
    "nx.density(clique)"
   ]
  },
  {
   "cell_type": "markdown",
   "metadata": {},
   "source": [
    "#### $k$-cores\n",
    "A $k$-core of $G$ is a maximal subgraph in which all nodes have degree greater or equal than $k$; which means that a $k$-core is a maximal subgraph with the property $\\delta \\ge k$. The **core number** of a node is the largest value $k$ of a $k$-core containing that node."
   ]
  },
  {
   "cell_type": "code",
   "execution_count": 147,
   "metadata": {},
   "outputs": [
    {
     "data": {
      "text/plain": [
       "{0: 4,\n",
       " 1: 4,\n",
       " 2: 4,\n",
       " 3: 4,\n",
       " 4: 3,\n",
       " 5: 3,\n",
       " 6: 3,\n",
       " 7: 4,\n",
       " 8: 4,\n",
       " 9: 2,\n",
       " 10: 3,\n",
       " 11: 1,\n",
       " 12: 2,\n",
       " 13: 4,\n",
       " 14: 2,\n",
       " 15: 2,\n",
       " 16: 2,\n",
       " 17: 2,\n",
       " 18: 2,\n",
       " 19: 3,\n",
       " 20: 2,\n",
       " 21: 2,\n",
       " 22: 2,\n",
       " 23: 3,\n",
       " 24: 3,\n",
       " 25: 3,\n",
       " 26: 2,\n",
       " 27: 3,\n",
       " 28: 3,\n",
       " 29: 3,\n",
       " 30: 4,\n",
       " 31: 3,\n",
       " 32: 4,\n",
       " 33: 4}"
      ]
     },
     "execution_count": 147,
     "metadata": {},
     "output_type": "execute_result"
    }
   ],
   "source": [
    "nx.core_number(K)"
   ]
  },
  {
   "cell_type": "markdown",
   "metadata": {},
   "source": [
    "We can obtain the subgraph that forms a k-core using the function **nx.kcore**"
   ]
  },
  {
   "cell_type": "code",
   "execution_count": 148,
   "metadata": {
    "collapsed": true
   },
   "outputs": [],
   "source": [
    "C3 = nx.k_core(K, 3)"
   ]
  },
  {
   "cell_type": "code",
   "execution_count": 150,
   "metadata": {},
   "outputs": [
    {
     "data": {
      "image/png": "[encoded data removed]",
      "text/plain": [
       "<matplotlib.figure.Figure at 0x7fd1ba7a4c18>"
      ]
     },
     "metadata": {},
     "output_type": "display_data"
    }
   ],
   "source": [
    "nx.draw(C3, with_labels=True)"
   ]
  },
  {
   "cell_type": "markdown",
   "metadata": {},
   "source": [
    "Note that k-cores, even though all nodes have degree at least k, do not have the connectivity properties of k-components. In this example the 3-core can be disconnected by removing only one node: 0."
   ]
  },
  {
   "cell_type": "code",
   "execution_count": 153,
   "metadata": {},
   "outputs": [
    {
     "data": {
      "text/plain": [
       "1"
      ]
     },
     "execution_count": 153,
     "metadata": {},
     "output_type": "execute_result"
    }
   ],
   "source": [
    "nx.node_connectivity(C3)"
   ]
  },
  {
   "cell_type": "markdown",
   "metadata": {},
   "source": [
    "If we look at the k-components that we computed before we can see that in this 3-core there are actually two distinct 3-components:"
   ]
  },
  {
   "cell_type": "code",
   "execution_count": 154,
   "metadata": {},
   "outputs": [
    {
     "data": {
      "text/plain": [
       "[{0, 1, 2, 3, 7, 8, 13, 19, 23, 24, 25, 27, 28, 29, 30, 31, 32, 33},\n",
       " {0, 4, 5, 6, 10}]"
      ]
     },
     "execution_count": 154,
     "metadata": {},
     "output_type": "execute_result"
    }
   ],
   "source": [
    "k_components[3]"
   ]
  },
  {
   "cell_type": "markdown",
   "metadata": {},
   "source": [
    "### Exercise: Analyze the karate club graph\n",
    "\n",
    "The Karate Club graph we used in the previous exercises is a well-known social network of a university karate club described in \"An Information Flow Model for Conflict and Fission in Small Groups\" paper by Wayne W. Zachary. See [wikipedia](https://en.wikipedia.org/wiki/Zachary%27s_karate_club) for more information.\n",
    "\n",
    "The club suffered a split during Zachary's field work which resulted in two new karate clubs, one managed by the instructor named 'Mr Hi' (node 0) and the other by the administrator named 'the Officer' (node 33).\n",
    "\n",
    "Analyze the centrality metrics of nodes in this graph and see which position have both the instructor and the administrator.\n",
    "\n",
    "In this graph nodes have a node attribute named 'club' with values 'Mr. Hi' or 'Officer' to indicate to which club each member went after the split. Plot the graph using different colors for nodes with different values of the node attribute 'club'."
   ]
  },
  {
   "cell_type": "code",
   "execution_count": 160,
   "metadata": {
    "collapsed": true
   },
   "outputs": [],
   "source": [
    "K = nx.karate_club_graph()"
   ]
  },
  {
   "cell_type": "code",
   "execution_count": 161,
   "metadata": {
    "collapsed": true
   },
   "outputs": [],
   "source": [
    "degc = nx.degree_centrality(K)\n",
    "bet = nx.betweenness_centrality(K)\n",
    "clos = nx.closeness_centrality(K)\n",
    "eig = nx.eigenvector_centrality(K)"
   ]
  },
  {
   "cell_type": "code",
   "execution_count": 162,
   "metadata": {},
   "outputs": [
    {
     "data": {
      "text/plain": [
       "[(0, 0.4376352813852815),\n",
       " (33, 0.304074975949976),\n",
       " (32, 0.145247113997114),\n",
       " (2, 0.14365680615680618),\n",
       " (31, 0.13827561327561325),\n",
       " (8, 0.05592682780182781),\n",
       " (1, 0.053936688311688304),\n",
       " (13, 0.04586339586339586),\n",
       " (19, 0.03247504810004811),\n",
       " (5, 0.02998737373737374),\n",
       " (6, 0.029987373737373736),\n",
       " (27, 0.02233345358345358),\n",
       " (23, 0.017613636363636363),\n",
       " (30, 0.014411976911976907),\n",
       " (3, 0.011909271284271283),\n",
       " (25, 0.0038404882154882154),\n",
       " (29, 0.0029220779220779218),\n",
       " (24, 0.0022095959595959595),\n",
       " (28, 0.0017947330447330447),\n",
       " (9, 0.0008477633477633478),\n",
       " (4, 0.0006313131313131313),\n",
       " (10, 0.0006313131313131313),\n",
       " (7, 0.0),\n",
       " (11, 0.0),\n",
       " (12, 0.0),\n",
       " (14, 0.0),\n",
       " (15, 0.0),\n",
       " (16, 0.0),\n",
       " (17, 0.0),\n",
       " (18, 0.0),\n",
       " (20, 0.0),\n",
       " (21, 0.0),\n",
       " (22, 0.0),\n",
       " (26, 0.0)]"
      ]
     },
     "execution_count": 162,
     "metadata": {},
     "output_type": "execute_result"
    }
   ],
   "source": [
    "sorted(bet.items(), key=itemgetter(1), reverse=True)"
   ]
  },
  {
   "cell_type": "markdown",
   "metadata": {},
   "source": [
    "Note that the instructor (node 0) and the administrator (node 33) are at the top of all centrality measures with very close scores."
   ]
  },
  {
   "cell_type": "code",
   "execution_count": 163,
   "metadata": {
    "collapsed": true
   },
   "outputs": [],
   "source": [
    "def plot_karate_club_graph():\n",
    "    K = nx.karate_club_graph()\n",
    "    nodes_instructor = {n for n, d in K.nodes(data=True) if d['club']=='Mr. Hi'}\n",
    "    nodes_admin = set(K) - nodes_instructor\n",
    "    pos = nx.fruchterman_reingold_layout(K)\n",
    "    #plot edges\n",
    "    nx.draw_networkx_edges(K, pos)\n",
    "    #plot nodes\n",
    "    nx.draw_networkx_nodes(K, pos, nodelist=nodes_instructor, node_size=400, node_color='green')\n",
    "    nx.draw_networkx_nodes(K, pos, nodelist=nodes_admin, node_size=400, node_color='red')\n",
    "    # plot labels\n",
    "    nx.draw_networkx_labels(G, pos=pos, labels={n: n for n in K})\n",
    "    # remove axes and grid\n",
    "    ax = plt.gca()\n",
    "    ax.set_axis_off()\n",
    "    ax.grid(None)"
   ]
  },
  {
   "cell_type": "code",
   "execution_count": 164,
   "metadata": {},
   "outputs": [
    {
     "data": {
      "image/png": "[encoded data removed]",
      "text/plain": [
       "<matplotlib.figure.Figure at 0x7fd1ba416400>"
      ]
     },
     "metadata": {},
     "output_type": "display_data"
    }
   ],
   "source": [
    "plot_karate_club_graph()"
   ]
  },
  {
   "cell_type": "markdown",
   "metadata": {},
   "source": [
    "## Bipartite Graphs\n",
    "\n",
    "Bipartite graphs $B = (U, V, E)$ have two node sets $U$,$V$ and edges in $E$ that only connect nodes from opposite sets. It is common in the literature to use an spatial analogy referring to the two node sets as top and bottom nodes.\n",
    "\n",
    "The bipartite algorithms are not imported into the NetworkX namespace at the top level so the easiest way to use them is with:"
   ]
  },
  {
   "cell_type": "code",
   "execution_count": 165,
   "metadata": {
    "collapsed": true
   },
   "outputs": [],
   "source": [
    "from networkx.algorithms import bipartite"
   ]
  },
  {
   "cell_type": "markdown",
   "metadata": {},
   "source": [
    "NetworkX does not have a custom bipartite graph class but the **Graph()** or **DiGraph()** classes can be used to represent bipartite graphs. However, you have to keep track of which set each node belongs to, and make sure that there is no edge between nodes of the same set. The convention used in NetworkX is to use a **node attribute** named **bipartite** with values 0 or 1 to identify the sets each node belongs to. This convention is not enforced in the source code of bipartite functions, it’s only a recommendation.\n",
    "\n",
    "For example:"
   ]
  },
  {
   "cell_type": "code",
   "execution_count": 166,
   "metadata": {
    "collapsed": true
   },
   "outputs": [],
   "source": [
    "B = nx.Graph()\n",
    "# Add nodes with the node attribute \"bipartite\"\n",
    "B.add_nodes_from([1, 2, 3, 4], bipartite=0)\n",
    "B.add_nodes_from(['a', 'b', 'c'], bipartite=1)\n",
    "# Add edges only between nodes of opposite node sets\n",
    "B.add_edges_from([(1, 'a'), (1, 'b'), (2, 'b'), (2, 'c'), (3, 'c'), (4, 'a')])"
   ]
  },
  {
   "cell_type": "markdown",
   "metadata": {},
   "source": [
    "Many algorithms of the bipartite module of NetworkX require, as an argument, a container with all the nodes that belong to one set, in addition to the bipartite graph $B$. The functions in the bipartite package do not check that the node set is actually correct nor that the input graph is actually bipartite. If $B$ is connected, you can find the two node sets using a two-coloring algorithm:"
   ]
  },
  {
   "cell_type": "code",
   "execution_count": 167,
   "metadata": {},
   "outputs": [
    {
     "data": {
      "text/plain": [
       "True"
      ]
     },
     "execution_count": 167,
     "metadata": {},
     "output_type": "execute_result"
    }
   ],
   "source": [
    "nx.is_connected(B)"
   ]
  },
  {
   "cell_type": "code",
   "execution_count": 168,
   "metadata": {},
   "outputs": [
    {
     "name": "stdout",
     "output_type": "stream",
     "text": [
      "{'b', 'c', 'a'}\n"
     ]
    }
   ],
   "source": [
    "bottom_nodes, top_nodes = bipartite.sets(B)\n",
    "print(top_nodes)"
   ]
  },
  {
   "cell_type": "markdown",
   "metadata": {},
   "source": [
    "However, if the input graph is not connected, there are more than one possible colorations. This is the reason why we require the user to pass a container with all nodes of one bipartite node set as an argument to most bipartite functions. In version 2.0 of NetworkX an **AmbiguousSolution** Exception is raised if the input graph for **bipartite.sets** is disconnected.\n",
    "\n",
    "Using the bipartite node attribute, you can easily get the two node sets:"
   ]
  },
  {
   "cell_type": "code",
   "execution_count": 169,
   "metadata": {
    "collapsed": true
   },
   "outputs": [],
   "source": [
    "top_nodes = {n for n, d in B.nodes(data=True) if d['bipartite']==0}\n",
    "bottom_nodes = set(B) - top_nodes"
   ]
  },
  {
   "cell_type": "markdown",
   "metadata": {},
   "source": [
    "So you can easily use the bipartite algorithms that require, as an argument, a container with all nodes that belong to one node set:"
   ]
  },
  {
   "cell_type": "code",
   "execution_count": 170,
   "metadata": {},
   "outputs": [
    {
     "data": {
      "text/plain": [
       "0.5"
      ]
     },
     "execution_count": 170,
     "metadata": {},
     "output_type": "execute_result"
    }
   ],
   "source": [
    "bipartite.density(B, bottom_nodes)"
   ]
  },
  {
   "cell_type": "markdown",
   "metadata": {},
   "source": [
    "All bipartite graph generators in NetworkX build bipartite graphs with the bipartite node attribute. Thus, you can use the same approach:"
   ]
  },
  {
   "cell_type": "code",
   "execution_count": 171,
   "metadata": {
    "collapsed": true
   },
   "outputs": [],
   "source": [
    "RB = bipartite.random_graph(5, 7, 0.2)\n",
    "RB_top = {n for n, d in RB.nodes(data=True) if d['bipartite']==0}\n",
    "RB_bottom = set(RB) - RB_top"
   ]
  },
  {
   "cell_type": "code",
   "execution_count": 172,
   "metadata": {},
   "outputs": [
    {
     "data": {
      "text/plain": [
       "[0, 1, 2, 3, 4]"
      ]
     },
     "execution_count": 172,
     "metadata": {},
     "output_type": "execute_result"
    }
   ],
   "source": [
    "list(RB_top)"
   ]
  },
  {
   "cell_type": "code",
   "execution_count": 173,
   "metadata": {},
   "outputs": [
    {
     "data": {
      "text/plain": [
       "[5, 6, 7, 8, 9, 10, 11]"
      ]
     },
     "execution_count": 173,
     "metadata": {},
     "output_type": "execute_result"
    }
   ],
   "source": [
    "list(RB_bottom)"
   ]
  },
  {
   "cell_type": "markdown",
   "metadata": {},
   "source": [
    "### Working with bipartite graphs: modeling group affiliations\n",
    "\n",
    "We'll use as an example the data collected by Davis et al. in 1930s about the observed attendance at 14 social events by 18 women in a Southern state of the USA.\n",
    "\n",
    "The nodes in the bipartite graph are both women and events, and each women is linked to the events that she attended."
   ]
  },
  {
   "cell_type": "code",
   "execution_count": 177,
   "metadata": {},
   "outputs": [
    {
     "data": {
      "text/plain": [
       "[('Katherina Rogers', {'bipartite': 0}),\n",
       " ('E8', {'bipartite': 1}),\n",
       " ('Olivia Carleton', {'bipartite': 0}),\n",
       " ('Nora Fayette', {'bipartite': 0}),\n",
       " ('E4', {'bipartite': 1}),\n",
       " ('E12', {'bipartite': 1}),\n",
       " ('E11', {'bipartite': 1}),\n",
       " ('Sylvia Avondale', {'bipartite': 0}),\n",
       " ('E1', {'bipartite': 1}),\n",
       " ('Helen Lloyd', {'bipartite': 0}),\n",
       " ('Pearl Oglethorpe', {'bipartite': 0}),\n",
       " ('Theresa Anderson', {'bipartite': 0}),\n",
       " ('E2', {'bipartite': 1}),\n",
       " ('E5', {'bipartite': 1}),\n",
       " ('Laura Mandeville', {'bipartite': 0}),\n",
       " ('E7', {'bipartite': 1}),\n",
       " ('Myra Liddel', {'bipartite': 0}),\n",
       " ('E13', {'bipartite': 1}),\n",
       " ('Charlotte McDowd', {'bipartite': 0}),\n",
       " ('E14', {'bipartite': 1}),\n",
       " ('Brenda Rogers', {'bipartite': 0}),\n",
       " ('Dorothy Murchison', {'bipartite': 0}),\n",
       " ('Frances Anderson', {'bipartite': 0}),\n",
       " ('Evelyn Jefferson', {'bipartite': 0}),\n",
       " ('E6', {'bipartite': 1}),\n",
       " ('Eleanor Nye', {'bipartite': 0}),\n",
       " ('Flora Price', {'bipartite': 0}),\n",
       " ('E9', {'bipartite': 1}),\n",
       " ('Ruth DeSand', {'bipartite': 0}),\n",
       " ('Verne Sanderson', {'bipartite': 0}),\n",
       " ('E10', {'bipartite': 1}),\n",
       " ('E3', {'bipartite': 1})]"
      ]
     },
     "execution_count": 177,
     "metadata": {},
     "output_type": "execute_result"
    }
   ],
   "source": [
    "D = nx.davis_southern_women_graph()\n",
    "list(D.nodes(data=True))"
   ]
  },
  {
   "cell_type": "markdown",
   "metadata": {},
   "source": [
    "The process of obtaining an unipartite graph with only women that are linked if they attended the same events is named **projection**. We can weight the edges of the projection using different criteria, for instance, we can make the weight of an edge to represent the number of event that the two women attended.\n",
    "\n",
    "See NetworkX documentation for [bipartite projections](http://networkx.readthedocs.io/en/latest/reference/algorithms.bipartite.html#module-networkx.algorithms.bipartite.projection)"
   ]
  },
  {
   "cell_type": "code",
   "execution_count": 178,
   "metadata": {
    "collapsed": true
   },
   "outputs": [],
   "source": [
    "women = {n for n, d in D.nodes(data=True) if d['bipartite']==0}\n",
    "W = bipartite.weighted_projected_graph(D, women)"
   ]
  },
  {
   "cell_type": "code",
   "execution_count": 180,
   "metadata": {},
   "outputs": [
    {
     "data": {
      "text/plain": [
       "['Katherina Rogers',\n",
       " 'Olivia Carleton',\n",
       " 'Myra Liddel',\n",
       " 'Charlotte McDowd',\n",
       " 'Laura Mandeville',\n",
       " 'Brenda Rogers',\n",
       " 'Nora Fayette',\n",
       " 'Dorothy Murchison',\n",
       " 'Frances Anderson',\n",
       " 'Evelyn Jefferson',\n",
       " 'Helen Lloyd',\n",
       " 'Pearl Oglethorpe',\n",
       " 'Flora Price',\n",
       " 'Sylvia Avondale',\n",
       " 'Ruth DeSand',\n",
       " 'Verne Sanderson',\n",
       " 'Theresa Anderson',\n",
       " 'Eleanor Nye']"
      ]
     },
     "execution_count": 180,
     "metadata": {},
     "output_type": "execute_result"
    }
   ],
   "source": [
    "list(W.nodes())"
   ]
  },
  {
   "cell_type": "code",
   "execution_count": 181,
   "metadata": {},
   "outputs": [
    {
     "data": {
      "text/plain": [
       "[('Katherina Rogers', 'Olivia Carleton', {'weight': 1}),\n",
       " ('Katherina Rogers', 'Myra Liddel', {'weight': 4}),\n",
       " ('Katherina Rogers', 'Laura Mandeville', {'weight': 1}),\n",
       " ('Katherina Rogers', 'Brenda Rogers', {'weight': 1}),\n",
       " ('Katherina Rogers', 'Nora Fayette', {'weight': 5}),\n",
       " ('Katherina Rogers', 'Ruth DeSand', {'weight': 2}),\n",
       " ('Katherina Rogers', 'Dorothy Murchison', {'weight': 2}),\n",
       " ('Katherina Rogers', 'Frances Anderson', {'weight': 1}),\n",
       " ('Katherina Rogers', 'Evelyn Jefferson', {'weight': 2}),\n",
       " ('Katherina Rogers', 'Pearl Oglethorpe', {'weight': 2}),\n",
       " ('Katherina Rogers', 'Flora Price', {'weight': 1}),\n",
       " ('Katherina Rogers', 'Sylvia Avondale', {'weight': 6}),\n",
       " ('Katherina Rogers', 'Helen Lloyd', {'weight': 3}),\n",
       " ('Katherina Rogers', 'Verne Sanderson', {'weight': 3}),\n",
       " ('Katherina Rogers', 'Theresa Anderson', {'weight': 2}),\n",
       " ('Katherina Rogers', 'Eleanor Nye', {'weight': 1}),\n",
       " ('Olivia Carleton', 'Myra Liddel', {'weight': 1}),\n",
       " ('Olivia Carleton', 'Nora Fayette', {'weight': 2}),\n",
       " ('Olivia Carleton', 'Ruth DeSand', {'weight': 1}),\n",
       " ('Olivia Carleton', 'Dorothy Murchison', {'weight': 1}),\n",
       " ('Olivia Carleton', 'Evelyn Jefferson', {'weight': 1}),\n",
       " ('Olivia Carleton', 'Pearl Oglethorpe', {'weight': 1}),\n",
       " ('Olivia Carleton', 'Flora Price', {'weight': 2}),\n",
       " ('Olivia Carleton', 'Sylvia Avondale', {'weight': 1}),\n",
       " ('Olivia Carleton', 'Helen Lloyd', {'weight': 1}),\n",
       " ('Olivia Carleton', 'Verne Sanderson', {'weight': 1}),\n",
       " ('Olivia Carleton', 'Theresa Anderson', {'weight': 1}),\n",
       " ('Myra Liddel', 'Laura Mandeville', {'weight': 1}),\n",
       " ('Myra Liddel', 'Brenda Rogers', {'weight': 1}),\n",
       " ('Myra Liddel', 'Nora Fayette', {'weight': 3}),\n",
       " ('Myra Liddel', 'Ruth DeSand', {'weight': 2}),\n",
       " ('Myra Liddel', 'Dorothy Murchison', {'weight': 2}),\n",
       " ('Myra Liddel', 'Frances Anderson', {'weight': 1}),\n",
       " ('Myra Liddel', 'Evelyn Jefferson', {'weight': 2}),\n",
       " ('Myra Liddel', 'Pearl Oglethorpe', {'weight': 2}),\n",
       " ('Myra Liddel', 'Flora Price', {'weight': 1}),\n",
       " ('Myra Liddel', 'Sylvia Avondale', {'weight': 4}),\n",
       " ('Myra Liddel', 'Helen Lloyd', {'weight': 3}),\n",
       " ('Myra Liddel', 'Verne Sanderson', {'weight': 3}),\n",
       " ('Myra Liddel', 'Theresa Anderson', {'weight': 2}),\n",
       " ('Myra Liddel', 'Eleanor Nye', {'weight': 1}),\n",
       " ('Charlotte McDowd', 'Frances Anderson', {'weight': 2}),\n",
       " ('Charlotte McDowd', 'Laura Mandeville', {'weight': 3}),\n",
       " ('Charlotte McDowd', 'Evelyn Jefferson', {'weight': 3}),\n",
       " ('Charlotte McDowd', 'Sylvia Avondale', {'weight': 1}),\n",
       " ('Charlotte McDowd', 'Helen Lloyd', {'weight': 1}),\n",
       " ('Charlotte McDowd', 'Verne Sanderson', {'weight': 1}),\n",
       " ('Charlotte McDowd', 'Brenda Rogers', {'weight': 4}),\n",
       " ('Charlotte McDowd', 'Nora Fayette', {'weight': 1}),\n",
       " ('Charlotte McDowd', 'Theresa Anderson', {'weight': 4}),\n",
       " ('Charlotte McDowd', 'Ruth DeSand', {'weight': 2}),\n",
       " ('Charlotte McDowd', 'Eleanor Nye', {'weight': 2}),\n",
       " ('Laura Mandeville', 'Brenda Rogers', {'weight': 6}),\n",
       " ('Laura Mandeville', 'Nora Fayette', {'weight': 2}),\n",
       " ('Laura Mandeville', 'Ruth DeSand', {'weight': 3}),\n",
       " ('Laura Mandeville', 'Dorothy Murchison', {'weight': 1}),\n",
       " ('Laura Mandeville', 'Frances Anderson', {'weight': 4}),\n",
       " ('Laura Mandeville', 'Evelyn Jefferson', {'weight': 6}),\n",
       " ('Laura Mandeville', 'Eleanor Nye', {'weight': 4}),\n",
       " ('Laura Mandeville', 'Sylvia Avondale', {'weight': 2}),\n",
       " ('Laura Mandeville', 'Helen Lloyd', {'weight': 2}),\n",
       " ('Laura Mandeville', 'Verne Sanderson', {'weight': 2}),\n",
       " ('Laura Mandeville', 'Pearl Oglethorpe', {'weight': 2}),\n",
       " ('Laura Mandeville', 'Theresa Anderson', {'weight': 6}),\n",
       " ('Brenda Rogers', 'Nora Fayette', {'weight': 2}),\n",
       " ('Brenda Rogers', 'Pearl Oglethorpe', {'weight': 2}),\n",
       " ('Brenda Rogers', 'Ruth DeSand', {'weight': 3}),\n",
       " ('Brenda Rogers', 'Dorothy Murchison', {'weight': 1}),\n",
       " ('Brenda Rogers', 'Frances Anderson', {'weight': 4}),\n",
       " ('Brenda Rogers', 'Evelyn Jefferson', {'weight': 6}),\n",
       " ('Brenda Rogers', 'Eleanor Nye', {'weight': 4}),\n",
       " ('Brenda Rogers', 'Sylvia Avondale', {'weight': 2}),\n",
       " ('Brenda Rogers', 'Helen Lloyd', {'weight': 2}),\n",
       " ('Brenda Rogers', 'Verne Sanderson', {'weight': 2}),\n",
       " ('Brenda Rogers', 'Theresa Anderson', {'weight': 6}),\n",
       " ('Nora Fayette', 'Ruth DeSand', {'weight': 2}),\n",
       " ('Nora Fayette', 'Dorothy Murchison', {'weight': 1}),\n",
       " ('Nora Fayette', 'Frances Anderson', {'weight': 1}),\n",
       " ('Nora Fayette', 'Evelyn Jefferson', {'weight': 2}),\n",
       " ('Nora Fayette', 'Eleanor Nye', {'weight': 2}),\n",
       " ('Nora Fayette', 'Flora Price', {'weight': 2}),\n",
       " ('Nora Fayette', 'Sylvia Avondale', {'weight': 6}),\n",
       " ('Nora Fayette', 'Helen Lloyd', {'weight': 4}),\n",
       " ('Nora Fayette', 'Verne Sanderson', {'weight': 3}),\n",
       " ('Nora Fayette', 'Pearl Oglethorpe', {'weight': 2}),\n",
       " ('Nora Fayette', 'Theresa Anderson', {'weight': 3}),\n",
       " ('Dorothy Murchison', 'Ruth DeSand', {'weight': 2}),\n",
       " ('Dorothy Murchison', 'Frances Anderson', {'weight': 1}),\n",
       " ('Dorothy Murchison', 'Evelyn Jefferson', {'weight': 2}),\n",
       " ('Dorothy Murchison', 'Pearl Oglethorpe', {'weight': 2}),\n",
       " ('Dorothy Murchison', 'Flora Price', {'weight': 1}),\n",
       " ('Dorothy Murchison', 'Sylvia Avondale', {'weight': 2}),\n",
       " ('Dorothy Murchison', 'Helen Lloyd', {'weight': 1}),\n",
       " ('Dorothy Murchison', 'Verne Sanderson', {'weight': 2}),\n",
       " ('Dorothy Murchison', 'Theresa Anderson', {'weight': 2}),\n",
       " ('Dorothy Murchison', 'Eleanor Nye', {'weight': 1}),\n",
       " ('Frances Anderson', 'Ruth DeSand', {'weight': 2}),\n",
       " ('Frances Anderson', 'Evelyn Jefferson', {'weight': 4}),\n",
       " ('Frances Anderson', 'Eleanor Nye', {'weight': 3}),\n",
       " ('Frances Anderson', 'Sylvia Avondale', {'weight': 1}),\n",
       " ('Frances Anderson', 'Helen Lloyd', {'weight': 1}),\n",
       " ('Frances Anderson', 'Verne Sanderson', {'weight': 1}),\n",
       " ('Frances Anderson', 'Pearl Oglethorpe', {'weight': 2}),\n",
       " ('Frances Anderson', 'Theresa Anderson', {'weight': 4}),\n",
       " ('Evelyn Jefferson', 'Helen Lloyd', {'weight': 1}),\n",
       " ('Evelyn Jefferson', 'Pearl Oglethorpe', {'weight': 3}),\n",
       " ('Evelyn Jefferson', 'Flora Price', {'weight': 1}),\n",
       " ('Evelyn Jefferson', 'Sylvia Avondale', {'weight': 2}),\n",
       " ('Evelyn Jefferson', 'Ruth DeSand', {'weight': 3}),\n",
       " ('Evelyn Jefferson', 'Verne Sanderson', {'weight': 2}),\n",
       " ('Evelyn Jefferson', 'Theresa Anderson', {'weight': 7}),\n",
       " ('Evelyn Jefferson', 'Eleanor Nye', {'weight': 3}),\n",
       " ('Helen Lloyd', 'Pearl Oglethorpe', {'weight': 1}),\n",
       " ('Helen Lloyd', 'Flora Price', {'weight': 1}),\n",
       " ('Helen Lloyd', 'Sylvia Avondale', {'weight': 4}),\n",
       " ('Helen Lloyd', 'Ruth DeSand', {'weight': 2}),\n",
       " ('Helen Lloyd', 'Verne Sanderson', {'weight': 3}),\n",
       " ('Helen Lloyd', 'Theresa Anderson', {'weight': 2}),\n",
       " ('Helen Lloyd', 'Eleanor Nye', {'weight': 2}),\n",
       " ('Pearl Oglethorpe', 'Eleanor Nye', {'weight': 2}),\n",
       " ('Pearl Oglethorpe', 'Flora Price', {'weight': 1}),\n",
       " ('Pearl Oglethorpe', 'Sylvia Avondale', {'weight': 2}),\n",
       " ('Pearl Oglethorpe', 'Ruth DeSand', {'weight': 2}),\n",
       " ('Pearl Oglethorpe', 'Verne Sanderson', {'weight': 2}),\n",
       " ('Pearl Oglethorpe', 'Theresa Anderson', {'weight': 3}),\n",
       " ('Flora Price', 'Ruth DeSand', {'weight': 1}),\n",
       " ('Flora Price', 'Sylvia Avondale', {'weight': 1}),\n",
       " ('Flora Price', 'Verne Sanderson', {'weight': 1}),\n",
       " ('Flora Price', 'Theresa Anderson', {'weight': 1}),\n",
       " ('Sylvia Avondale', 'Ruth DeSand', {'weight': 3}),\n",
       " ('Sylvia Avondale', 'Verne Sanderson', {'weight': 4}),\n",
       " ('Sylvia Avondale', 'Theresa Anderson', {'weight': 3}),\n",
       " ('Sylvia Avondale', 'Eleanor Nye', {'weight': 2}),\n",
       " ('Ruth DeSand', 'Eleanor Nye', {'weight': 3}),\n",
       " ('Ruth DeSand', 'Verne Sanderson', {'weight': 3}),\n",
       " ('Ruth DeSand', 'Theresa Anderson', {'weight': 4}),\n",
       " ('Verne Sanderson', 'Theresa Anderson', {'weight': 3}),\n",
       " ('Verne Sanderson', 'Eleanor Nye', {'weight': 2}),\n",
       " ('Theresa Anderson', 'Eleanor Nye', {'weight': 4})]"
      ]
     },
     "execution_count": 181,
     "metadata": {},
     "output_type": "execute_result"
    }
   ],
   "source": [
    "list(W.edges(data=True))"
   ]
  },
  {
   "cell_type": "markdown",
   "metadata": {},
   "source": [
    "#### Centrality measures of bipartite graphs\n",
    "\n",
    "In order to compute centrality measures for bipartite graphs we cannot use the same algorithms that we used for unipartite graphs because the normalization of the measures is different. For instance, the degree centrality of a node is defined as the degree of a node divided by the maximum possible degree. In unipartite networks the maximum degree of a node is $n-1$ where $n$ is the total number of nodes of a graph, but in a bipartite graph a node maximum degree is only the total number of nodes in the opposite set; that is, the maximum degree for a woman in our graph is the number of events.\n",
    "\n",
    "NetworkX provides functions to compute [centrality measures for bipartite graphs](http://networkx.readthedocs.io/en/latest/reference/algorithms.bipartite.html#module-networkx.algorithms.bipartite.centrality).\n",
    "\n",
    "In order to use these functions you have to pass as an argument a set with all nodes in one bipartite set:"
   ]
  },
  {
   "cell_type": "code",
   "execution_count": 183,
   "metadata": {},
   "outputs": [
    {
     "data": {
      "text/plain": [
       "[('E8', 0.7777777777777777),\n",
       " ('E9', 0.6666666666666666),\n",
       " ('Nora Fayette', 0.5714285714285714),\n",
       " ('Theresa Anderson', 0.5714285714285714),\n",
       " ('Evelyn Jefferson', 0.5714285714285714),\n",
       " ('E7', 0.5555555555555556),\n",
       " ('Sylvia Avondale', 0.5),\n",
       " ('Laura Mandeville', 0.5),\n",
       " ('Brenda Rogers', 0.5),\n",
       " ('E5', 0.4444444444444444),\n",
       " ('E6', 0.4444444444444444),\n",
       " ('Katherina Rogers', 0.42857142857142855),\n",
       " ('Helen Lloyd', 0.3571428571428571),\n",
       " ('E12', 0.3333333333333333),\n",
       " ('E3', 0.3333333333333333),\n",
       " ('Charlotte McDowd', 0.2857142857142857),\n",
       " ('Myra Liddel', 0.2857142857142857),\n",
       " ('Frances Anderson', 0.2857142857142857),\n",
       " ('Eleanor Nye', 0.2857142857142857),\n",
       " ('Ruth DeSand', 0.2857142857142857),\n",
       " ('Verne Sanderson', 0.2857142857142857),\n",
       " ('E10', 0.2777777777777778),\n",
       " ('E4', 0.2222222222222222),\n",
       " ('E11', 0.2222222222222222),\n",
       " ('Pearl Oglethorpe', 0.21428571428571427),\n",
       " ('E1', 0.16666666666666666),\n",
       " ('E2', 0.16666666666666666),\n",
       " ('E13', 0.16666666666666666),\n",
       " ('E14', 0.16666666666666666),\n",
       " ('Olivia Carleton', 0.14285714285714285),\n",
       " ('Dorothy Murchison', 0.14285714285714285),\n",
       " ('Flora Price', 0.14285714285714285)]"
      ]
     },
     "execution_count": 183,
     "metadata": {},
     "output_type": "execute_result"
    }
   ],
   "source": [
    "degc = bipartite.degree_centrality(D, women)\n",
    "sorted(degc.items(), key=itemgetter(1), reverse=True)"
   ]
  },
  {
   "cell_type": "code",
   "execution_count": 184,
   "metadata": {},
   "outputs": [
    {
     "data": {
      "text/plain": [
       "[('E8', 0.24381946234957552),\n",
       " ('E9', 0.22551359177204108),\n",
       " ('E7', 0.12950174424519845),\n",
       " ('Nora Fayette', 0.11346136204298479),\n",
       " ('Evelyn Jefferson', 0.09658472108029267),\n",
       " ('Theresa Anderson', 0.08759468547944681),\n",
       " ('Sylvia Avondale', 0.07170914508501829),\n",
       " ('E6', 0.06501635047516072),\n",
       " ('Laura Mandeville', 0.05135761326872536),\n",
       " ('Brenda Rogers', 0.049486599816007185),\n",
       " ('Katherina Rogers', 0.0473627540298197),\n",
       " ('Helen Lloyd', 0.04238754006434828),\n",
       " ('E5', 0.03769444252500667),\n",
       " ('E11', 0.019665390889191545),\n",
       " ('E3', 0.01822439085252718),\n",
       " ('E12', 0.018094182051395142),\n",
       " ('Ruth DeSand', 0.016783108139791406),\n",
       " ('Myra Liddel', 0.016344348365012626),\n",
       " ('Verne Sanderson', 0.015737665757646964),\n",
       " ('E10', 0.011442302600971925),\n",
       " ('Frances Anderson', 0.01071434286960598),\n",
       " ('Charlotte McDowd', 0.010596096282664415),\n",
       " ('Eleanor Nye', 0.009444123344730281),\n",
       " ('E4', 0.007702052673802943),\n",
       " ('Pearl Oglethorpe', 0.006800323334013805),\n",
       " ('Olivia Carleton', 0.0050545052362633335),\n",
       " ('Flora Price', 0.0050545052362633335),\n",
       " ('E13', 0.002240655987795576),\n",
       " ('E14', 0.002240655987795576),\n",
       " ('E1', 0.0021543107826293667),\n",
       " ('E2', 0.002088696895403928),\n",
       " ('Dorothy Murchison', 0.0019535268594996565)]"
      ]
     },
     "execution_count": 184,
     "metadata": {},
     "output_type": "execute_result"
    }
   ],
   "source": [
    "bet = bipartite.betweenness_centrality(D, women)\n",
    "sorted(bet.items(), key=itemgetter(1), reverse=True)"
   ]
  },
  {
   "cell_type": "code",
   "execution_count": 185,
   "metadata": {},
   "outputs": [
    {
     "data": {
      "text/plain": [
       "[('E8', 0.8461538461538461),\n",
       " ('Nora Fayette', 0.8),\n",
       " ('Theresa Anderson', 0.8),\n",
       " ('Evelyn Jefferson', 0.8),\n",
       " ('E9', 0.7857142857142857),\n",
       " ('Sylvia Avondale', 0.7741935483870968),\n",
       " ('E7', 0.7333333333333333),\n",
       " ('Katherina Rogers', 0.7272727272727273),\n",
       " ('Laura Mandeville', 0.7272727272727273),\n",
       " ('Helen Lloyd', 0.7272727272727273),\n",
       " ('Brenda Rogers', 0.7272727272727273),\n",
       " ('Ruth DeSand', 0.7058823529411765),\n",
       " ('Verne Sanderson', 0.7058823529411765),\n",
       " ('E6', 0.6875),\n",
       " ('Myra Liddel', 0.6857142857142857),\n",
       " ('Eleanor Nye', 0.6666666666666666),\n",
       " ('Frances Anderson', 0.6666666666666666),\n",
       " ('Pearl Oglethorpe', 0.6666666666666666),\n",
       " ('Dorothy Murchison', 0.6486486486486487),\n",
       " ('Charlotte McDowd', 0.6),\n",
       " ('E5', 0.5945945945945946),\n",
       " ('Olivia Carleton', 0.5853658536585366),\n",
       " ('Flora Price', 0.5853658536585366),\n",
       " ('E12', 0.5641025641025641),\n",
       " ('E3', 0.5641025641025641),\n",
       " ('E10', 0.55),\n",
       " ('E4', 0.5365853658536586),\n",
       " ('E11', 0.5365853658536586),\n",
       " ('E1', 0.5238095238095238),\n",
       " ('E2', 0.5238095238095238),\n",
       " ('E13', 0.5238095238095238),\n",
       " ('E14', 0.5238095238095238)]"
      ]
     },
     "execution_count": 185,
     "metadata": {},
     "output_type": "execute_result"
    }
   ],
   "source": [
    "clos = bipartite.closeness_centrality(D, women)\n",
    "sorted(clos.items(), key=itemgetter(1), reverse=True)"
   ]
  },
  {
   "cell_type": "code",
   "execution_count": null,
   "metadata": {
    "collapsed": true
   },
   "outputs": [],
   "source": []
  }
 ],
 "metadata": {
  "kernelspec": {
   "display_name": "Python 3",
   "language": "python",
   "name": "python3"
  },
  "language_info": {
   "codemirror_mode": {
    "name": "ipython",
    "version": 3
   },
   "file_extension": ".py",
   "mimetype": "text/x-python",
   "name": "python",
   "nbconvert_exporter": "python",
   "pygments_lexer": "ipython3",
   "version": "3.5.2"
  },
  "toc": {
   "base_numbering": 1,
   "nav_menu": {},
   "number_sections": true,
   "sideBar": true,
   "skip_h1_title": false,
   "title_cell": "Table of Contents",
   "title_sidebar": "Contents",
   "toc_cell": false,
   "toc_position": {},
   "toc_section_display": true,
   "toc_window_display": false
  }
 },
 "nbformat": 4,
 "nbformat_minor": 1
}
