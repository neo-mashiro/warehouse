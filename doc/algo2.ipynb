{
 "cells": [
  {
   "cell_type": "markdown",
   "metadata": {},
   "source": [
    "## Greedy algorithm for Jobs Scheduling Problem\n",
    "\n",
    "Given a sequence of jobs, each has a weight `w` (priority) and a length `l`, in what order should we sequence the jobs such that the weighted sum of completion times is minimized?"
   ]
  },
  {
   "cell_type": "code",
   "execution_count": 1,
   "metadata": {},
   "outputs": [],
   "source": [
    "def schedule_jobs(jobs):\n",
    "    \"\"\"\n",
    "    input:  a sequence of jobs in a list of tuples [(weight1, length1), (weight2, length2), ...]\n",
    "    output: a number \"WSCT\" = weighted sum of completion times,\n",
    "            an optimal job sequence \"SEQ\" = [(job, score), (job, score), ...]\n",
    "    time:   O(nlogn), just need to sort by greedy score\n",
    "    \"\"\"\n",
    "    scores = { index:(job[0] / job[1]) for index, job in enumerate(jobs) }\n",
    "    SEQ = sorted(scores.items(), key=lambda x: x[1], reverse=True)\n",
    "    \n",
    "    cc = 0  # completion time\n",
    "    WSCT = 0\n",
    "    for index, score in SEQ:\n",
    "        wt, lt = jobs[index]\n",
    "        cc += lt\n",
    "        WSCT += wt * cc\n",
    "    \n",
    "    return WSCT, SEQ"
   ]
  },
  {
   "cell_type": "code",
   "execution_count": 2,
   "metadata": {},
   "outputs": [],
   "source": [
    "jobs = [(5,2), (2,1), (8,8), (6,4), (9,3), (12,3)]"
   ]
  },
  {
   "cell_type": "code",
   "execution_count": 3,
   "metadata": {},
   "outputs": [
    {
     "data": {
      "text/plain": [
       "[(5, 4.0), (4, 3.0), (0, 2.5), (1, 2.0), (3, 1.5), (2, 1.0)]"
      ]
     },
     "execution_count": 3,
     "metadata": {},
     "output_type": "execute_result"
    }
   ],
   "source": [
    "scores = { index:(job[0] / job[1]) for index, job in enumerate(jobs) }\n",
    "sorted(scores.items(), key=lambda x: x[1], reverse=True)"
   ]
  },
  {
   "cell_type": "code",
   "execution_count": 4,
   "metadata": {},
   "outputs": [
    {
     "name": "stdout",
     "output_type": "stream",
     "text": [
      "WSCT: 394\n",
      "SEQ: [(5, 4.0), (4, 3.0), (0, 2.5), (1, 2.0), (3, 1.5), (2, 1.0)]\n"
     ]
    }
   ],
   "source": [
    "WSCT, SEQ = schedule_jobs(jobs)\n",
    "print(\"WSCT:\", WSCT)\n",
    "print(\"SEQ:\", SEQ)"
   ]
  },
  {
   "cell_type": "code",
   "execution_count": 7,
   "metadata": {},
   "outputs": [],
   "source": [
    "jobs = []\n",
    "with open(\"support/jobs.txt\", \"rt\") as fh:\n",
    "    for line in fh.readlines():\n",
    "        line = line.strip().split()\n",
    "        if len(line) == 2:\n",
    "            jobs.append((int(line[0]), int(line[1])))"
   ]
  },
  {
   "cell_type": "code",
   "execution_count": 8,
   "metadata": {},
   "outputs": [
    {
     "name": "stdout",
     "output_type": "stream",
     "text": [
      "WSCT: 67311454237\n"
     ]
    }
   ],
   "source": [
    "WSCT, SEQ = schedule_jobs(jobs)\n",
    "print(\"WSCT:\", WSCT)"
   ]
  },
  {
   "cell_type": "markdown",
   "metadata": {},
   "source": [
    "## LRU Cache Algorithm - Least Recently Used Cache for Redis/operating systems"
   ]
  },
  {
   "cell_type": "markdown",
   "metadata": {},
   "source": [
    "### Doubly Linked List Class"
   ]
  },
  {
   "cell_type": "code",
   "execution_count": 9,
   "metadata": {},
   "outputs": [],
   "source": [
    "class Node:\n",
    "    \n",
    "    def __init__(self, data=None):\n",
    "        self.data = data\n",
    "        self.prev = None\n",
    "        self.next = None"
   ]
  },
  {
   "cell_type": "code",
   "execution_count": 10,
   "metadata": {},
   "outputs": [],
   "source": [
    "class DoubleLinkList:\n",
    "\n",
    "    def __init__(self):\n",
    "        self.head = Node()  # null pointer\n",
    "        self.tail = Node()  # null pointer\n",
    "        self.head.next = self.tail\n",
    "        self.tail.prev = self.head\n",
    "        self._size = 0\n",
    "\n",
    "    @property\n",
    "    def size(self):\n",
    "        return self._size\n",
    "        \n",
    "    def __str__(self):\n",
    "        curr = self.head.next\n",
    "        out = \"[head,\"\n",
    "        while curr.data != None:\n",
    "            out += (str(curr.data) + ',')\n",
    "            curr = curr.next\n",
    "        return out + \"tail]\"\n",
    "    \n",
    "    __repr__ = __str__\n",
    "    \n",
    "    def __contains__(self, node):\n",
    "        curr = self.head.next\n",
    "        while curr.data != None:\n",
    "            if id(curr) == id(node):\n",
    "                return True\n",
    "            curr = curr.next\n",
    "        return False\n",
    "        \n",
    "    def append(self, node, pos=\"tail\"):\n",
    "        ''' append to the head/tail of the list, takes O(1) time '''\n",
    "        if pos == \"tail\":\n",
    "            self.tail.prev.next = node\n",
    "            node.prev = self.tail.prev\n",
    "            node.next = self.tail\n",
    "            self.tail.prev = node\n",
    "        elif pos == \"head\":\n",
    "            node.next = self.head.next\n",
    "            self.head.next.prev = node\n",
    "            self.head.next = node\n",
    "            node.prev = self.head\n",
    "        else:\n",
    "            return\n",
    "        self._size += 1\n",
    "\n",
    "    def delete(self, node):\n",
    "        ''' delete the node in the list, takes O(1) time '''\n",
    "        l = node.prev\n",
    "        r = node.next\n",
    "        l.next = r\n",
    "        r.prev = l\n",
    "        self._size -= 1\n",
    "    \n",
    "    def pop(self):\n",
    "        \"\"\" remove and return the last node in the list, takes O(1) time.\n",
    "            pop() should not have any arguments, otherwise it's a delete()\n",
    "        \"\"\"\n",
    "        node = self.tail.prev\n",
    "        node.prev.next = self.tail\n",
    "        self.tail.prev = node.prev\n",
    "        self._size -= 1\n",
    "        return node\n",
    "        \n",
    "    def clear(self):\n",
    "        return self.__init__()"
   ]
  },
  {
   "cell_type": "code",
   "execution_count": 11,
   "metadata": {},
   "outputs": [],
   "source": [
    "# l1 = SingleLinkList()\n",
    "l2 = DoubleLinkList()"
   ]
  },
  {
   "cell_type": "code",
   "execution_count": 12,
   "metadata": {},
   "outputs": [],
   "source": [
    "for data in range(10):\n",
    "    l2.append(Node(data))"
   ]
  },
  {
   "cell_type": "code",
   "execution_count": 13,
   "metadata": {},
   "outputs": [
    {
     "name": "stdout",
     "output_type": "stream",
     "text": [
      "[head,0,1,2,3,4,5,6,7,8,9,tail]\n"
     ]
    }
   ],
   "source": [
    "print(l2)"
   ]
  },
  {
   "cell_type": "code",
   "execution_count": 14,
   "metadata": {},
   "outputs": [
    {
     "data": {
      "text/plain": [
       "[head,0,1,2,3,4,5,6,7,8,9,Bob,tail]"
      ]
     },
     "execution_count": 14,
     "metadata": {},
     "output_type": "execute_result"
    }
   ],
   "source": [
    "Bob = Node('Bob')\n",
    "l2.append(Bob)\n",
    "l2"
   ]
  },
  {
   "cell_type": "code",
   "execution_count": 15,
   "metadata": {},
   "outputs": [
    {
     "data": {
      "text/plain": [
       "[head,Alice,0,1,2,3,4,5,6,7,8,9,Bob,tail]"
      ]
     },
     "execution_count": 15,
     "metadata": {},
     "output_type": "execute_result"
    }
   ],
   "source": [
    "Alice = Node('Alice')\n",
    "l2.append(Alice, pos=\"head\")\n",
    "l2"
   ]
  },
  {
   "cell_type": "code",
   "execution_count": 16,
   "metadata": {},
   "outputs": [
    {
     "data": {
      "text/plain": [
       "True"
      ]
     },
     "execution_count": 16,
     "metadata": {},
     "output_type": "execute_result"
    }
   ],
   "source": [
    "(Alice in l2) & (Bob in l2)"
   ]
  },
  {
   "cell_type": "code",
   "execution_count": 17,
   "metadata": {},
   "outputs": [
    {
     "data": {
      "text/plain": [
       "[head,0,1,2,3,4,5,6,7,8,9,Bob,tail]"
      ]
     },
     "execution_count": 17,
     "metadata": {},
     "output_type": "execute_result"
    }
   ],
   "source": [
    "l2.delete(Alice)\n",
    "l2"
   ]
  },
  {
   "cell_type": "code",
   "execution_count": 18,
   "metadata": {},
   "outputs": [
    {
     "data": {
      "text/plain": [
       "False"
      ]
     },
     "execution_count": 18,
     "metadata": {},
     "output_type": "execute_result"
    }
   ],
   "source": [
    "Alice in l2"
   ]
  },
  {
   "cell_type": "code",
   "execution_count": 19,
   "metadata": {},
   "outputs": [
    {
     "data": {
      "text/plain": [
       "'Bob'"
      ]
     },
     "execution_count": 19,
     "metadata": {},
     "output_type": "execute_result"
    }
   ],
   "source": [
    "node = l2.pop()\n",
    "node.data"
   ]
  },
  {
   "cell_type": "code",
   "execution_count": 20,
   "metadata": {},
   "outputs": [
    {
     "data": {
      "text/plain": [
       "True"
      ]
     },
     "execution_count": 20,
     "metadata": {},
     "output_type": "execute_result"
    }
   ],
   "source": [
    "id(node) == id(Bob)"
   ]
  },
  {
   "cell_type": "code",
   "execution_count": 21,
   "metadata": {},
   "outputs": [
    {
     "data": {
      "text/plain": [
       "False"
      ]
     },
     "execution_count": 21,
     "metadata": {},
     "output_type": "execute_result"
    }
   ],
   "source": [
    "Bob in l2"
   ]
  },
  {
   "cell_type": "code",
   "execution_count": 22,
   "metadata": {},
   "outputs": [
    {
     "data": {
      "text/plain": [
       "[head,0,1,2,3,4,5,6,7,8,9,tail]"
      ]
     },
     "execution_count": 22,
     "metadata": {},
     "output_type": "execute_result"
    }
   ],
   "source": [
    "l2"
   ]
  },
  {
   "cell_type": "code",
   "execution_count": 23,
   "metadata": {},
   "outputs": [
    {
     "data": {
      "text/plain": [
       "10"
      ]
     },
     "execution_count": 23,
     "metadata": {},
     "output_type": "execute_result"
    }
   ],
   "source": [
    "l2.size  # head/tail are null pointers, not counted in"
   ]
  },
  {
   "cell_type": "code",
   "execution_count": 24,
   "metadata": {},
   "outputs": [
    {
     "data": {
      "text/plain": [
       "[head,tail]"
      ]
     },
     "execution_count": 24,
     "metadata": {},
     "output_type": "execute_result"
    }
   ],
   "source": [
    "l2.clear()\n",
    "l2"
   ]
  },
  {
   "cell_type": "markdown",
   "metadata": {},
   "source": [
    "### LRU Cache Class\n",
    "\n",
    "https://leetcode.com/problems/lru-cache/"
   ]
  },
  {
   "cell_type": "code",
   "execution_count": 25,
   "metadata": {},
   "outputs": [],
   "source": [
    "class LRUCache:\n",
    "    '''\n",
    "    for fast lookups/inserts/deletes all in O(1), use \"hashmap\" + \"doubly linked list\".\n",
    "    (self._cache) is a doubly linked list which stores real data in different nodes.\n",
    "    (self._hashmap) is a dictionary that maps keys to real node objects in (self._cache).\n",
    "    '''\n",
    "    def __init__(self, capacity):\n",
    "        self._hashmap = {}\n",
    "        self._cache = DoubleLinkList()\n",
    "        self._capacity = capacity  # maximum # of slots\n",
    "        self._size = 0\n",
    "    \n",
    "    @property  # read-only attribute\n",
    "    def capacity(self):\n",
    "        return self._capacity\n",
    "    \n",
    "    @property  # read-only attribute\n",
    "    def size(self):\n",
    "        return self._size\n",
    "    \n",
    "    def read(self, key):\n",
    "        node = self._hashmap.get(key, None)  # O(1)\n",
    "        if node and node.data:\n",
    "            self._cache.delete(node)              # O(1)\n",
    "            self._cache.append(node, pos=\"head\")  # O(1)\n",
    "            # if the hashmap {} maps to physical addresses of node objects,\n",
    "            # also need to update the address: self._hashmap[key] = new_address\n",
    "            return node.data\n",
    "        else:\n",
    "            return -1\n",
    "    \n",
    "    def write(self, key, value):\n",
    "        node = self._hashmap.get(key, None)\n",
    "        if node and node.data:\n",
    "            self._cache.delete(node)\n",
    "            node.data = value  # when attributes of the node updated, the hashmap still maps to this node\n",
    "            self._cache.append(node, pos=\"head\")\n",
    "        else:\n",
    "            new_node = Node(value)\n",
    "            self._hashmap[key] = new_node\n",
    "            \n",
    "            if self._capacity <= self._size:\n",
    "                last = self._cache.pop()\n",
    "                # last = None  # this will make a new copy of \"last\", so the mapping will persist\n",
    "                last.data = None  # disable the hashmap mapping to this node\n",
    "                self._size -= 1\n",
    "                \n",
    "            self._cache.append(new_node, pos=\"head\")\n",
    "            self._size += 1\n",
    "            \n",
    "    def view_cache(self):\n",
    "        for key, node in self._hashmap.items():\n",
    "            print(key.ljust(12), (\"Node(\" + str(node.data) + \")\").rjust(12))\n",
    "        print(\"--------------------\")\n",
    "        print(self._cache)"
   ]
  },
  {
   "cell_type": "code",
   "execution_count": 26,
   "metadata": {},
   "outputs": [],
   "source": [
    "cache = LRUCache(capacity=5)"
   ]
  },
  {
   "cell_type": "code",
   "execution_count": 27,
   "metadata": {},
   "outputs": [
    {
     "data": {
      "text/plain": [
       "5"
      ]
     },
     "execution_count": 27,
     "metadata": {},
     "output_type": "execute_result"
    }
   ],
   "source": [
    "cache.capacity  # read-only attribute, protected data"
   ]
  },
  {
   "cell_type": "code",
   "execution_count": 28,
   "metadata": {},
   "outputs": [
    {
     "data": {
      "text/plain": [
       "0"
      ]
     },
     "execution_count": 28,
     "metadata": {},
     "output_type": "execute_result"
    }
   ],
   "source": [
    "cache.size"
   ]
  },
  {
   "cell_type": "code",
   "execution_count": 29,
   "metadata": {},
   "outputs": [
    {
     "name": "stdout",
     "output_type": "stream",
     "text": [
      "Carlos           Node(82)\n",
      "Alice            Node(99)\n",
      "Bob              Node(70)\n",
      "--------------------\n",
      "[head,82,70,99,tail]\n"
     ]
    }
   ],
   "source": [
    "cache.write(\"Alice\", 99)\n",
    "cache.write(\"Bob\", 70)\n",
    "cache.write(\"Carlos\", 82)\n",
    "cache.view_cache()"
   ]
  },
  {
   "cell_type": "code",
   "execution_count": 30,
   "metadata": {},
   "outputs": [
    {
     "data": {
      "text/plain": [
       "-1"
      ]
     },
     "execution_count": 30,
     "metadata": {},
     "output_type": "execute_result"
    }
   ],
   "source": [
    "cache.read(\"Jack\")"
   ]
  },
  {
   "cell_type": "code",
   "execution_count": 31,
   "metadata": {},
   "outputs": [
    {
     "data": {
      "text/plain": [
       "99"
      ]
     },
     "execution_count": 31,
     "metadata": {},
     "output_type": "execute_result"
    }
   ],
   "source": [
    "cache.read(\"Alice\")"
   ]
  },
  {
   "cell_type": "code",
   "execution_count": 32,
   "metadata": {},
   "outputs": [
    {
     "name": "stdout",
     "output_type": "stream",
     "text": [
      "Carlos           Node(82)\n",
      "Alice            Node(99)\n",
      "Bob              Node(70)\n",
      "--------------------\n",
      "[head,99,82,70,tail]\n"
     ]
    }
   ],
   "source": [
    "cache.view_cache()"
   ]
  },
  {
   "cell_type": "code",
   "execution_count": 33,
   "metadata": {},
   "outputs": [
    {
     "data": {
      "text/plain": [
       "3"
      ]
     },
     "execution_count": 33,
     "metadata": {},
     "output_type": "execute_result"
    }
   ],
   "source": [
    "cache.size"
   ]
  },
  {
   "cell_type": "code",
   "execution_count": 34,
   "metadata": {},
   "outputs": [
    {
     "name": "stdout",
     "output_type": "stream",
     "text": [
      "Carlos           Node(82)\n",
      "Jack             Node(65)\n",
      "Alice            Node(99)\n",
      "Bob              Node(70)\n",
      "James            Node(79)\n",
      "--------------------\n",
      "[head,79,65,99,82,70,tail]\n"
     ]
    }
   ],
   "source": [
    "cache.write(\"Jack\", 65)\n",
    "cache.write(\"James\", 79)\n",
    "cache.view_cache()"
   ]
  },
  {
   "cell_type": "code",
   "execution_count": 35,
   "metadata": {},
   "outputs": [
    {
     "name": "stdout",
     "output_type": "stream",
     "text": [
      "Sophia           Node(89)\n",
      "Jack             Node(65)\n",
      "Carlos           Node(82)\n",
      "Alice            Node(99)\n",
      "James            Node(79)\n",
      "Bob            Node(None)\n",
      "--------------------\n",
      "[head,89,79,65,99,82,tail]\n"
     ]
    }
   ],
   "source": [
    "cache.write(\"Sophia\", 89)  # Bob: 70 will be removed\n",
    "cache.view_cache()"
   ]
  },
  {
   "cell_type": "code",
   "execution_count": 36,
   "metadata": {},
   "outputs": [
    {
     "data": {
      "text/plain": [
       "5"
      ]
     },
     "execution_count": 36,
     "metadata": {},
     "output_type": "execute_result"
    }
   ],
   "source": [
    "cache.size"
   ]
  },
  {
   "cell_type": "code",
   "execution_count": 37,
   "metadata": {},
   "outputs": [
    {
     "data": {
      "text/plain": [
       "-1"
      ]
     },
     "execution_count": 37,
     "metadata": {},
     "output_type": "execute_result"
    }
   ],
   "source": [
    "cache.read(\"Bob\")"
   ]
  },
  {
   "cell_type": "code",
   "execution_count": 38,
   "metadata": {},
   "outputs": [
    {
     "name": "stdout",
     "output_type": "stream",
     "text": [
      "Sophia           Node(89)\n",
      "Jack             Node(65)\n",
      "Carlos           Node(82)\n",
      "Alice            Node(99)\n",
      "James            Node(11)\n",
      "Bob            Node(None)\n",
      "--------------------\n",
      "[head,11,89,65,99,82,tail]\n"
     ]
    }
   ],
   "source": [
    "cache.write(\"James\", 11)  # update James's score\n",
    "cache.view_cache()"
   ]
  },
  {
   "cell_type": "markdown",
   "metadata": {},
   "source": [
    "## Prim's Minimum Spanning Trees Greedy Algorithm"
   ]
  },
  {
   "cell_type": "code",
   "execution_count": 39,
   "metadata": {},
   "outputs": [],
   "source": [
    "import numpy as np\n",
    "import networkx as nx\n",
    "import heapq as hq\n",
    "import matplotlib.pyplot as plt\n",
    "%matplotlib inline"
   ]
  },
  {
   "cell_type": "code",
   "execution_count": 40,
   "metadata": {},
   "outputs": [],
   "source": [
    "def prim(graph):\n",
    "    \"\"\"\n",
    "    input:  a connected undirected graph\n",
    "    output: MST = minimum spanning tree, a subset of the edges collection with minimum sum of edge costs,\n",
    "            MC = minimum total cost\n",
    "    time:   O(m*n)\n",
    "    \"\"\"\n",
    "    source = list(graph.keys())[0]  # randomly choose a source vertex\n",
    "    X = set([source])  # keep track of all vertices visited\n",
    "    T = []\n",
    "    MC = 0\n",
    "    \n",
    "    while len(X) != len(graph):\n",
    "        # choose the edge that has the lowest cost\n",
    "        cost = np.inf\n",
    "        edge = None\n",
    "        \n",
    "        for u in graph:\n",
    "            for v in graph[u]:\n",
    "                if u in X and v not in X:\n",
    "                    if graph[u][v] < cost:\n",
    "                        cost = graph[u][v]\n",
    "                        edge = (u, v)\n",
    "        \n",
    "        if edge:\n",
    "            T.append(edge)\n",
    "            X.add(edge[1])\n",
    "            MC += cost\n",
    "    \n",
    "    return T, MC"
   ]
  },
  {
   "cell_type": "code",
   "execution_count": 41,
   "metadata": {},
   "outputs": [],
   "source": [
    "graph = {\n",
    "    'a': {'b': 1, 'c': 4, 'd': 3},\n",
    "    'b': {'a': 1, 'd': 2},\n",
    "    'c': {'a': 4, 'd': 5},\n",
    "    'd': {'a': 3, 'c': 5, 'b': 2}\n",
    "}"
   ]
  },
  {
   "cell_type": "code",
   "execution_count": 42,
   "metadata": {},
   "outputs": [
    {
     "data": {
      "text/plain": [
       "[('c', 'a'), ('a', 'b'), ('b', 'd')]"
      ]
     },
     "execution_count": 42,
     "metadata": {},
     "output_type": "execute_result"
    }
   ],
   "source": [
    "MST, MC = prim(graph)\n",
    "MST"
   ]
  },
  {
   "cell_type": "code",
   "execution_count": 44,
   "metadata": {},
   "outputs": [
    {
     "data": {
      "text/plain": [
       "{('b', 'a'): Text(-0.0733049,-0.472407,'1'),\n",
       " ('c', 'a'): Text(-0.337175,0.433161,'4'),\n",
       " ('c', 'd'): Text(0.0733049,0.472407,'5'),\n",
       " ('d', 'a'): Text(-0.107702,0.0944317,'3'),\n",
       " ('d', 'b'): Text(0.337175,-0.433161,'2')}"
      ]
     },
     "execution_count": 44,
     "metadata": {},
     "output_type": "execute_result"
    },
    {
     "data": {
      "image/png": "[encoded data removed]",
      "text/plain": [
       "<matplotlib.figure.Figure at 0x7f8bd431cc50>"
      ]
     },
     "metadata": {},
     "output_type": "display_data"
    }
   ],
   "source": [
    "WG = nx.Graph()\n",
    "WG.add_edge('a', 'b', weight=1)\n",
    "WG.add_edge('b', 'd', weight=2)\n",
    "WG.add_edge('a', 'c', weight=4)\n",
    "WG.add_edge('c', 'd', weight=5)\n",
    "WG.add_edge('a', 'd', weight=3)\n",
    "\n",
    "pos = nx.fruchterman_reingold_layout(WG)\n",
    "nx.draw(WG, pos=pos, with_labels=True, node_color=\"lightgreen\")\n",
    "nx.draw_networkx_edges(WG, pos, edgelist=MST, edge_color=\"red\", style=\"dotted\", width=3)\n",
    "nx.draw_networkx_edge_labels(WG, pos, edge_labels=nx.get_edge_attributes(WG, 'weight'), font_size=15, rotate=False)"
   ]
  },
  {
   "cell_type": "markdown",
   "metadata": {},
   "source": [
    "## Accelerate Prim's MST Algorithm using a min heap"
   ]
  },
  {
   "cell_type": "markdown",
   "metadata": {},
   "source": [
    "Helper functions that support lookups/deletes in the heap"
   ]
  },
  {
   "cell_type": "code",
   "execution_count": 45,
   "metadata": {},
   "outputs": [],
   "source": [
    "def search_node(heap, node):\n",
    "    index = 0\n",
    "    for item in heap:\n",
    "        if item[2] == node:  # tuple[2] is the end node\n",
    "            return (item[0], item[1], item[2], index)\n",
    "        index += 1\n",
    "    return\n",
    "\n",
    "def remove_node(heap, node):\n",
    "    _, _, _, index = search_node(heap, node)  # 1.find the node's position in the list\n",
    "    heap[index] = heap[-1]                    # 2.swap with the last element\n",
    "    heap.pop()                                # 3.remove the last element (list.pop())\n",
    "    hq.heapify(heap)                          # 4.rearrange the heap"
   ]
  },
  {
   "cell_type": "code",
   "execution_count": 56,
   "metadata": {},
   "outputs": [],
   "source": [
    "def prim_heap(graph):\n",
    "    \"\"\"\n",
    "    input:  a connected undirected graph\n",
    "    output: MST = minimum spanning tree, a subset of the edges collection with minimum sum of edge costs,\n",
    "            MC = minimum total cost\n",
    "    time:   O(m*logn), in each greedy step we extract-min from the heap, which takes O(logn) = O(logm)\n",
    "    \"\"\"\n",
    "    source = list(graph.keys())[0]  # randomly choose a source vertex\n",
    "    X = set([source])  # keep track of all vertices visited\n",
    "    T = []\n",
    "    MC = 0\n",
    "    \n",
    "    H = []  # initialize the heap V - X\n",
    "    for w in [w for w in graph if w not in X]:  # run local tournament for each node w in V - X\n",
    "        min_cost = np.inf\n",
    "        winner = None\n",
    "        \n",
    "        for v in graph:\n",
    "            if v in X and w in graph[v]:\n",
    "                cost = graph[v][w]\n",
    "                \n",
    "                if cost < min_cost:\n",
    "                    min_cost = cost\n",
    "                    winner = (v, w)\n",
    "                        \n",
    "        if winner:\n",
    "            v, w = winner\n",
    "            hq.heappush(H, (min_cost, v, w))  # \"w\" is unique across the heap\n",
    "        else:\n",
    "            hq.heappush(H, (np.inf, None, w))  # for isolated nodes, key = infinity\n",
    "    \n",
    "    assert len(H) == (len(graph) - len(X)), \"Incorrect heap size!\"\n",
    "    \n",
    "    while H:\n",
    "        cost, v, w = hq.heappop(H)  # extract-min from the heap 1 by 1, and add to X\n",
    "        X.add(w)\n",
    "        T.append((v, w))\n",
    "        MC += cost\n",
    "\n",
    "        for t in graph[w]:  # update keys for nodes in graph[w]\n",
    "            if t not in X:\n",
    "                new_cost = graph[w][t]\n",
    "                cost, _, _, _ = search_node(H, t)\n",
    "                \n",
    "                if new_cost < cost:\n",
    "                    remove_node(H, t)\n",
    "                    hq.heappush(H, (new_cost, w, t))\n",
    "                    \n",
    "    return T, MC"
   ]
  },
  {
   "cell_type": "code",
   "execution_count": 57,
   "metadata": {},
   "outputs": [],
   "source": [
    "graph = {}  # the undirected graph must be symmetric!\n",
    "\n",
    "with open(\"support/edges.txt\", \"rt\") as fh:\n",
    "    for line in fh.readlines():\n",
    "        line = line.strip().split()\n",
    "        \n",
    "        if len(line) == 3:\n",
    "            u, v, cost = [int(i) for i in line]\n",
    "            \n",
    "            if u not in graph:\n",
    "                graph[u] = {v: cost}\n",
    "            else:\n",
    "                graph[u][v] = cost\n",
    "                \n",
    "            if v not in graph:\n",
    "                graph[v] = {u: cost}\n",
    "            else:\n",
    "                graph[v][u] = cost"
   ]
  },
  {
   "cell_type": "code",
   "execution_count": 58,
   "metadata": {},
   "outputs": [
    {
     "data": {
      "text/plain": [
       "{1: 569, 51: -1958, 90: -4576, 315: 7783, 317: -7213, 462: 3135, 476: -6467}"
      ]
     },
     "execution_count": 58,
     "metadata": {},
     "output_type": "execute_result"
    }
   ],
   "source": [
    "graph[316]  # test"
   ]
  },
  {
   "cell_type": "code",
   "execution_count": 59,
   "metadata": {},
   "outputs": [
    {
     "name": "stdout",
     "output_type": "stream",
     "text": [
      "163 ms ± 333 µs per loop (mean ± std. dev. of 7 runs, 10 loops each)\n"
     ]
    }
   ],
   "source": [
    "%%timeit\n",
    "MST, MC = prim(graph)"
   ]
  },
  {
   "cell_type": "code",
   "execution_count": 60,
   "metadata": {},
   "outputs": [
    {
     "data": {
      "text/plain": [
       "-3612829"
      ]
     },
     "execution_count": 60,
     "metadata": {},
     "output_type": "execute_result"
    }
   ],
   "source": [
    "MC"
   ]
  },
  {
   "cell_type": "code",
   "execution_count": 61,
   "metadata": {},
   "outputs": [
    {
     "name": "stdout",
     "output_type": "stream",
     "text": [
      "85.9 ms ± 426 µs per loop (mean ± std. dev. of 7 runs, 10 loops each)\n"
     ]
    }
   ],
   "source": [
    "%%timeit\n",
    "MST, MC = prim_heap(graph)"
   ]
  },
  {
   "cell_type": "code",
   "execution_count": 62,
   "metadata": {},
   "outputs": [
    {
     "data": {
      "text/plain": [
       "-3612829"
      ]
     },
     "execution_count": 62,
     "metadata": {},
     "output_type": "execute_result"
    }
   ],
   "source": [
    "MC"
   ]
  },
  {
   "cell_type": "markdown",
   "metadata": {},
   "source": [
    "## Advanced Union-Find for handling disjoint sets\n",
    "\n",
    "Need to design the data structure like binary search trees."
   ]
  },
  {
   "cell_type": "markdown",
   "metadata": {},
   "source": [
    "`find()`: with path compression, update parent in each run, save time for the next call  \n",
    "`union()`: lazy union, update parent only for 1 node, union by rank  \n",
    "\n",
    "For Advanced Union-Find, all operations = nearly constant time = `O(log*(n))`, where `log*(n)` is the number of log() operations required to make n down to <= 1. For practical values of n, `log*(n) ≤ 5`."
   ]
  },
  {
   "cell_type": "code",
   "execution_count": 5,
   "metadata": {},
   "outputs": [],
   "source": [
    "import networkx as nx\n",
    "import matplotlib.pyplot as plt\n",
    "%matplotlib inline\n",
    "import pygraphviz\n",
    "from networkx.drawing.nx_agraph import write_dot, graphviz_layout"
   ]
  },
  {
   "cell_type": "code",
   "execution_count": 48,
   "metadata": {},
   "outputs": [],
   "source": [
    "class UnionFind:\n",
    "\n",
    "    def __init__(self, nodes):\n",
    "        self.parent = {v:v for v in nodes}\n",
    "        self.rank = {v:0 for v in nodes}\n",
    "        self._size = len(nodes)  # number of clusters in Union-Find\n",
    "        \n",
    "    @property\n",
    "    def size(self):\n",
    "        return self._size\n",
    "    \n",
    "    def __str__(self):\n",
    "        out = \"number of clusters: \" + str(self.size) + \"\\n\"\n",
    "        out += (\"all parents: \" + str(set(self.parent.values())) + \"\\n\")\n",
    "        for v, p in self.parent.items():\n",
    "            out += (\"parent(\" + str(v) + \"): \" + str(p) + \"\\n\")\n",
    "        return out\n",
    "            \n",
    "    __repr__ = __str__\n",
    "        \n",
    "    def find(self, v):\n",
    "        ''' worst case O(logn)-time '''\n",
    "        if self.parent[v] == v:\n",
    "            return v\n",
    "        self.parent[v] = self.find(self.parent[v])  # path compression\n",
    "        return self.parent[v]\n",
    "    \n",
    "    def union(self, u, v):\n",
    "        ''' worst case O(logn)-time '''\n",
    "        if u == v:\n",
    "            return\n",
    "        pu, pv = self.find(u), self.find(v)\n",
    "        ru, rv = self.rank[pu], self.rank[pv]\n",
    "        if pu == pv:\n",
    "            print(u, \"and\", v, \"are already unioned!\")\n",
    "            return\n",
    "        if ru <= rv:\n",
    "            self.parent[pu] = pv\n",
    "        else:\n",
    "            self.parent[pv] = pu\n",
    "        if ru == rv:\n",
    "            self.rank[pv] += 1\n",
    "        self._size -= 1"
   ]
  },
  {
   "cell_type": "code",
   "execution_count": 7,
   "metadata": {},
   "outputs": [
    {
     "data": {
      "text/plain": [
       "number of clusters: 10\n",
       "all parents: {0, 1, 2, 3, 4, 5, 6, 7, 8, 9}\n",
       "parent(0): 0\n",
       "parent(1): 1\n",
       "parent(2): 2\n",
       "parent(3): 3\n",
       "parent(4): 4\n",
       "parent(5): 5\n",
       "parent(6): 6\n",
       "parent(7): 7\n",
       "parent(8): 8\n",
       "parent(9): 9"
      ]
     },
     "execution_count": 7,
     "metadata": {},
     "output_type": "execute_result"
    }
   ],
   "source": [
    "UF = UnionFind(range(10))\n",
    "UF"
   ]
  },
  {
   "cell_type": "code",
   "execution_count": 8,
   "metadata": {},
   "outputs": [
    {
     "data": {
      "text/plain": [
       "number of clusters: 9\n",
       "all parents: {0, 1, 2, 4, 5, 6, 7, 8, 9}\n",
       "parent(0): 0\n",
       "parent(1): 1\n",
       "parent(2): 2\n",
       "parent(3): 4\n",
       "parent(4): 4\n",
       "parent(5): 5\n",
       "parent(6): 6\n",
       "parent(7): 7\n",
       "parent(8): 8\n",
       "parent(9): 9"
      ]
     },
     "execution_count": 8,
     "metadata": {},
     "output_type": "execute_result"
    }
   ],
   "source": [
    "UF.union(3, 4)\n",
    "UF"
   ]
  },
  {
   "cell_type": "code",
   "execution_count": 9,
   "metadata": {},
   "outputs": [
    {
     "data": {
      "text/plain": [
       "number of clusters: 8\n",
       "all parents: {0, 1, 2, 4, 5, 6, 7, 8}\n",
       "parent(0): 0\n",
       "parent(1): 1\n",
       "parent(2): 2\n",
       "parent(3): 4\n",
       "parent(4): 4\n",
       "parent(5): 5\n",
       "parent(6): 6\n",
       "parent(7): 7\n",
       "parent(8): 8\n",
       "parent(9): 4"
      ]
     },
     "execution_count": 9,
     "metadata": {},
     "output_type": "execute_result"
    }
   ],
   "source": [
    "UF.union(4, 9)  # {4,3} is the big tree, {9} is the small tree\n",
    "UF"
   ]
  },
  {
   "cell_type": "code",
   "execution_count": 10,
   "metadata": {},
   "outputs": [
    {
     "name": "stdout",
     "output_type": "stream",
     "text": [
      "4 and 9 are already unioned!\n"
     ]
    }
   ],
   "source": [
    "UF.union(4, 9)"
   ]
  },
  {
   "cell_type": "code",
   "execution_count": 11,
   "metadata": {},
   "outputs": [
    {
     "name": "stdout",
     "output_type": "stream",
     "text": [
      "0 1 2 4 4 5 6 7 8 4 "
     ]
    }
   ],
   "source": [
    "for i in range(10):\n",
    "    print(UF.find(i), end=\" \")"
   ]
  },
  {
   "cell_type": "code",
   "execution_count": 12,
   "metadata": {},
   "outputs": [
    {
     "data": {
      "text/plain": [
       "8"
      ]
     },
     "execution_count": 12,
     "metadata": {},
     "output_type": "execute_result"
    }
   ],
   "source": [
    "UF.size"
   ]
  },
  {
   "cell_type": "code",
   "execution_count": 13,
   "metadata": {},
   "outputs": [],
   "source": [
    "for u, v in [(5,9),(7,3),(4,8),(6,1)]:\n",
    "    UF.union(u, v)"
   ]
  },
  {
   "cell_type": "markdown",
   "metadata": {},
   "source": [
    "For easy visualization, let's plot:"
   ]
  },
  {
   "cell_type": "code",
   "execution_count": 94,
   "metadata": {},
   "outputs": [
    {
     "data": {
      "text/plain": [
       "<matplotlib.collections.PathCollection at 0x7fd419834320>"
      ]
     },
     "execution_count": 94,
     "metadata": {},
     "output_type": "execute_result"
    },
    {
     "data": {
      "image/png": "[encoded data removed]",
      "text/plain": [
       "<matplotlib.figure.Figure at 0x7fd419296358>"
      ]
     },
     "metadata": {
      "needs_background": "light"
     },
     "output_type": "display_data"
    }
   ],
   "source": [
    "G = nx.DiGraph({4:[3,5,7,8,9], 1:[6], 0:[], 2:[]})\n",
    "plt.title('UF at this point', fontsize=16)\n",
    "pos = graphviz_layout(G, prog='dot')\n",
    "nx.draw_networkx(G, pos, with_labels=True, arrows=True, node_color=\"lightgreen\")\n",
    "nx.draw_networkx_nodes(G, pos, nodelist=[0,1,2,4], node_color=\"#E066FF\", node_size=1000)"
   ]
  },
  {
   "cell_type": "code",
   "execution_count": 16,
   "metadata": {},
   "outputs": [
    {
     "data": {
      "text/plain": [
       "number of clusters: 4\n",
       "all parents: {0, 1, 2, 4}\n",
       "parent(0): 0\n",
       "parent(1): 1\n",
       "parent(2): 2\n",
       "parent(3): 4\n",
       "parent(4): 4\n",
       "parent(5): 4\n",
       "parent(6): 1\n",
       "parent(7): 4\n",
       "parent(8): 4\n",
       "parent(9): 4"
      ]
     },
     "execution_count": 16,
     "metadata": {},
     "output_type": "execute_result"
    }
   ],
   "source": [
    "UF"
   ]
  },
  {
   "cell_type": "code",
   "execution_count": 17,
   "metadata": {},
   "outputs": [
    {
     "data": {
      "text/plain": [
       "4"
      ]
     },
     "execution_count": 17,
     "metadata": {},
     "output_type": "execute_result"
    }
   ],
   "source": [
    "UF.find(8)"
   ]
  },
  {
   "cell_type": "code",
   "execution_count": 18,
   "metadata": {},
   "outputs": [],
   "source": [
    "for u, v in [(6,0),(2,1),(5,6)]:\n",
    "    UF.union(u, v)"
   ]
  },
  {
   "cell_type": "code",
   "execution_count": 19,
   "metadata": {},
   "outputs": [
    {
     "data": {
      "text/plain": [
       "1"
      ]
     },
     "execution_count": 19,
     "metadata": {},
     "output_type": "execute_result"
    }
   ],
   "source": [
    "UF.size"
   ]
  },
  {
   "cell_type": "code",
   "execution_count": 20,
   "metadata": {},
   "outputs": [
    {
     "data": {
      "text/plain": [
       "number of clusters: 1\n",
       "all parents: {1, 4}\n",
       "parent(0): 1\n",
       "parent(1): 1\n",
       "parent(2): 1\n",
       "parent(3): 4\n",
       "parent(4): 1\n",
       "parent(5): 4\n",
       "parent(6): 1\n",
       "parent(7): 4\n",
       "parent(8): 4\n",
       "parent(9): 4"
      ]
     },
     "execution_count": 20,
     "metadata": {},
     "output_type": "execute_result"
    }
   ],
   "source": [
    "UF"
   ]
  },
  {
   "cell_type": "code",
   "execution_count": 96,
   "metadata": {},
   "outputs": [
    {
     "data": {
      "text/plain": [
       "<matplotlib.collections.PathCollection at 0x7fd419250208>"
      ]
     },
     "execution_count": 96,
     "metadata": {},
     "output_type": "execute_result"
    },
    {
     "data": {
      "image/png": "[encoded data removed]",
      "text/plain": [
       "<matplotlib.figure.Figure at 0x7fd4198da160>"
      ]
     },
     "metadata": {
      "needs_background": "light"
     },
     "output_type": "display_data"
    }
   ],
   "source": [
    "G = nx.DiGraph({4:[3,5,7,8,9], 1:[0,2,4,6]})\n",
    "plt.title('After the union, final UF looks like this', fontsize=16)\n",
    "pos = graphviz_layout(G, prog='dot')\n",
    "nx.draw_networkx(G, pos, with_labels=True, arrows=True, node_color=\"lightgreen\")\n",
    "nx.draw_networkx_nodes(G, pos, nodelist=[1], node_color=\"#E066FF\", node_size=1000)"
   ]
  },
  {
   "cell_type": "code",
   "execution_count": 92,
   "metadata": {},
   "outputs": [
    {
     "data": {
      "text/plain": [
       "{0: 0, 1: 2, 2: 0, 3: 0, 4: 1, 5: 0, 6: 0, 7: 0, 8: 0, 9: 0}"
      ]
     },
     "execution_count": 92,
     "metadata": {},
     "output_type": "execute_result"
    }
   ],
   "source": [
    "UF.rank  # rank(v) = the maximum distance from v to a leaf"
   ]
  },
  {
   "cell_type": "markdown",
   "metadata": {},
   "source": [
    "## Kruskal's MST Algorithm using Advanced Union-Find"
   ]
  },
  {
   "cell_type": "code",
   "execution_count": 97,
   "metadata": {},
   "outputs": [],
   "source": [
    "import networkx as nx\n",
    "import matplotlib.pyplot as plt\n",
    "%matplotlib inline"
   ]
  },
  {
   "cell_type": "code",
   "execution_count": 98,
   "metadata": {},
   "outputs": [],
   "source": [
    "G = {\n",
    "    'a': {'b': 1, 'c': 7},\n",
    "    'b': {'a': 1, 'c': 5, 'd': 4, 'e': 3},\n",
    "    'c': {'a': 7, 'b': 5, 'e': 6},\n",
    "    'd': {'b': 4, 'e': 2},\n",
    "    'e': {'b': 3, 'c': 6, 'd': 2}\n",
    "}"
   ]
  },
  {
   "cell_type": "code",
   "execution_count": 49,
   "metadata": {},
   "outputs": [],
   "source": [
    "def kruskal(G):\n",
    "    \"\"\"\n",
    "    input:  a connected undirected graph\n",
    "    output: MST = minimum spanning tree, MC = minimum total cost\n",
    "    time:   O(m*alpha(n)), where alpha(n) is the inverse Ackerman function\n",
    "    \"\"\"\n",
    "    T = set()\n",
    "    E = [(u,v,G[u][v]) for u in G for v in G[u]]\n",
    "    MC = 0\n",
    "    \n",
    "    E = sorted(E, key=lambda x: x[2])  # sort edges in order of increasing cost\n",
    "    UF = UnionFind(list(G.keys()))\n",
    "    \n",
    "    for u, v, cost in E:\n",
    "        if UF.find(u) != UF.find(v):  # if u & v already connected, union (u,v) will make a cycle\n",
    "            T.add((u, v))\n",
    "            UF.union(u, v)\n",
    "            MC += cost\n",
    "            \n",
    "    return T, MC"
   ]
  },
  {
   "cell_type": "code",
   "execution_count": 100,
   "metadata": {},
   "outputs": [
    {
     "data": {
      "text/plain": [
       "{('a', 'b'), ('b', 'c'), ('e', 'b'), ('e', 'd')}"
      ]
     },
     "execution_count": 100,
     "metadata": {},
     "output_type": "execute_result"
    }
   ],
   "source": [
    "MST, MC = kruskal(G)\n",
    "MST"
   ]
  },
  {
   "cell_type": "code",
   "execution_count": 101,
   "metadata": {},
   "outputs": [
    {
     "data": {
      "text/plain": [
       "11"
      ]
     },
     "execution_count": 101,
     "metadata": {},
     "output_type": "execute_result"
    }
   ],
   "source": [
    "MC"
   ]
  },
  {
   "cell_type": "code",
   "execution_count": 102,
   "metadata": {},
   "outputs": [],
   "source": [
    "E = [('a','b',1),('a','c',7),('b','c',5),('b','d',4),('c','e',6),('d','e',2),('b','e',3)]\n",
    "WG = nx.Graph()\n",
    "for u, v, w in E:\n",
    "    WG.add_edge(u, v, weight=w)"
   ]
  },
  {
   "cell_type": "code",
   "execution_count": 127,
   "metadata": {},
   "outputs": [
    {
     "data": {
      "text/plain": [
       "{('a', 'b'): Text(0.2919,0.375329,'1'),\n",
       " ('a', 'c'): Text(0.656184,0.35077,'7'),\n",
       " ('b', 'c'): Text(0.0685092,0.113254,'5'),\n",
       " ('b', 'd'): Text(-0.647887,-0.0991639,'4'),\n",
       " ('e', 'b'): Text(-0.156184,-0.1827,'3'),\n",
       " ('e', 'c'): Text(0.2081,-0.207258,'6'),\n",
       " ('e', 'd'): Text(-0.508297,-0.419677,'2')}"
      ]
     },
     "execution_count": 127,
     "metadata": {},
     "output_type": "execute_result"
    },
    {
     "data": {
      "image/png": "[encoded data removed]",
      "text/plain": [
       "<matplotlib.figure.Figure at 0x7fd418ab6ef0>"
      ]
     },
     "metadata": {},
     "output_type": "display_data"
    }
   ],
   "source": [
    "pos = nx.fruchterman_reingold_layout(WG)\n",
    "edgelist = [('a','b'),('b','c'),('b','e'),('d','e')]\n",
    "nx.draw(WG, pos=pos, with_labels=True, node_color=\"lightgreen\")\n",
    "nx.draw_networkx_edges(WG, pos, edgelist=edgelist, edge_color=\"blue\", style=\"dotted\", width=3)\n",
    "nx.draw_networkx_edges(WG, pos, edgelist=[('b','d')], edge_color=\"red\", style=\"dashed\", width=3)\n",
    "nx.draw_networkx_edge_labels(WG, pos, edge_labels=nx.get_edge_attributes(WG, 'weight'), font_size=15, rotate=False)"
   ]
  },
  {
   "cell_type": "code",
   "execution_count": 50,
   "metadata": {},
   "outputs": [],
   "source": [
    "graph = {}  # the undirected graph must be symmetric!\n",
    "\n",
    "with open(\"support/edges.txt\", \"rt\") as fh:\n",
    "    for line in fh.readlines():\n",
    "        line = line.strip().split()\n",
    "        \n",
    "        if len(line) == 3:\n",
    "            u, v, cost = [int(i) for i in line]\n",
    "            \n",
    "            if u not in graph:\n",
    "                graph[u] = {v: cost}\n",
    "            else:\n",
    "                graph[u][v] = cost\n",
    "                \n",
    "            if v not in graph:\n",
    "                graph[v] = {u: cost}\n",
    "            else:\n",
    "                graph[v][u] = cost"
   ]
  },
  {
   "cell_type": "code",
   "execution_count": 51,
   "metadata": {},
   "outputs": [],
   "source": [
    "MST, MC = kruskal(graph)"
   ]
  },
  {
   "cell_type": "code",
   "execution_count": 52,
   "metadata": {},
   "outputs": [
    {
     "data": {
      "text/plain": [
       "-3612829"
      ]
     },
     "execution_count": 52,
     "metadata": {},
     "output_type": "execute_result"
    }
   ],
   "source": [
    "MC  # -3612829"
   ]
  },
  {
   "cell_type": "markdown",
   "metadata": {},
   "source": [
    "Congratulations~! this result is exactly the same as we computed previously, correctness proved!  \n",
    "In theory, __Kruskal's + Union-Find__ is as fast as __Prim's + Min-Heap__."
   ]
  },
  {
   "cell_type": "markdown",
   "metadata": {},
   "source": [
    "## Greedy Max-spacing k-clustering using Advanced Union-Find"
   ]
  },
  {
   "cell_type": "code",
   "execution_count": 128,
   "metadata": {},
   "outputs": [],
   "source": [
    "G = {}\n",
    "with open(\"support/clustering1.txt\", \"rt\") as fh:  # make sure G is symmetric\n",
    "    for line in fh.readlines():\n",
    "        line = line.strip().split()\n",
    "        if len(line) == 3:\n",
    "            u, v, d = [int(i) for i in line]\n",
    "            if u in G:\n",
    "                G[u][v] = d\n",
    "            else:\n",
    "                G[u] = {v:d}\n",
    "            if v in G:\n",
    "                G[v][u] = d\n",
    "            else:\n",
    "                G[v] = {u:d}"
   ]
  },
  {
   "cell_type": "code",
   "execution_count": 129,
   "metadata": {},
   "outputs": [],
   "source": [
    "def k_cluster(G):\n",
    "    '''\n",
    "    input:  a weighted graph where weight is the Euclidean distance between 2 nodes\n",
    "    output: the minimum spacing between clusters after k-clustering\n",
    "    '''\n",
    "    E = [(u,v,G[u][v]) for u in G for v in G[u]]\n",
    "    E = sorted(E, key=lambda x: x[2])  # sort by increasing distances\n",
    "    UF = UnionFind(list(G.keys()))\n",
    "    \n",
    "    for u, v, d in E:\n",
    "        if UF.find(u) == UF.find(v):\n",
    "            continue\n",
    "        if UF.size > 4:\n",
    "            UF.union(u, v)\n",
    "        else:\n",
    "            return d"
   ]
  },
  {
   "cell_type": "code",
   "execution_count": 130,
   "metadata": {},
   "outputs": [
    {
     "data": {
      "text/plain": [
       "106"
      ]
     },
     "execution_count": 130,
     "metadata": {},
     "output_type": "execute_result"
    }
   ],
   "source": [
    "MMS = k_cluster(G)\n",
    "MMS"
   ]
  },
  {
   "cell_type": "markdown",
   "metadata": {},
   "source": [
    "## Huffman codes"
   ]
  },
  {
   "cell_type": "code",
   "execution_count": 126,
   "metadata": {},
   "outputs": [],
   "source": [
    "import heapq as hq\n",
    "\n",
    "def huffman(charset, freq):\n",
    "    \"\"\"\n",
    "    input:  a character set such as ['A','B','C','D','E'] where chars in the set are distinct,\n",
    "            a list of frequencies for each char such as [80, 50, 40, 60, 10].\n",
    "    output: an optimal dict of variable-length binary codes that minimizes the average encoding length,\n",
    "            the output encodings are ensured to be prefix-free, there's no ambiguity when decode.\n",
    "            note that the optimal solution is not unique, this function returns only one of them.\n",
    "    time:   O(nlogn) if using a heap to extract-min, or O(n) if using two queues(non-trivial)\n",
    "    \n",
    "    remark: the min-heap H is a list of tuples, such as [(12,['A']), (5,['B','C']), ...],\n",
    "            inside the tuple, we use a list ['A','B','C', ...] to store characters in the charset.\n",
    "            but why bother using a list inside the tuple? why not use (12,'A'), (5,'BCD'), etc?\n",
    "            well, of course you can just concatenate characters this way, but then, this function\n",
    "            would only work for single-digit charset like ['0','1',...] and single-char English charset\n",
    "            such as ['a','b','c',...], but it would fail for multi-digits or multi-chars charset such\n",
    "            as ['0','10','200'], ['Aa','b','CDe'], obviously, it would also fail for non-English\n",
    "            charsets like ['哈','夫','曼','码'] or ['ハ','フ','マ','ン'], for example.\n",
    "    \"\"\"\n",
    "    T = {char:'' for char in charset}\n",
    "    H = list(zip(freq, [[char] for char in charset]))\n",
    "    hq.heapify(H)\n",
    "\n",
    "    while len(H) > 1:\n",
    "        f1, char1 = hq.heappop(H)\n",
    "        f2, char2 = hq.heappop(H)\n",
    "        hq.heappush(H, (f1 + f2, char1 + char2))\n",
    "        for char in char1:\n",
    "            T[char] = '0' + T[char]\n",
    "        for char in char2:\n",
    "            T[char] = '1' + T[char]\n",
    "    return T"
   ]
  },
  {
   "cell_type": "code",
   "execution_count": 127,
   "metadata": {},
   "outputs": [
    {
     "data": {
      "text/plain": [
       "{'A': '100', 'B': '1010', 'C': '00', 'D': '11', 'E': '1011', 'F': '01'}"
      ]
     },
     "execution_count": 127,
     "metadata": {},
     "output_type": "execute_result"
    }
   ],
   "source": [
    "huffman(['A','B','C','D','E','F'], [3,2,6,8,2,6])"
   ]
  },
  {
   "cell_type": "markdown",
   "metadata": {},
   "source": [
    "### compress/unzip and encode/decode personal data"
   ]
  },
  {
   "cell_type": "code",
   "execution_count": 128,
   "metadata": {},
   "outputs": [],
   "source": [
    "def huffman_encode(data, encoding):\n",
    "    ''' mask human-readable data as binary codes 0/1 '''\n",
    "    mask = ''\n",
    "    for char in data:\n",
    "        mask += encoding[char]\n",
    "    return mask\n",
    "\n",
    "def huffman_decode(data, encoding):\n",
    "    ''' translate binary codes into strings based on encoding '''\n",
    "    translate = {v: k for k, v in encoding.items()}\n",
    "    unmask = ''\n",
    "    curr_code = ''\n",
    "    for digit in data:\n",
    "        curr_code += digit\n",
    "        if curr_code in translate:\n",
    "            unmask += translate[curr_code]\n",
    "            curr_code = ''\n",
    "    return unmask"
   ]
  },
  {
   "cell_type": "code",
   "execution_count": 129,
   "metadata": {},
   "outputs": [],
   "source": [
    "import string\n",
    "import numpy as np"
   ]
  },
  {
   "cell_type": "code",
   "execution_count": 130,
   "metadata": {},
   "outputs": [
    {
     "data": {
      "text/plain": [
       "'!\"#$%&\\'()*+,-./:;<=>?@[\\\\]^_`{|}~'"
      ]
     },
     "execution_count": 130,
     "metadata": {},
     "output_type": "execute_result"
    }
   ],
   "source": [
    "string.punctuation"
   ]
  },
  {
   "cell_type": "code",
   "execution_count": 131,
   "metadata": {},
   "outputs": [
    {
     "data": {
      "text/plain": [
       "'abcdefghijklmnopqrstuvwxyzABCDEFGHIJKLMNOPQRSTUVWXYZ'"
      ]
     },
     "execution_count": 131,
     "metadata": {},
     "output_type": "execute_result"
    }
   ],
   "source": [
    "string.ascii_letters"
   ]
  },
  {
   "cell_type": "code",
   "execution_count": 132,
   "metadata": {},
   "outputs": [
    {
     "data": {
      "text/plain": [
       "'0123456789'"
      ]
     },
     "execution_count": 132,
     "metadata": {},
     "output_type": "execute_result"
    }
   ],
   "source": [
    "string.digits"
   ]
  },
  {
   "cell_type": "code",
   "execution_count": 133,
   "metadata": {},
   "outputs": [
    {
     "data": {
      "text/plain": [
       "'!\"#$%&\\'()*+,-./:;<=>?@[\\\\]^_`{|}~abcdefghijklmnopqrstuvwxyzABCDEFGHIJKLMNOPQRSTUVWXYZ0123456789'"
      ]
     },
     "execution_count": 133,
     "metadata": {},
     "output_type": "execute_result"
    }
   ],
   "source": [
    "valid_chars = string.punctuation + string.ascii_letters + string.digits\n",
    "valid_chars"
   ]
  },
  {
   "cell_type": "code",
   "execution_count": 134,
   "metadata": {},
   "outputs": [],
   "source": [
    "charset = [' ', '\\n']\n",
    "for char in valid_chars:\n",
    "    charset.append(char)"
   ]
  },
  {
   "cell_type": "code",
   "execution_count": 135,
   "metadata": {},
   "outputs": [
    {
     "name": "stdout",
     "output_type": "stream",
     "text": [
      "[' ', '\\n', '!', '\"', '#', '$', '%', '&', \"'\", '(', ')', '*', '+', ',', '-', '.', '/', ':', ';', '<', '=', '>', '?', '@', '[', '\\\\', ']', '^', '_', '`', '{', '|', '}', '~', 'a', 'b', 'c', 'd', 'e', 'f', 'g', 'h', 'i', 'j', 'k', 'l', 'm', 'n', 'o', 'p', 'q', 'r', 's', 't', 'u', 'v', 'w', 'x', 'y', 'z', 'A', 'B', 'C', 'D', 'E', 'F', 'G', 'H', 'I', 'J', 'K', 'L', 'M', 'N', 'O', 'P', 'Q', 'R', 'S', 'T', 'U', 'V', 'W', 'X', 'Y', 'Z', '0', '1', '2', '3', '4', '5', '6', '7', '8', '9']\n"
     ]
    }
   ],
   "source": [
    "print(charset)"
   ]
  },
  {
   "cell_type": "code",
   "execution_count": 136,
   "metadata": {},
   "outputs": [
    {
     "data": {
      "text/plain": [
       "array([680, 162, 282, 650, 168, 722, 765, 937, 225, 308, 130, 205, 700,\n",
       "       890, 114, 533, 367,  90, 818, 324, 167, 702, 720,  75, 283, 671,\n",
       "       838, 167, 613, 876, 825, 388, 501, 778, 511, 498, 161, 450,  65,\n",
       "       254, 710, 195, 186, 275, 554, 998, 172, 180, 331, 523, 986, 142,\n",
       "       330, 859, 351, 251,  87, 555, 970, 424, 100, 944, 425, 878, 210,\n",
       "       497, 162, 751, 618, 766, 751, 269, 803, 157, 672, 472, 858, 693,\n",
       "       915, 133, 570, 930, 398, 599, 942, 880, 185,  49, 970, 950, 851,\n",
       "       130, 846, 974, 782, 501])"
      ]
     },
     "execution_count": 136,
     "metadata": {},
     "output_type": "execute_result"
    }
   ],
   "source": [
    "freq = np.random.randint(0, 1000, size=len(charset))\n",
    "freq"
   ]
  },
  {
   "cell_type": "code",
   "execution_count": 137,
   "metadata": {},
   "outputs": [
    {
     "data": {
      "text/plain": [
       "{'\\n': '00110100',\n",
       " ' ': '010011',\n",
       " '!': '0001110',\n",
       " '\"': '001110',\n",
       " '#': '01000011',\n",
       " '$': '011010',\n",
       " '%': '011110',\n",
       " '&': '110100',\n",
       " \"'\": '11000110',\n",
       " '(': '0011000',\n",
       " ')': '00001000',\n",
       " '*': '10010010',\n",
       " '+': '010101',\n",
       " ',': '110000',\n",
       " '-': '110001110',\n",
       " '.': '000011',\n",
       " '/': '0110110',\n",
       " '0': '01101110',\n",
       " '1': '1100011110',\n",
       " '2': '111001',\n",
       " '3': '110111',\n",
       " '4': '101010',\n",
       " '5': '00001001',\n",
       " '6': '101000',\n",
       " '7': '111011',\n",
       " '8': '100010',\n",
       " '9': '1111101',\n",
       " ':': '100000000',\n",
       " ';': '100101',\n",
       " '<': '0011011',\n",
       " '=': '00111101',\n",
       " '>': '010110',\n",
       " '?': '011001',\n",
       " '@': '001101010',\n",
       " 'A': '100000001',\n",
       " 'B': '110110',\n",
       " 'C': '1010011',\n",
       " 'D': '101110',\n",
       " 'E': '10010011',\n",
       " 'F': '1110001',\n",
       " 'G': '00111100',\n",
       " 'H': '011100',\n",
       " 'I': '001011',\n",
       " 'J': '011111',\n",
       " 'K': '011101',\n",
       " 'L': '0000101',\n",
       " 'M': '100011',\n",
       " 'N': '00110010',\n",
       " 'O': '010010',\n",
       " 'P': '1110000',\n",
       " 'Q': '101011',\n",
       " 'R': '010100',\n",
       " 'S': '110010',\n",
       " 'T': '00010000',\n",
       " 'U': '001000',\n",
       " 'V': '110011',\n",
       " 'W': '1001000',\n",
       " 'X': '001001',\n",
       " 'Y': '110101',\n",
       " 'Z': '101111',\n",
       " '[': '0001111',\n",
       " '\\\\': '010001',\n",
       " ']': '100111',\n",
       " '^': '01000010',\n",
       " '_': '001010',\n",
       " '`': '101101',\n",
       " 'a': '000000',\n",
       " 'b': '1111100',\n",
       " 'c': '00110011',\n",
       " 'd': '1100010',\n",
       " 'e': '1100011111',\n",
       " 'f': '11111111',\n",
       " 'g': '011000',\n",
       " 'h': '10000001',\n",
       " 'i': '01101111',\n",
       " 'j': '0001001',\n",
       " 'k': '000101',\n",
       " 'l': '111101',\n",
       " 'm': '01011110',\n",
       " 'n': '01011111',\n",
       " 'o': '0100000',\n",
       " 'p': '000001',\n",
       " 'q': '111100',\n",
       " 'r': '00010001',\n",
       " 's': '0011111',\n",
       " 't': '101100',\n",
       " 'u': '0101110',\n",
       " 'v': '11111110',\n",
       " 'w': '001101011',\n",
       " 'x': '000110',\n",
       " 'y': '111010',\n",
       " 'z': '1010010',\n",
       " '{': '100110',\n",
       " '|': '1000001',\n",
       " '}': '1111110',\n",
       " '~': '100001'}"
      ]
     },
     "execution_count": 137,
     "metadata": {},
     "output_type": "execute_result"
    }
   ],
   "source": [
    "encoding = huffman(charset, freq)\n",
    "encoding"
   ]
  },
  {
   "cell_type": "markdown",
   "metadata": {},
   "source": [
    "__text source__: https://en.wikipedia.org/wiki/Huffman_coding"
   ]
  },
  {
   "cell_type": "code",
   "execution_count": 138,
   "metadata": {},
   "outputs": [],
   "source": [
    "text = '''\n",
    "In computer science, a Huffman code is a particular type of optimal prefix code that is commonly used for lossless data compression. The process of finding and/or using such a code proceeds by means of Huffman coding, an algorithm developed by David A. Huffman while he was a Sc.D. student at MIT, and published in the 1952 paper \"A Method for the Construction of Minimum-Redundancy Codes\". The output from Huffman's algorithm can be viewed as a variable-length code table for encoding a source symbol. The algorithm derives this table from the estimated probability or frequency of occurrence (weight) for each possible value of the source symbol. However, although optimal among methods encoding symbols separately, Huffman coding is not always optimal among all compression methods.\n",
    "'''"
   ]
  },
  {
   "cell_type": "code",
   "execution_count": 139,
   "metadata": {},
   "outputs": [
    {
     "data": {
      "text/plain": [
       "'001101000010110101111101001100110011010000001011110000001010111010110011000111110001000101001100111110011001101101111110001111101011111001100111100011111110000010011000000010011011100010111011111111111111110101111000000001011111010011001100110100000110001011000111110100110110111100111110100110000000100110000010000000001000110110001101111001100110101110111101000000000100010100111011001110100000011100011111010011010000011111111010011010000000000110110001101111010111100000001111010100110000010001000111000111111111111101101111000110010011001100110100000110001011000111110100111011001000000100000010110001001101101111001111101001100110011010000001011110010111100100000010111111111011110100100110101110001111111000111111100010010011111111110100000000100010100111111010100000001111100111111111011100011111001111100111110100111100010000000101100000000010011001100110100000010111100000010001000111000111110011111001111101101111010000001011111000011010011000100001000000111000111110100110000010001000101000000011001111000111110011111001111101001101000001111111101001111111111011011110101111111000100110111101011111011000010011000000010111111100010011011001000000001000101001101011100011111011011110101111101100001001100111110101110001100111000000101001100000001001100110011010000011000101100011111010011000001000100010100000001100111100011111110001111111000100011111010011111110011101001001101011110110001111100000001011111001111101001101000001111111101001101110001011101111111111111111010111100000000101111101001100110011010000011000100110111101011111011000110000010011000000010111110100110000001111010110000100000000100010110111110110010000001010111100100111100010110001111111111110110001111111110101000000000011100011111110001001001111111001110100100111011100000001111111001101111110001001001110000000100001101001101110001011101111111111111111010111100000000101111101001100110101110000001011011111111011100011111010011100000011100011111010011001101011000000001111101001100000001001111001000110011000011101110000011010011001111110110001011101100010110001111101011111101100010011000000101100010011100011001011000100001100000100110000000101111111000100100110000010101110111110011110101101111001111110000001110001111111000100100110110111101011111010011101100100000011100011111010011110001111011111010000100111100101001100000100000000000111000111110001000101001100111010000000101001110001111000111111011001000000101000001100010010011111111110100000000100010100111011001000000111000111110100111010011010000001011111001111110110000010001010111000110011101100011011110100000010111110100110100000111111110100111000110110111101011111011011110101111001011100101111011000111001010011000111111100010010111001011111110001000000001011111001100111110100100111010011010000011000101100011111001111100111000001101001100010000100000011100011111010011010000001011101011000000010101110101100010011111111110001000101000000101111001001101110001011101111111111111111010111100000000101111111000110001111101001100000011110101100001000000001000101101111101100100000010101111001001100110011000000010111110100111111100110001111101001111111110011011111100011111001101011110001111111000100100110000000011111010011000000010011111111100000000001000101101111000000111110011110111000111111100011101111011100011111010111110110001011001000000101001100110011010000011000101100011111010011101100000000111110011110111000111110100111111111101000000001000101001111000111110101111100110011010000011000100110111101011111011000010011000000010011001111101000000101110000100010011001111000111110100110011111111010010111101111100010000011110100001101001100010000100000011100011111010011000000111101011000010000000010001011011111011001000000101011110010011110001011000111110001000101101111111111101100011111001111101001110110010000001011011110011111010011101100000000111110011110111000111110100111111111100010001010000001011110010011101100100000011100011111010011110001111100111111011000110111101011110000000101100110001111111000100100110000010001000101000001111100000000111110001101111111101011011111011001110100100110100000000100010100111111111100010001110001111111110001011101100011111010111110011001111101001001101000001111111101001101000000011001100110011010111000010001000100011100011111010111110011001111000111110100110011000001101011110001111101101111011000100000011011000000100001001111111111010000000010001010011110001111100000000110011100000010100110000010100000001111100111110110111111111001111011100011111010011111111100000001111010101110110001111101001101000001111111101001110110010000001110001111101001100111110100000010111000010001001100111100011111010011001111111101001011110111110001000001111010000110100110111000100000001101011110001111111111110110001111100010001110000010011000000111101101100100000010100000010111001100010000001010011010000000000110110001101111010111100000001111010100110000000101111001000000101111101100001001101011110110001111110110010000001010000011000100011111010011110001111101011111001100110100000110001001101111010111110110000100110011111111010010111101111100010000011110100111110100110011111110001111100000100000000010001000000101100110001111111110111101011000001001101110001011101111111111111111010111100000000101111101001100110011010000011000100110111101011111011000010011011011110011111010011010111110100000101100010011000000111101001101011000000111010001111101001101000000000011011000110111101011110000000111101010011000000010111100100000010111110110000100110000001111011111010100110011001101000000101111000000100010001110001111100111110011111011011110100000010111110100110101111011000111111011001000000101000001100010001111100001100110100'"
      ]
     },
     "execution_count": 139,
     "metadata": {},
     "output_type": "execute_result"
    }
   ],
   "source": [
    "masked_data = huffman_encode(text, encoding)\n",
    "masked_data"
   ]
  },
  {
   "cell_type": "code",
   "execution_count": 140,
   "metadata": {},
   "outputs": [
    {
     "name": "stdout",
     "output_type": "stream",
     "text": [
      "\n",
      "In computer science, a Huffman code is a particular type of optimal prefix code that is commonly used for lossless data compression. The process of finding and/or using such a code proceeds by means of Huffman coding, an algorithm developed by David A. Huffman while he was a Sc.D. student at MIT, and published in the 1952 paper \"A Method for the Construction of Minimum-Redundancy Codes\". The output from Huffman's algorithm can be viewed as a variable-length code table for encoding a source symbol. The algorithm derives this table from the estimated probability or frequency of occurrence (weight) for each possible value of the source symbol. However, although optimal among methods encoding symbols separately, Huffman coding is not always optimal among all compression methods.\n",
      "\n"
     ]
    }
   ],
   "source": [
    "original_data = huffman_decode(masked_data, encoding)\n",
    "print(original_data)"
   ]
  },
  {
   "cell_type": "markdown",
   "metadata": {},
   "source": [
    "### trial test on Chinese character sets"
   ]
  },
  {
   "cell_type": "code",
   "execution_count": 142,
   "metadata": {},
   "outputs": [],
   "source": [
    "charset = ['怎','样','证','明','该','三','次','有','理','数','系','函','的','值','不','可','能','都','是','素']\n",
    "freq = np.random.randint(0, 100, len(charset))"
   ]
  },
  {
   "cell_type": "code",
   "execution_count": 145,
   "metadata": {},
   "outputs": [
    {
     "data": {
      "text/plain": [
       "{'三': '01010',\n",
       " '不': '011000',\n",
       " '值': '1100',\n",
       " '函': '1101',\n",
       " '可': '000',\n",
       " '怎': '101000',\n",
       " '数': '01011',\n",
       " '明': '01101',\n",
       " '是': '011001',\n",
       " '有': '0100',\n",
       " '样': '1110',\n",
       " '次': '0010',\n",
       " '理': '1001',\n",
       " '的': '10101',\n",
       " '系': '0111',\n",
       " '素': '1000',\n",
       " '能': '1111',\n",
       " '证': '1011',\n",
       " '该': '0011',\n",
       " '都': '101001'}"
      ]
     },
     "execution_count": 145,
     "metadata": {},
     "output_type": "execute_result"
    }
   ],
   "source": [
    "encoding = huffman(charset, freq)\n",
    "encoding"
   ]
  },
  {
   "cell_type": "code",
   "execution_count": 146,
   "metadata": {},
   "outputs": [],
   "source": [
    "text = '怎样证明该三次有理数系数函数的值不可能都是素数'"
   ]
  },
  {
   "cell_type": "code",
   "execution_count": 147,
   "metadata": {},
   "outputs": [
    {
     "data": {
      "text/plain": [
       "'1010001110101101101001101010001001001001010110111010111101010111010111000110000001111101001011001100001011'"
      ]
     },
     "execution_count": 147,
     "metadata": {},
     "output_type": "execute_result"
    }
   ],
   "source": [
    "masked_data = huffman_encode(text, encoding)\n",
    "masked_data"
   ]
  },
  {
   "cell_type": "code",
   "execution_count": 148,
   "metadata": {},
   "outputs": [
    {
     "name": "stdout",
     "output_type": "stream",
     "text": [
      "怎样证明该三次有理数系数函数的值不可能都是素数\n"
     ]
    }
   ],
   "source": [
    "original_data = huffman_decode(masked_data, encoding)\n",
    "print(original_data)"
   ]
  },
  {
   "cell_type": "markdown",
   "metadata": {},
   "source": [
    "### Solution for the programming assignment"
   ]
  },
  {
   "cell_type": "code",
   "execution_count": 149,
   "metadata": {},
   "outputs": [],
   "source": [
    "freq = []\n",
    "with open(\"support/huffman.txt\") as fh:\n",
    "    for line in fh.readlines():\n",
    "        freq.append(int(line.strip()))"
   ]
  },
  {
   "cell_type": "code",
   "execution_count": 150,
   "metadata": {},
   "outputs": [],
   "source": [
    "n = freq.pop(0)"
   ]
  },
  {
   "cell_type": "code",
   "execution_count": 151,
   "metadata": {},
   "outputs": [],
   "source": [
    "charset = [str(i) for i in range(n)]  # build a charset of size n"
   ]
  },
  {
   "cell_type": "code",
   "execution_count": 152,
   "metadata": {},
   "outputs": [],
   "source": [
    "encoding = huffman(charset, freq)\n",
    "encoding_length = [len(code) for code in encoding.values()]"
   ]
  },
  {
   "cell_type": "code",
   "execution_count": 153,
   "metadata": {},
   "outputs": [
    {
     "data": {
      "text/plain": [
       "19"
      ]
     },
     "execution_count": 153,
     "metadata": {},
     "output_type": "execute_result"
    }
   ],
   "source": [
    "max(encoding_length)"
   ]
  },
  {
   "cell_type": "code",
   "execution_count": 154,
   "metadata": {},
   "outputs": [
    {
     "data": {
      "text/plain": [
       "9"
      ]
     },
     "execution_count": 154,
     "metadata": {},
     "output_type": "execute_result"
    }
   ],
   "source": [
    "min(encoding_length)"
   ]
  },
  {
   "cell_type": "markdown",
   "metadata": {},
   "source": [
    "## DP - WIS in path graphs"
   ]
  },
  {
   "cell_type": "code",
   "execution_count": 131,
   "metadata": {},
   "outputs": [],
   "source": [
    "def wis(path):\n",
    "    \"\"\"\n",
    "    input:  weights of the vertices in a path graph stored in a list,\n",
    "            weights are listed in the order in which vertices appear in the path.\n",
    "    output: WIS - maximum-weight independent set, W - maximum weight\n",
    "    remark: here we find WIS = IS[1], because every step only depends on the previous 2 states,\n",
    "            but this shortcut does not work in general, a step often depends on many past states.\n",
    "            in common, to construct the optimal set in DP, we need to trace back the path in reverse order.\n",
    "    \"\"\"\n",
    "    # initialize\n",
    "    if path[0] >= path[1]:\n",
    "        MW = [path[0], path[0]]\n",
    "        IS = [[1], [1]]\n",
    "    else:\n",
    "        MW = [path[0], path[1]]  # max weight at every index\n",
    "        IS = [[1], [2]]          # optimal independent set at the previous 2 indices\n",
    "    \n",
    "    for i in range(2, len(path)):\n",
    "        if MW[i - 1] >= MW[i - 2] + path[i]:\n",
    "            MW.append(MW[i - 1])\n",
    "            IS[0] = IS[1]  # the (i+1)-th vertex not in WIS\n",
    "        else:\n",
    "            MW.append(MW[i - 2] + path[i])\n",
    "            prev = IS[1]\n",
    "            IS[1] = IS[0] + [i + 1]  # the (i+1)-th vertex in WIS\n",
    "            IS[0] = prev\n",
    "            \n",
    "    return IS[1], MW[-1]"
   ]
  },
  {
   "cell_type": "code",
   "execution_count": 132,
   "metadata": {},
   "outputs": [
    {
     "data": {
      "text/plain": [
       "1000"
      ]
     },
     "execution_count": 132,
     "metadata": {},
     "output_type": "execute_result"
    }
   ],
   "source": [
    "path = []\n",
    "with open(\"support/mwis.txt\", \"rt\") as fh:\n",
    "    for line in fh.readlines():\n",
    "        line = line.strip()\n",
    "        path.append(int(line))\n",
    "path.pop(0)"
   ]
  },
  {
   "cell_type": "code",
   "execution_count": 133,
   "metadata": {},
   "outputs": [],
   "source": [
    "WIS, W = wis(path)"
   ]
  },
  {
   "cell_type": "code",
   "execution_count": 134,
   "metadata": {},
   "outputs": [
    {
     "data": {
      "text/plain": [
       "[1, 3, 5, 8, 10, 13, 15, 18, 20, 22, 24, 26, 28, 31, 33, 36, 38, 40, 42, 44]"
      ]
     },
     "execution_count": 134,
     "metadata": {},
     "output_type": "execute_result"
    }
   ],
   "source": [
    "WIS[:20]"
   ]
  },
  {
   "cell_type": "code",
   "execution_count": 135,
   "metadata": {},
   "outputs": [
    {
     "data": {
      "text/plain": [
       "2955353732"
      ]
     },
     "execution_count": 135,
     "metadata": {},
     "output_type": "execute_result"
    }
   ],
   "source": [
    "W  # 2955353732"
   ]
  },
  {
   "cell_type": "code",
   "execution_count": 136,
   "metadata": {},
   "outputs": [],
   "source": [
    "ans = \"\"\n",
    "for num in [1, 2, 3, 4, 17, 117, 517, 997]:\n",
    "    ans += str(1 if num in WIS else 0)"
   ]
  },
  {
   "cell_type": "code",
   "execution_count": 137,
   "metadata": {},
   "outputs": [
    {
     "name": "stdout",
     "output_type": "stream",
     "text": [
      "10100110\n"
     ]
    }
   ],
   "source": [
    "print(ans)  # 10100110"
   ]
  },
  {
   "cell_type": "markdown",
   "metadata": {},
   "source": [
    "## DP - The Knapsack Problem (discrete, without repetitions)\n",
    "\n",
    "Here we are talking about the discrete knapsack problem without repetitions.  \n",
    "For fractional knapsack problem, simple greedy algorithm works fine.  "
   ]
  },
  {
   "cell_type": "markdown",
   "metadata": {},
   "source": [
    "### DP implementation for medium size dataset"
   ]
  },
  {
   "cell_type": "code",
   "execution_count": 1,
   "metadata": {},
   "outputs": [],
   "source": [
    "import numpy as np"
   ]
  },
  {
   "cell_type": "code",
   "execution_count": 11,
   "metadata": {},
   "outputs": [],
   "source": [
    "def knapsack(items, W):\n",
    "    \"\"\"\n",
    "    input:  items = [(v1, w1), (v2, w2), ...], the k-th item has value \"vk\" and weight \"wk\",\n",
    "            W = capacity of the knapsack\n",
    "    output: the optimal subset of items, and the maximum value of that set\n",
    "    time:   O(n*W)\n",
    "    \"\"\"\n",
    "    n = len(items)\n",
    "    A = np.zeros((W + 1, n + 1), dtype=int)\n",
    "    S = set()\n",
    "    \n",
    "    # 1. by recurrence, find the maximum value at each (row, col) position\n",
    "    for w in range(1, W + 1):\n",
    "        for i in range(1, n + 1):\n",
    "            item_i = items[i - 1]  # i-th item (1-indexed)\n",
    "            v_i, w_i = item_i[0], item_i[1]\n",
    "\n",
    "            if w - w_i < 0:  # i-th item overweight\n",
    "                A[w, i] = A[w, i - 1]\n",
    "            elif A[w, i - 1] >= A[w - w_i, i - 1] + v_i:  # item_i not in S\n",
    "                A[w, i] = A[w, i - 1]\n",
    "            else:  # item_i in S\n",
    "                A[w, i] = A[w - w_i, i - 1] + v_i\n",
    "\n",
    "    # 2. from the lowest rightmost position, trace back the matrix to find the optimal S\n",
    "    row, col = W, n\n",
    "    while A[row, col] > 0:\n",
    "        v, w = items[col - 1]\n",
    "        c1 = A[row, col - 1]  # case1: inherited from the left position, itm not in S\n",
    "        if row < w:  # prevent overweight\n",
    "            c2 = 0\n",
    "        else:\n",
    "            c2 = A[row - w, col - 1] + v  # case2: derived by adding itm to S\n",
    "            \n",
    "        if c1 >= c2:\n",
    "            col -= 1\n",
    "        else:\n",
    "            S.add(col)  # 1-base-indexed items\n",
    "            row -= w\n",
    "            col -= 1\n",
    "            \n",
    "    print(A)  # for debugging\n",
    "    \n",
    "    return S, A[W, n]  # lowest rightmost element"
   ]
  },
  {
   "cell_type": "code",
   "execution_count": 3,
   "metadata": {},
   "outputs": [],
   "source": [
    "items = [(3,4),(2,3),(4,2),(4,3)]\n",
    "W = 6"
   ]
  },
  {
   "cell_type": "code",
   "execution_count": 4,
   "metadata": {},
   "outputs": [
    {
     "name": "stdout",
     "output_type": "stream",
     "text": [
      "[[0 0 0 0 0]\n",
      " [0 0 0 0 0]\n",
      " [0 0 0 4 4]\n",
      " [0 0 2 4 4]\n",
      " [0 3 3 4 4]\n",
      " [0 3 3 6 8]\n",
      " [0 3 3 7 8]]\n"
     ]
    }
   ],
   "source": [
    "S, value = knapsack(items, W)"
   ]
  },
  {
   "cell_type": "code",
   "execution_count": 5,
   "metadata": {},
   "outputs": [
    {
     "data": {
      "text/plain": [
       "{3, 4}"
      ]
     },
     "execution_count": 5,
     "metadata": {},
     "output_type": "execute_result"
    }
   ],
   "source": [
    "S  # optimal subset = {item3, item4}"
   ]
  },
  {
   "cell_type": "code",
   "execution_count": 6,
   "metadata": {},
   "outputs": [
    {
     "data": {
      "text/plain": [
       "8"
      ]
     },
     "execution_count": 6,
     "metadata": {},
     "output_type": "execute_result"
    }
   ],
   "source": [
    "value  # optimal value = 8"
   ]
  },
  {
   "cell_type": "code",
   "execution_count": 12,
   "metadata": {},
   "outputs": [],
   "source": [
    "items = []\n",
    "with open(\"support/knapsack1.txt\", \"rt\") as fh:\n",
    "    for line in fh.readlines():\n",
    "        line = line.strip().split()\n",
    "        value, weight = int(line[0]), int(line[1])\n",
    "        items.append((value, weight))"
   ]
  },
  {
   "cell_type": "code",
   "execution_count": 13,
   "metadata": {},
   "outputs": [],
   "source": [
    "W, n = items.pop(0)  # W = 10000, n = 100"
   ]
  },
  {
   "cell_type": "code",
   "execution_count": 14,
   "metadata": {},
   "outputs": [],
   "source": [
    "S, value = knapsack(items, W)"
   ]
  },
  {
   "cell_type": "code",
   "execution_count": 15,
   "metadata": {},
   "outputs": [
    {
     "data": {
      "text/plain": [
       "2493893"
      ]
     },
     "execution_count": 15,
     "metadata": {},
     "output_type": "execute_result"
    }
   ],
   "source": [
    "value  # 2493893"
   ]
  },
  {
   "cell_type": "markdown",
   "metadata": {},
   "source": [
    "__WARNING__: unit test should be followed by stress test  \n",
    "\n",
    "it is extremely important to run the __STRESS TEST__ for your function. Even if you get the correct answer for the homework with your algorithm, it could still be wrong! For a variety of random inputs, please always test your function against the brute-force benchmark before moving to production."
   ]
  },
  {
   "cell_type": "code",
   "execution_count": 16,
   "metadata": {},
   "outputs": [],
   "source": [
    "items = [(1,1), (2,2), (3,3), (4,4), (5,5), (5,5), (7,7), (7,7), (8,8), (10,10), (12,12), (19,19), (25,25)]"
   ]
  },
  {
   "cell_type": "code",
   "execution_count": 17,
   "metadata": {},
   "outputs": [
    {
     "name": "stdout",
     "output_type": "stream",
     "text": [
      "{2, 3, 4, 5, 7, 8, 9}\n",
      "36\n"
     ]
    }
   ],
   "source": [
    "S, value = knapsack(items, 36)\n",
    "print(S)  # {2, 3, 4, 5, 7, 8, 9}\n",
    "print(value)  # 36"
   ]
  },
  {
   "cell_type": "markdown",
   "metadata": {},
   "source": [
    "### Recursive implementation for very large dataset"
   ]
  },
  {
   "cell_type": "code",
   "execution_count": 33,
   "metadata": {},
   "outputs": [],
   "source": [
    "def knapsack_recursive(items, i, w):\n",
    "    \"\"\" the previous iterative version takes O(n*W)-time using dynamic programming,\n",
    "        but for large n and W, the recursive version with memoization is much faster.\n",
    "        this is because, the recursive running time is independent of W.\n",
    "    \n",
    "        if recurse without memoization, running time ~ O(2^n), exponential growth.\n",
    "        if recurse with memoization, running time ~ O(n^2)?, quadratic growth.\n",
    "    \"\"\"\n",
    "    M = {}  # use a hash table for memoization, use tuple(i,w) as the key\n",
    "    \n",
    "    def recurse(items, i, w):\n",
    "        ''' A[w,i] = max(case1, case2 + v_i) = max(A[w,i-1], A[w-w_i,i-1] + v_i)\n",
    "        '''\n",
    "        nonlocal M\n",
    "        \n",
    "        if i == 0 or w <= 0:  # base case\n",
    "            M[(i, w)] = 0\n",
    "            return M[(i, w)]\n",
    "        \n",
    "        item_i = items[i - 1]\n",
    "        v_i, w_i = item_i\n",
    "        \n",
    "        if (i - 1, w) not in M:  # case1\n",
    "            M[(i - 1, w)] = recurse(items, i - 1, w)\n",
    "        \n",
    "        if (i - 1, w - w_i) not in M:  # case2\n",
    "            M[(i - 1, w - w_i)] = recurse(items, i - 1, w - w_i)\n",
    "        \n",
    "        if w - w_i < 0:  # corner case: if overweight, must choose case1\n",
    "            M[(i, w)] = M[(i - 1, w)]\n",
    "        else:\n",
    "            M[(i, w)] = max(M[(i - 1, w)], M[(i - 1, w - w_i)] + v_i)\n",
    "        \n",
    "        return M[(i, w)]\n",
    "    \n",
    "    return recurse(items, i, w)"
   ]
  },
  {
   "cell_type": "code",
   "execution_count": 34,
   "metadata": {},
   "outputs": [],
   "source": [
    "items = []\n",
    "with open(\"support/knapsack_big.txt\", \"rt\") as fh:\n",
    "    for line in fh.readlines():\n",
    "        line = line.strip().split()\n",
    "        value, weight = int(line[0]), int(line[1])\n",
    "        items.append((value, weight))"
   ]
  },
  {
   "cell_type": "code",
   "execution_count": 35,
   "metadata": {},
   "outputs": [],
   "source": [
    "W, n = items.pop(0)  # W = 2000000, n = 2000, NumPy does not support 2-D array of such large size"
   ]
  },
  {
   "cell_type": "code",
   "execution_count": 40,
   "metadata": {},
   "outputs": [],
   "source": [
    "import sys, time\n",
    "sys.setrecursionlimit(3000000)"
   ]
  },
  {
   "cell_type": "code",
   "execution_count": 41,
   "metadata": {},
   "outputs": [
    {
     "name": "stdout",
     "output_type": "stream",
     "text": [
      "max_value = 4243395 computed in 39.37341117858887 seconds\n"
     ]
    }
   ],
   "source": [
    "start_time = time.time()\n",
    "max_value = knapsack_recursive(items, n, W)  # 4243395\n",
    "end_time = time.time()\n",
    "print(\"max_value =\", max_value, \"computed in\", end_time - start_time, \"seconds\")"
   ]
  },
  {
   "cell_type": "markdown",
   "metadata": {},
   "source": [
    "### Knapsack problem with repetitions (unlimited quantity of each item)\n",
    "\n",
    "With repetitions, the subproblem and the recurrence relation are much simpler, since the `items` will not change at all. There's only 1 variation dimension - `W`, so we don't need a 2-D matrix, just use simple recursion + memoization.\n",
    "\n",
    "`value(w) = maximize { value(w - w_i) + v_i }` over each item `i`."
   ]
  },
  {
   "cell_type": "code",
   "execution_count": 7,
   "metadata": {},
   "outputs": [],
   "source": [
    "def knapsack_repeated(items, capacity):\n",
    "    \n",
    "    M = {0:0}  # use a hash table for memoization, use w as the key\n",
    "    \n",
    "    def recurse(W):\n",
    "        ''' value(w) = max{ value(w - w_i) + v_i }\n",
    "        '''\n",
    "        nonlocal M\n",
    "        \n",
    "        if W not in M:\n",
    "            for w in range(1, W + 1):\n",
    "                M[w] = 0\n",
    "                for item in items:  # allow repetitions\n",
    "                    if item[1] <= w:\n",
    "                        value = recurse(w - item[1]) + item[0]\n",
    "                        if value > M[w]:\n",
    "                            M[w] = value\n",
    "        return M[W]\n",
    "\n",
    "    return recurse(capacity)"
   ]
  },
  {
   "cell_type": "code",
   "execution_count": 8,
   "metadata": {},
   "outputs": [
    {
     "data": {
      "text/plain": [
       "48"
      ]
     },
     "execution_count": 8,
     "metadata": {},
     "output_type": "execute_result"
    }
   ],
   "source": [
    "items = [(30,6),(14,3),(16,4),(9,2)]\n",
    "knapsack_repeated(items, capacity=10)"
   ]
  },
  {
   "cell_type": "markdown",
   "metadata": {},
   "source": [
    "## DP - Sequence Alignment (Needleman-Wunsch score)\n",
    "\n",
    "A measure of the shortest distance between two strings."
   ]
  },
  {
   "cell_type": "code",
   "execution_count": 1,
   "metadata": {},
   "outputs": [],
   "source": [
    "import numpy as np"
   ]
  },
  {
   "cell_type": "code",
   "execution_count": 102,
   "metadata": {},
   "outputs": [],
   "source": [
    "def needleman_wunsch(str1, str2, alpha_g=1, alpha_m=1):\n",
    "    \"\"\"\n",
    "    input:  two strings \"str1\" and \"str2\",\n",
    "            alpha_g = penalty for a gap,\n",
    "            alpha_m = penalty for a mismatch.\n",
    "    output: print out the optimal alignment of the 2 strings that minimizes the total penalty,\n",
    "            return the corresponding minimum penalty (Needleman-Wunsch score, or the shortest distance)\n",
    "    time:   O(m*n), where m, n are the length of the 2 strings\n",
    "    remark: when alpha_g == alpha_m, the optimal alignment might not be unique,\n",
    "            but in practice, a mismatch is more costly than a gap, so when dealing with ties,\n",
    "            we would prefer a gap insertion rather than a mismatch, which also leaves\n",
    "            possibility for potential future matches.\n",
    "    \"\"\"\n",
    "    m, n = len(str1), len(str2)\n",
    "    A = np.zeros((m + 1, n + 1), dtype=int)  # minimum penalty matrix\n",
    "    S1, S2 = str(), str()\n",
    "    \n",
    "    # 0. base case\n",
    "    A[:,0] = np.dot(range(m + 1), alpha_g)\n",
    "    A[0,:] = np.dot(range(n + 1), alpha_g)\n",
    "        \n",
    "    # 1. by recurrence, find the minimum penalty at each (row, col) position\n",
    "    for i in range(1, m + 1):\n",
    "        for j in range(1, n + 1):\n",
    "            case1 = A[i - 1, j - 1] + (alpha_m if str1[i - 1] != str2[j - 1] else 0)\n",
    "            case2 = A[i - 1, j] + alpha_g\n",
    "            case3 = A[i, j - 1] + alpha_g\n",
    "            \n",
    "            A[i, j] = min(case1, case2, case3)\n",
    "    \n",
    "    # 2. trace back the matrix from the lower right corner to reconstruct the optimal alignment\n",
    "    #    if \"case1\" == \"case2 or case3\", it's a tie, a gap insertion is preferred.\n",
    "    i, j = m, n\n",
    "    while i > 0 or j > 0:\n",
    "        if i == 0:\n",
    "            S1 = '+' + S1\n",
    "            S2 = str2[j - 1] + S2\n",
    "            j -= 1\n",
    "            continue\n",
    "        elif j == 0:\n",
    "            S1 = str1[i - 1] + S1\n",
    "            S2 = '+' + S2\n",
    "            i -= 1\n",
    "            continue\n",
    "            \n",
    "        if A[i, j] == A[i - 1, j] + alpha_g:  # case2: match str1[i - 1] with a gap\n",
    "            S1 = str1[i - 1] + S1\n",
    "            S2 = '+' + S2\n",
    "            i -= 1\n",
    "        elif A[i, j] == A[i, j - 1] + alpha_g:  # case3: match str2[j - 1] with a gap\n",
    "            S1 = '+' + S1\n",
    "            S2 = str2[j - 1] + S2\n",
    "            j -= 1\n",
    "        else:  # case1: match str1[i - 1] with str2[j - 1]\n",
    "            S1 = str1[i - 1] + S1\n",
    "            S2 = str2[j - 1] + S2\n",
    "            i -= 1\n",
    "            j -= 1\n",
    "    \n",
    "    print(A)  # for debugging\n",
    "    print(S1)\n",
    "    print(S2)\n",
    "    \n",
    "    return A[m, n]"
   ]
  },
  {
   "cell_type": "code",
   "execution_count": 99,
   "metadata": {},
   "outputs": [
    {
     "name": "stdout",
     "output_type": "stream",
     "text": [
      "[[0 1 2 3 4 5]\n",
      " [1 0 1 2 3 4]\n",
      " [2 1 0 1 2 3]\n",
      " [3 2 1 0 1 2]\n",
      " [4 3 2 1 1 2]\n",
      " [5 4 3 2 1 2]\n",
      " [6 5 4 3 2 2]]\n",
      "AGGGCT\n",
      "AGG+CA\n"
     ]
    }
   ],
   "source": [
    "nw_score = needleman_wunsch('AGGGCT','AGGCA')"
   ]
  },
  {
   "cell_type": "code",
   "execution_count": 100,
   "metadata": {},
   "outputs": [
    {
     "data": {
      "text/plain": [
       "2"
      ]
     },
     "execution_count": 100,
     "metadata": {},
     "output_type": "execute_result"
    }
   ],
   "source": [
    "nw_score"
   ]
  },
  {
   "cell_type": "code",
   "execution_count": 103,
   "metadata": {},
   "outputs": [
    {
     "name": "stdout",
     "output_type": "stream",
     "text": [
      "++++apple\n",
      "pineapple\n"
     ]
    },
    {
     "data": {
      "text/plain": [
       "4"
      ]
     },
     "execution_count": 103,
     "metadata": {},
     "output_type": "execute_result"
    }
   ],
   "source": [
    "needleman_wunsch('apple','pineapple')"
   ]
  },
  {
   "cell_type": "code",
   "execution_count": 104,
   "metadata": {},
   "outputs": [
    {
     "name": "stdout",
     "output_type": "stream",
     "text": [
      "xix\n",
      "+++\n"
     ]
    },
    {
     "data": {
      "text/plain": [
       "3"
      ]
     },
     "execution_count": 104,
     "metadata": {},
     "output_type": "execute_result"
    }
   ],
   "source": [
    "needleman_wunsch('xix','')"
   ]
  },
  {
   "cell_type": "code",
   "execution_count": 105,
   "metadata": {},
   "outputs": [
    {
     "name": "stdout",
     "output_type": "stream",
     "text": [
      "pleasant++\n",
      "pre+sented\n"
     ]
    },
    {
     "data": {
      "text/plain": [
       "5"
      ]
     },
     "execution_count": 105,
     "metadata": {},
     "output_type": "execute_result"
    }
   ],
   "source": [
    "needleman_wunsch('pleasant','presented')"
   ]
  },
  {
   "cell_type": "markdown",
   "metadata": {},
   "source": [
    "## DP - Optimal Binary Search Trees"
   ]
  },
  {
   "cell_type": "code",
   "execution_count": null,
   "metadata": {},
   "outputs": [],
   "source": []
  },
  {
   "cell_type": "code",
   "execution_count": null,
   "metadata": {},
   "outputs": [],
   "source": []
  },
  {
   "cell_type": "code",
   "execution_count": null,
   "metadata": {},
   "outputs": [],
   "source": []
  },
  {
   "cell_type": "code",
   "execution_count": null,
   "metadata": {},
   "outputs": [],
   "source": []
  },
  {
   "cell_type": "code",
   "execution_count": null,
   "metadata": {},
   "outputs": [],
   "source": []
  },
  {
   "cell_type": "code",
   "execution_count": null,
   "metadata": {},
   "outputs": [],
   "source": []
  },
  {
   "cell_type": "code",
   "execution_count": null,
   "metadata": {},
   "outputs": [],
   "source": []
  },
  {
   "cell_type": "code",
   "execution_count": null,
   "metadata": {},
   "outputs": [],
   "source": []
  },
  {
   "cell_type": "code",
   "execution_count": null,
   "metadata": {},
   "outputs": [],
   "source": []
  },
  {
   "cell_type": "code",
   "execution_count": null,
   "metadata": {},
   "outputs": [],
   "source": []
  },
  {
   "cell_type": "code",
   "execution_count": null,
   "metadata": {},
   "outputs": [],
   "source": []
  },
  {
   "cell_type": "code",
   "execution_count": null,
   "metadata": {},
   "outputs": [],
   "source": []
  },
  {
   "cell_type": "code",
   "execution_count": null,
   "metadata": {},
   "outputs": [],
   "source": []
  },
  {
   "cell_type": "code",
   "execution_count": null,
   "metadata": {},
   "outputs": [],
   "source": []
  },
  {
   "cell_type": "code",
   "execution_count": null,
   "metadata": {},
   "outputs": [],
   "source": []
  },
  {
   "cell_type": "code",
   "execution_count": null,
   "metadata": {},
   "outputs": [],
   "source": []
  },
  {
   "cell_type": "code",
   "execution_count": null,
   "metadata": {},
   "outputs": [],
   "source": []
  },
  {
   "cell_type": "code",
   "execution_count": null,
   "metadata": {},
   "outputs": [],
   "source": []
  },
  {
   "cell_type": "code",
   "execution_count": null,
   "metadata": {},
   "outputs": [],
   "source": []
  },
  {
   "cell_type": "code",
   "execution_count": null,
   "metadata": {},
   "outputs": [],
   "source": []
  },
  {
   "cell_type": "code",
   "execution_count": null,
   "metadata": {},
   "outputs": [],
   "source": []
  },
  {
   "cell_type": "code",
   "execution_count": null,
   "metadata": {},
   "outputs": [],
   "source": []
  },
  {
   "cell_type": "code",
   "execution_count": null,
   "metadata": {},
   "outputs": [],
   "source": []
  },
  {
   "cell_type": "code",
   "execution_count": null,
   "metadata": {},
   "outputs": [],
   "source": []
  },
  {
   "cell_type": "code",
   "execution_count": null,
   "metadata": {},
   "outputs": [],
   "source": []
  },
  {
   "cell_type": "code",
   "execution_count": null,
   "metadata": {},
   "outputs": [],
   "source": []
  },
  {
   "cell_type": "code",
   "execution_count": null,
   "metadata": {},
   "outputs": [],
   "source": []
  },
  {
   "cell_type": "code",
   "execution_count": null,
   "metadata": {},
   "outputs": [],
   "source": []
  },
  {
   "cell_type": "code",
   "execution_count": null,
   "metadata": {},
   "outputs": [],
   "source": []
  },
  {
   "cell_type": "code",
   "execution_count": null,
   "metadata": {},
   "outputs": [],
   "source": []
  },
  {
   "cell_type": "code",
   "execution_count": null,
   "metadata": {},
   "outputs": [],
   "source": []
  },
  {
   "cell_type": "code",
   "execution_count": null,
   "metadata": {},
   "outputs": [],
   "source": []
  }
 ],
 "metadata": {
  "kernelspec": {
   "display_name": "Python 3",
   "language": "python",
   "name": "python3"
  },
  "language_info": {
   "codemirror_mode": {
    "name": "ipython",
    "version": 3
   },
   "file_extension": ".py",
   "mimetype": "text/x-python",
   "name": "python",
   "nbconvert_exporter": "python",
   "pygments_lexer": "ipython3",
   "version": "3.5.2"
  },
  "toc": {
   "base_numbering": 1,
   "nav_menu": {},
   "number_sections": true,
   "sideBar": true,
   "skip_h1_title": false,
   "title_cell": "Table of Contents",
   "title_sidebar": "Contents",
   "toc_cell": false,
   "toc_position": {
    "height": "calc(100% - 180px)",
    "left": "10px",
    "top": "150px",
    "width": "478.2px"
   },
   "toc_section_display": true,
   "toc_window_display": true
  }
 },
 "nbformat": 4,
 "nbformat_minor": 2
}
